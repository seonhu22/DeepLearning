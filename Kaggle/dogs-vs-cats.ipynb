{
 "cells": [
  {
   "cell_type": "code",
   "execution_count": 1,
   "metadata": {
    "_cell_guid": "b1076dfc-b9ad-4769-8c92-a6c4dae69d19",
    "_uuid": "8f2839f25d086af736a60e9eeb907d3b93b6e0e5",
    "execution": {
     "iopub.execute_input": "2021-01-12T01:08:21.825973Z",
     "iopub.status.busy": "2021-01-12T01:08:21.825045Z",
     "iopub.status.idle": "2021-01-12T01:08:21.830186Z",
     "shell.execute_reply": "2021-01-12T01:08:21.829480Z"
    },
    "papermill": {
     "duration": 0.021188,
     "end_time": "2021-01-12T01:08:21.830284",
     "exception": false,
     "start_time": "2021-01-12T01:08:21.809096",
     "status": "completed"
    },
    "tags": []
   },
   "outputs": [
    {
     "name": "stdout",
     "output_type": "stream",
     "text": [
      "/kaggle/input/dogs-vs-cats/test1.zip\n",
      "/kaggle/input/dogs-vs-cats/train.zip\n",
      "/kaggle/input/dogs-vs-cats/sampleSubmission.csv\n"
     ]
    }
   ],
   "source": [
    "# This Python 3 environment comes with many helpful analytics libraries installed\n",
    "# It is defined by the kaggle/python Docker image: https://github.com/kaggle/docker-python\n",
    "# For example, here's several helpful packages to load\n",
    "\n",
    "import numpy as np # linear algebra\n",
    "import pandas as pd # data processing, CSV file I/O (e.g. pd.read_csv)\n",
    "\n",
    "# Input data files are available in the read-only \"../input/\" directory\n",
    "# For example, running this (by clicking run or pressing Shift+Enter) will list all files under the input directory\n",
    "\n",
    "import os\n",
    "for dirname, _, filenames in os.walk('/kaggle/input'):\n",
    "    for filename in filenames:\n",
    "        print(os.path.join(dirname, filename))\n",
    "\n",
    "# You can write up to 20GB to the current directory (/kaggle/working/) that gets preserved as output when you create a version using \"Save & Run All\" \n",
    "# You can also write temporary files to /kaggle/temp/, but they won't be saved outside of the current session"
   ]
  },
  {
   "cell_type": "code",
   "execution_count": 2,
   "metadata": {
    "execution": {
     "iopub.execute_input": "2021-01-12T01:08:21.850738Z",
     "iopub.status.busy": "2021-01-12T01:08:21.850161Z",
     "iopub.status.idle": "2021-01-12T01:08:39.770664Z",
     "shell.execute_reply": "2021-01-12T01:08:39.769742Z"
    },
    "papermill": {
     "duration": 17.932003,
     "end_time": "2021-01-12T01:08:39.770804",
     "exception": false,
     "start_time": "2021-01-12T01:08:21.838801",
     "status": "completed"
    },
    "tags": []
   },
   "outputs": [],
   "source": [
    "# read train.zip dataset and test1.zip dataset\n",
    "import zipfile as Zip\n",
    "\n",
    "Zip.ZipFile('/kaggle/input/dogs-vs-cats/train.zip').extractall()\n",
    "Zip.ZipFile('/kaggle/input/dogs-vs-cats/test1.zip').extractall()"
   ]
  },
  {
   "cell_type": "code",
   "execution_count": 3,
   "metadata": {
    "execution": {
     "iopub.execute_input": "2021-01-12T01:08:39.797274Z",
     "iopub.status.busy": "2021-01-12T01:08:39.796442Z",
     "iopub.status.idle": "2021-01-12T01:08:42.416833Z",
     "shell.execute_reply": "2021-01-12T01:08:42.416175Z"
    },
    "papermill": {
     "duration": 2.637858,
     "end_time": "2021-01-12T01:08:42.417009",
     "exception": false,
     "start_time": "2021-01-12T01:08:39.779151",
     "status": "completed"
    },
    "tags": []
   },
   "outputs": [
    {
     "name": "stdout",
     "output_type": "stream",
     "text": [
      "mv: cannot move 'cats' to a subdirectory of itself, 'cats/cats'\r\n",
      "mv: cannot move 'dogs' to a subdirectory of itself, 'dogs/dogs'\r\n"
     ]
    }
   ],
   "source": [
    "# optimize train dataset\n",
    "!cd '/kaggle/working/train'; mkdir dogs; mkdir cats\n",
    "\n",
    "!cd '/kaggle/working/train'; ls | grep -e cat | xargs mv -t cats\n",
    "!cd '/kaggle/working/train'; ls | grep -e dog | xargs mv -t dogs"
   ]
  },
  {
   "cell_type": "code",
   "execution_count": 4,
   "metadata": {
    "execution": {
     "iopub.execute_input": "2021-01-12T01:08:44.086611Z",
     "iopub.status.busy": "2021-01-12T01:08:44.085288Z",
     "iopub.status.idle": "2021-01-12T01:08:44.760074Z",
     "shell.execute_reply": "2021-01-12T01:08:44.759105Z"
    },
    "papermill": {
     "duration": 2.333608,
     "end_time": "2021-01-12T01:08:44.760193",
     "exception": false,
     "start_time": "2021-01-12T01:08:42.426585",
     "status": "completed"
    },
    "tags": []
   },
   "outputs": [
    {
     "name": "stdout",
     "output_type": "stream",
     "text": [
      "total 1512\r\n",
      "drwxr-xr-x 4 root root 761856 Jan 12 01:08 .\r\n",
      "drwxr-xr-x 4 root root   4096 Jan 12 01:08 ..\r\n",
      "drwxr-xr-x 2 root root 385024 Jan 12 01:08 cats\r\n",
      "drwxr-xr-x 2 root root 397312 Jan 12 01:08 dogs\r\n"
     ]
    }
   ],
   "source": [
    "# check train dataset directory\n",
    "!ls /kaggle/working/train -la"
   ]
  },
  {
   "cell_type": "code",
   "execution_count": 5,
   "metadata": {
    "execution": {
     "iopub.execute_input": "2021-01-12T01:08:44.787129Z",
     "iopub.status.busy": "2021-01-12T01:08:44.786513Z",
     "iopub.status.idle": "2021-01-12T01:08:51.045571Z",
     "shell.execute_reply": "2021-01-12T01:08:51.046681Z"
    },
    "papermill": {
     "duration": 6.27678,
     "end_time": "2021-01-12T01:08:51.046851",
     "exception": false,
     "start_time": "2021-01-12T01:08:44.770071",
     "status": "completed"
    },
    "tags": []
   },
   "outputs": [
    {
     "name": "stdout",
     "output_type": "stream",
     "text": [
      "Found 20000 images belonging to 2 classes.\n",
      "Found 5000 images belonging to 2 classes.\n",
      "Found 12500 images belonging to 1 classes.\n"
     ]
    }
   ],
   "source": [
    "from keras.preprocessing.image import ImageDataGenerator\n",
    "\n",
    "generator = ImageDataGenerator(rescale = 1/255., validation_split = 0.2)\n",
    "\n",
    "train_gen = generator.flow_from_directory('/kaggle/working/train', target_size = (64, 64), batch_size = 16, class_mode = 'binary', subset = 'training')\n",
    "valid_gen = generator.flow_from_directory('/kaggle/working/train', target_size = (64, 64), batch_size = 16, class_mode = 'binary', subset = 'validation')\n",
    "test_gen = generator.flow_from_directory('/kaggle/working', target_size = (64, 64), batch_size = 16, classes = ['test1'])"
   ]
  },
  {
   "cell_type": "code",
   "execution_count": 6,
   "metadata": {
    "execution": {
     "iopub.execute_input": "2021-01-12T01:08:51.074230Z",
     "iopub.status.busy": "2021-01-12T01:08:51.073625Z",
     "iopub.status.idle": "2021-01-12T01:08:51.173008Z",
     "shell.execute_reply": "2021-01-12T01:08:51.172427Z"
    },
    "papermill": {
     "duration": 0.11508,
     "end_time": "2021-01-12T01:08:51.173125",
     "exception": false,
     "start_time": "2021-01-12T01:08:51.058045",
     "status": "completed"
    },
    "tags": []
   },
   "outputs": [
    {
     "data": {
      "text/plain": [
       "((16, 64, 64, 3), (16, 1), (16, 64, 64, 3), (16, 1))"
      ]
     },
     "execution_count": 6,
     "metadata": {},
     "output_type": "execute_result"
    }
   ],
   "source": [
    "# check the shape\n",
    "x_train, y_train = next(train_gen)\n",
    "x_test, y_test = next(test_gen)\n",
    "y_train = y_train.reshape((y_train.shape[0], 1))\n",
    "\n",
    "x_train.shape, y_train.shape, x_test.shape, y_test.shape"
   ]
  },
  {
   "cell_type": "code",
   "execution_count": 7,
   "metadata": {
    "execution": {
     "iopub.execute_input": "2021-01-12T01:08:51.213404Z",
     "iopub.status.busy": "2021-01-12T01:08:51.212760Z",
     "iopub.status.idle": "2021-01-12T01:08:54.087817Z",
     "shell.execute_reply": "2021-01-12T01:08:54.087013Z"
    },
    "papermill": {
     "duration": 2.90164,
     "end_time": "2021-01-12T01:08:54.087989",
     "exception": false,
     "start_time": "2021-01-12T01:08:51.186349",
     "status": "completed"
    },
    "tags": []
   },
   "outputs": [
    {
     "name": "stdout",
     "output_type": "stream",
     "text": [
      "Model: \"sequential\"\n",
      "_________________________________________________________________\n",
      "Layer (type)                 Output Shape              Param #   \n",
      "=================================================================\n",
      "conv2d (Conv2D)              (None, 64, 64, 32)        864       \n",
      "_________________________________________________________________\n",
      "batch_normalization (BatchNo (None, 64, 64, 32)        128       \n",
      "_________________________________________________________________\n",
      "activation (Activation)      (None, 64, 64, 32)        0         \n",
      "_________________________________________________________________\n",
      "conv2d_1 (Conv2D)            (None, 64, 64, 32)        9216      \n",
      "_________________________________________________________________\n",
      "batch_normalization_1 (Batch (None, 64, 64, 32)        128       \n",
      "_________________________________________________________________\n",
      "activation_1 (Activation)    (None, 64, 64, 32)        0         \n",
      "_________________________________________________________________\n",
      "max_pooling2d (MaxPooling2D) (None, 32, 32, 32)        0         \n",
      "_________________________________________________________________\n",
      "conv2d_2 (Conv2D)            (None, 32, 32, 64)        18432     \n",
      "_________________________________________________________________\n",
      "batch_normalization_2 (Batch (None, 32, 32, 64)        256       \n",
      "_________________________________________________________________\n",
      "activation_2 (Activation)    (None, 32, 32, 64)        0         \n",
      "_________________________________________________________________\n",
      "conv2d_3 (Conv2D)            (None, 32, 32, 64)        36864     \n",
      "_________________________________________________________________\n",
      "batch_normalization_3 (Batch (None, 32, 32, 64)        256       \n",
      "_________________________________________________________________\n",
      "activation_3 (Activation)    (None, 32, 32, 64)        0         \n",
      "_________________________________________________________________\n",
      "max_pooling2d_1 (MaxPooling2 (None, 16, 16, 64)        0         \n",
      "_________________________________________________________________\n",
      "flatten (Flatten)            (None, 16384)             0         \n",
      "_________________________________________________________________\n",
      "dense (Dense)                (None, 512)               8389120   \n",
      "_________________________________________________________________\n",
      "dropout (Dropout)            (None, 512)               0         \n",
      "_________________________________________________________________\n",
      "dense_1 (Dense)              (None, 1)                 513       \n",
      "=================================================================\n",
      "Total params: 8,455,777\n",
      "Trainable params: 8,455,393\n",
      "Non-trainable params: 384\n",
      "_________________________________________________________________\n",
      "None\n"
     ]
    }
   ],
   "source": [
    "# build model\n",
    "from keras.layers import *\n",
    "from keras.models import *\n",
    "import numpy as np\n",
    "\n",
    "def build_model():\n",
    "    model = Sequential()\n",
    "\n",
    "    model.add(Conv2D(input_shape = (64, 64, 3), filters = 32, kernel_size = (3, 3), padding = 'same', kernel_initializer = 'he_normal', use_bias = False))\n",
    "    model.add(BatchNormalization())\n",
    "    model.add(Activation('relu'))\n",
    "    model.add(Conv2D(filters = 32, kernel_size = (3, 3), padding = 'same', kernel_initializer = 'he_normal', use_bias = False))\n",
    "    model.add(BatchNormalization())\n",
    "    model.add(Activation('relu'))\n",
    "    model.add(MaxPooling2D(pool_size = (2, 2))) # pool_size = 전체 크기를 절반으로 줄임\n",
    "\n",
    "    model.add(Conv2D(filters = 64, kernel_size = (3, 3), padding = 'same', kernel_initializer = 'he_normal', use_bias = False))\n",
    "    model.add(BatchNormalization())\n",
    "    model.add(Activation('relu'))   \n",
    "    model.add(Conv2D(filters = 64, kernel_size = (3, 3), padding = 'same', kernel_initializer = 'he_normal', use_bias = False))\n",
    "    model.add(BatchNormalization())\n",
    "    model.add(Activation('relu'))\n",
    "    model.add(MaxPooling2D(pool_size = (2, 2)))\n",
    "\n",
    "    model.add(Flatten())\n",
    "    model.add(Dense(512, activation = 'relu', kernel_initializer = 'he_normal'))\n",
    "    model.add(Dropout(0.5))\n",
    "    model.add(Dense(1, activation = 'sigmoid', kernel_initializer = 'he_normal'))\n",
    "\n",
    "    return model\n",
    "\n",
    "model = build_model()\n",
    "print(model.summary())"
   ]
  },
  {
   "cell_type": "code",
   "execution_count": 8,
   "metadata": {
    "execution": {
     "iopub.execute_input": "2021-01-12T01:08:54.118537Z",
     "iopub.status.busy": "2021-01-12T01:08:54.117821Z",
     "iopub.status.idle": "2021-01-12T01:08:54.122606Z",
     "shell.execute_reply": "2021-01-12T01:08:54.122032Z"
    },
    "papermill": {
     "duration": 0.022467,
     "end_time": "2021-01-12T01:08:54.122697",
     "exception": false,
     "start_time": "2021-01-12T01:08:54.100230",
     "status": "completed"
    },
    "tags": []
   },
   "outputs": [],
   "source": [
    "# if val_loss will not imporve consecutive 10 times(patience = 5), epochs will be stopped\n",
    "from keras.callbacks import EarlyStopping, ModelCheckpoint\n",
    "\n",
    "es = EarlyStopping(monitor = 'val_loss', mode = 'min', verbose = 1, patience = 5)\n",
    "mc = ModelCheckpoint('check.h5', monitor = 'val_binary_accuracy', mode = 'max', verbose = 1, save_best_only=True)"
   ]
  },
  {
   "cell_type": "code",
   "execution_count": 9,
   "metadata": {
    "execution": {
     "iopub.execute_input": "2021-01-12T01:08:54.160737Z",
     "iopub.status.busy": "2021-01-12T01:08:54.159075Z",
     "iopub.status.idle": "2021-01-12T01:30:05.438439Z",
     "shell.execute_reply": "2021-01-12T01:30:05.439854Z"
    },
    "papermill": {
     "duration": 1271.305229,
     "end_time": "2021-01-12T01:30:05.440082",
     "exception": false,
     "start_time": "2021-01-12T01:08:54.134853",
     "status": "completed"
    },
    "tags": []
   },
   "outputs": [
    {
     "name": "stdout",
     "output_type": "stream",
     "text": [
      "Epoch 1/200\n",
      "1250/1250 [==============================] - ETA: 0s - loss: 0.6587 - binary_accuracy: 0.6340\n",
      "Epoch 00001: val_binary_accuracy improved from -inf to 0.68440, saving model to check.h5\n",
      "1250/1250 [==============================] - 65s 52ms/step - loss: 0.6587 - binary_accuracy: 0.6340 - val_loss: 0.5873 - val_binary_accuracy: 0.6844\n",
      "Epoch 2/200\n",
      "1250/1250 [==============================] - ETA: 0s - loss: 0.5784 - binary_accuracy: 0.6906\n",
      "Epoch 00002: val_binary_accuracy improved from 0.68440 to 0.71660, saving model to check.h5\n",
      "1250/1250 [==============================] - 64s 51ms/step - loss: 0.5784 - binary_accuracy: 0.6906 - val_loss: 0.5494 - val_binary_accuracy: 0.7166\n",
      "Epoch 3/200\n",
      "1249/1250 [============================>.] - ETA: 0s - loss: 0.5415 - binary_accuracy: 0.7218\n",
      "Epoch 00003: val_binary_accuracy improved from 0.71660 to 0.73460, saving model to check.h5\n",
      "1250/1250 [==============================] - 64s 51ms/step - loss: 0.5416 - binary_accuracy: 0.7216 - val_loss: 0.5255 - val_binary_accuracy: 0.7346\n",
      "Epoch 4/200\n",
      "1250/1250 [==============================] - ETA: 0s - loss: 0.5141 - binary_accuracy: 0.7434\n",
      "Epoch 00004: val_binary_accuracy improved from 0.73460 to 0.74700, saving model to check.h5\n",
      "1250/1250 [==============================] - 64s 51ms/step - loss: 0.5141 - binary_accuracy: 0.7434 - val_loss: 0.5073 - val_binary_accuracy: 0.7470\n",
      "Epoch 5/200\n",
      "1250/1250 [==============================] - ETA: 0s - loss: 0.4871 - binary_accuracy: 0.7610\n",
      "Epoch 00005: val_binary_accuracy did not improve from 0.74700\n",
      "1250/1250 [==============================] - 64s 51ms/step - loss: 0.4871 - binary_accuracy: 0.7610 - val_loss: 0.5019 - val_binary_accuracy: 0.7466\n",
      "Epoch 6/200\n",
      "1250/1250 [==============================] - ETA: 0s - loss: 0.4600 - binary_accuracy: 0.7795\n",
      "Epoch 00006: val_binary_accuracy improved from 0.74700 to 0.76920, saving model to check.h5\n",
      "1250/1250 [==============================] - 65s 52ms/step - loss: 0.4600 - binary_accuracy: 0.7795 - val_loss: 0.4834 - val_binary_accuracy: 0.7692\n",
      "Epoch 7/200\n",
      "1250/1250 [==============================] - ETA: 0s - loss: 0.4409 - binary_accuracy: 0.7936\n",
      "Epoch 00007: val_binary_accuracy improved from 0.76920 to 0.77220, saving model to check.h5\n",
      "1250/1250 [==============================] - 65s 52ms/step - loss: 0.4409 - binary_accuracy: 0.7936 - val_loss: 0.4719 - val_binary_accuracy: 0.7722\n",
      "Epoch 8/200\n",
      "1249/1250 [============================>.] - ETA: 0s - loss: 0.4216 - binary_accuracy: 0.8060\n",
      "Epoch 00008: val_binary_accuracy did not improve from 0.77220\n",
      "1250/1250 [==============================] - 66s 53ms/step - loss: 0.4215 - binary_accuracy: 0.8061 - val_loss: 0.4700 - val_binary_accuracy: 0.7672\n",
      "Epoch 9/200\n",
      "1249/1250 [============================>.] - ETA: 0s - loss: 0.3996 - binary_accuracy: 0.8173\n",
      "Epoch 00009: val_binary_accuracy improved from 0.77220 to 0.77660, saving model to check.h5\n",
      "1250/1250 [==============================] - 66s 52ms/step - loss: 0.3996 - binary_accuracy: 0.8173 - val_loss: 0.4588 - val_binary_accuracy: 0.7766\n",
      "Epoch 10/200\n",
      "1250/1250 [==============================] - ETA: 0s - loss: 0.3784 - binary_accuracy: 0.8309\n",
      "Epoch 00010: val_binary_accuracy did not improve from 0.77660\n",
      "1250/1250 [==============================] - 66s 53ms/step - loss: 0.3784 - binary_accuracy: 0.8309 - val_loss: 0.4562 - val_binary_accuracy: 0.7766\n",
      "Epoch 11/200\n",
      "1250/1250 [==============================] - ETA: 0s - loss: 0.3612 - binary_accuracy: 0.8415\n",
      "Epoch 00011: val_binary_accuracy improved from 0.77660 to 0.78840, saving model to check.h5\n",
      "1250/1250 [==============================] - 81s 65ms/step - loss: 0.3612 - binary_accuracy: 0.8415 - val_loss: 0.4526 - val_binary_accuracy: 0.7884\n",
      "Epoch 12/200\n",
      "1250/1250 [==============================] - ETA: 0s - loss: 0.3430 - binary_accuracy: 0.8523\n",
      "Epoch 00012: val_binary_accuracy improved from 0.78840 to 0.78880, saving model to check.h5\n",
      "1250/1250 [==============================] - 66s 53ms/step - loss: 0.3430 - binary_accuracy: 0.8523 - val_loss: 0.4485 - val_binary_accuracy: 0.7888\n",
      "Epoch 13/200\n",
      "1249/1250 [============================>.] - ETA: 0s - loss: 0.3241 - binary_accuracy: 0.8605\n",
      "Epoch 00013: val_binary_accuracy did not improve from 0.78880\n",
      "1250/1250 [==============================] - 66s 53ms/step - loss: 0.3240 - binary_accuracy: 0.8605 - val_loss: 0.4542 - val_binary_accuracy: 0.7836\n",
      "Epoch 14/200\n",
      "1250/1250 [==============================] - ETA: 0s - loss: 0.3125 - binary_accuracy: 0.8681\n",
      "Epoch 00014: val_binary_accuracy improved from 0.78880 to 0.79240, saving model to check.h5\n",
      "1250/1250 [==============================] - 67s 53ms/step - loss: 0.3125 - binary_accuracy: 0.8681 - val_loss: 0.4419 - val_binary_accuracy: 0.7924\n",
      "Epoch 15/200\n",
      "1250/1250 [==============================] - ETA: 0s - loss: 0.2924 - binary_accuracy: 0.8781\n",
      "Epoch 00015: val_binary_accuracy did not improve from 0.79240\n",
      "1250/1250 [==============================] - 67s 54ms/step - loss: 0.2924 - binary_accuracy: 0.8781 - val_loss: 0.4438 - val_binary_accuracy: 0.7838\n",
      "Epoch 16/200\n",
      "1250/1250 [==============================] - ETA: 0s - loss: 0.2766 - binary_accuracy: 0.8866\n",
      "Epoch 00016: val_binary_accuracy improved from 0.79240 to 0.79780, saving model to check.h5\n",
      "1250/1250 [==============================] - 67s 54ms/step - loss: 0.2766 - binary_accuracy: 0.8866 - val_loss: 0.4437 - val_binary_accuracy: 0.7978\n",
      "Epoch 17/200\n",
      "1249/1250 [============================>.] - ETA: 0s - loss: 0.2626 - binary_accuracy: 0.8928\n",
      "Epoch 00017: val_binary_accuracy did not improve from 0.79780\n",
      "1250/1250 [==============================] - 65s 52ms/step - loss: 0.2626 - binary_accuracy: 0.8927 - val_loss: 0.4455 - val_binary_accuracy: 0.7900\n",
      "Epoch 18/200\n",
      "1250/1250 [==============================] - ETA: 0s - loss: 0.2459 - binary_accuracy: 0.9015\n",
      "Epoch 00018: val_binary_accuracy improved from 0.79780 to 0.79900, saving model to check.h5\n",
      "1250/1250 [==============================] - 68s 55ms/step - loss: 0.2459 - binary_accuracy: 0.9015 - val_loss: 0.4464 - val_binary_accuracy: 0.7990\n",
      "Epoch 19/200\n",
      "1249/1250 [============================>.] - ETA: 0s - loss: 0.2284 - binary_accuracy: 0.9127\n",
      "Epoch 00019: val_binary_accuracy did not improve from 0.79900\n",
      "1250/1250 [==============================] - 70s 56ms/step - loss: 0.2285 - binary_accuracy: 0.9126 - val_loss: 0.4421 - val_binary_accuracy: 0.7990\n",
      "Epoch 00019: early stopping\n"
     ]
    }
   ],
   "source": [
    "from keras.optimizers import SGD\n",
    "\n",
    "model.compile(loss = 'binary_crossentropy', optimizer = SGD(lr=0.0001, momentum = 0.9, nesterov = True), metrics = ['binary_accuracy'])\n",
    "history = model.fit(train_gen, epochs = 200, callbacks = [es, mc], batch_size = 8, steps_per_epoch = len(train_gen), validation_data = valid_gen)"
   ]
  },
  {
   "cell_type": "code",
   "execution_count": 10,
   "metadata": {
    "execution": {
     "iopub.execute_input": "2021-01-12T01:30:15.450761Z",
     "iopub.status.busy": "2021-01-12T01:30:15.450169Z",
     "iopub.status.idle": "2021-01-12T01:30:15.766445Z",
     "shell.execute_reply": "2021-01-12T01:30:15.767273Z"
    },
    "papermill": {
     "duration": 5.211652,
     "end_time": "2021-01-12T01:30:15.767448",
     "exception": false,
     "start_time": "2021-01-12T01:30:10.555796",
     "status": "completed"
    },
    "tags": []
   },
   "outputs": [
    {
     "data": {
      "image/png": "[encoded data removed]",
      "text/plain": [
       "<Figure size 432x288 with 1 Axes>"
      ]
     },
     "metadata": {
      "needs_background": "light"
     },
     "output_type": "display_data"
    }
   ],
   "source": [
    "# check result on graph\n",
    "import matplotlib.pyplot as plt\n",
    "\n",
    "loss = history.history['loss']\n",
    "acc = history.history['binary_accuracy']\n",
    "val_loss = history.history['val_loss']\n",
    "val_acc = history.history['val_binary_accuracy']\n",
    "\n",
    "plt.plot(loss, label= 'loss')\n",
    "plt.plot(acc, label= 'binary_accuracy')\n",
    "plt.plot(val_loss, label= 'val_loss')\n",
    "plt.plot(val_acc, label= 'val_binary_accuracy')\n",
    "\n",
    "plt.legend()\n",
    "plt.show()"
   ]
  }
 ],
 "metadata": {
  "kernelspec": {
   "display_name": "Python 3",
   "language": "python",
   "name": "python3"
  },
  "language_info": {
   "codemirror_mode": {
    "name": "ipython",
    "version": 3
   },
   "file_extension": ".py",
   "mimetype": "text/x-python",
   "name": "python",
   "nbconvert_exporter": "python",
   "pygments_lexer": "ipython3",
   "version": "3.7.6"
  },
  "papermill": {
   "duration": 1325.227498,
   "end_time": "2021-01-12T01:30:22.698497",
   "environment_variables": {},
   "exception": null,
   "input_path": "__notebook__.ipynb",
   "output_path": "__notebook__.ipynb",
   "parameters": {},
   "start_time": "2021-01-12T01:08:17.470999",
   "version": "2.1.0"
  }
 },
 "nbformat": 4,
 "nbformat_minor": 4
}
