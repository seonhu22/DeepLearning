{
 "cells": [
  {
   "cell_type": "code",
   "execution_count": 11,
   "metadata": {
    "collapsed": true
   },
   "outputs": [],
   "source": [
    "import requests\n",
    "import xmltodict\n",
    "import datetime\n",
    "import pandas as pd\n",
    "import glob\n",
    "import re"
   ]
  },
  {
   "cell_type": "code",
   "execution_count": 12,
   "outputs": [
    {
     "data": {
      "text/plain": "'20210512'"
     },
     "execution_count": 12,
     "metadata": {},
     "output_type": "execute_result"
    }
   ],
   "source": [
    "# 현재 날짜 확인\n",
    "now = datetime.datetime.now()\n",
    "nowDate = now.strftime('%Y%m%d')\n",
    "\n",
    "nowDate"
   ],
   "metadata": {
    "collapsed": false,
    "pycharm": {
     "name": "#%%\n"
    }
   }
  },
  {
   "cell_type": "code",
   "execution_count": 13,
   "outputs": [
    {
     "data": {
      "text/plain": "('20210418',\n 'covid19_20210418_all.csv',\n '20210418',\n 'covid19_20210418_part.csv')"
     },
     "execution_count": 13,
     "metadata": {},
     "output_type": "execute_result"
    }
   ],
   "source": [
    "# 현재 디렉토리에 있는 가장 최신 파일 날짜 확인\n",
    "ls_all = glob.glob(\"./dataset/all/*.csv\")\n",
    "if not ls_all:\n",
    "    oldDate_all = '20200101'\n",
    "else:\n",
    "    ls_all.sort()\n",
    "    oldDate_all = ls_all[-1][22:-8]\n",
    "    oldDate_csv_all = ls_all[-1][14:]\n",
    "\n",
    "ls_part = glob.glob(\"./dataset/part/*.csv\")\n",
    "if not ls_part:\n",
    "    oldDate_part = '20200101'\n",
    "else:\n",
    "    ls_part.sort()\n",
    "    oldDate_part = ls_part[-1][23:-9]\n",
    "    oldDate_csv_part = ls_part[-1][15:]\n",
    "\n",
    "oldDate_all, oldDate_csv_all, oldDate_part, oldDate_csv_part\n",
    "\n",
    "# all: 전국 통합, part: 시, 도 분할"
   ],
   "metadata": {
    "collapsed": false,
    "pycharm": {
     "name": "#%%\n"
    }
   }
  },
  {
   "cell_type": "code",
   "execution_count": 14,
   "outputs": [],
   "source": [
    "# 현재 날짜부터 디렉토리에 있는 가장 최신 파일 날짜까지 데이터 다운로드\n",
    "url_base_all = 'http://openapi.data.go.kr/openapi/service/rest/Covid19/getCovid19InfStateJson'\n",
    "url_base_part = 'http://openapi.data.go.kr/openapi/service/rest/Covid19/getCovid19SidoInfStateJson'\n",
    "url_serviceKey = 'j8RHAoYLh5NFcdYjbRbdSoOGiuOeHwQZZaU3Mqu78SUYGddoObBnh0Xx3o%2BVPFtZhz5hZaQOf%2B9dMFljJK%2BpLQ%3D%3D'\n",
    "url_pages = '1000'\n",
    "url_start_date_all = oldDate_all\n",
    "url_start_date_part = oldDate_part\n",
    "url_end_date = nowDate\n",
    "url_all = url_base_all + '?serviceKey=' + url_serviceKey + '&pageNo=1&numOfRows=' + url_pages + '&startCreateDt=' + url_start_date_all + '&endCreateDt=' + url_end_date\n",
    "url_part = url_base_part + '?serviceKey=' + url_serviceKey + '&pageNo=1&numOfRows=' + url_pages + '&startCreateDt=' + url_start_date_part + '&endCreateDt=' + url_end_date"
   ],
   "metadata": {
    "collapsed": false,
    "pycharm": {
     "name": "#%%인\n"
    }
   }
  },
  {
   "cell_type": "code",
   "execution_count": 15,
   "outputs": [],
   "source": [
    "req_all = requests.get(url_all).content\n",
    "req_part = requests.get(url_part).content\n",
    "xmlObject_all = xmltodict.parse(req_all)\n",
    "xmlObject_part = xmltodict.parse(req_part)\n",
    "dict_data_all = xmlObject_all['response']['body']['items']['item']\n",
    "dict_data_part = xmlObject_part['response']['body']['items']['item']"
   ],
   "metadata": {
    "collapsed": false,
    "pycharm": {
     "name": "#%%\n"
    }
   }
  },
  {
   "cell_type": "code",
   "execution_count": 16,
   "outputs": [],
   "source": [
    "df_new_all = pd.DataFrame(dict_data_all)\n",
    "df_new_part = pd.DataFrame(dict_data_part)"
   ],
   "metadata": {
    "collapsed": false,
    "pycharm": {
     "name": "#%%\n"
    }
   }
  },
  {
   "cell_type": "code",
   "execution_count": 17,
   "outputs": [
    {
     "data": {
      "text/plain": "                    createDt deathCnt  defCnt gubun gubunCn           gubunEn  \\\n0     2021-05-12 09:51:43.26        4    3617    검역     隔離區         Lazaretto   \n1     2021-05-12 09:51:43.26        1     829    제주      济州              Jeju   \n2     2021-05-12 09:51:43.26       19    4284    경남      庆南  Gyeongsangnam-do   \n3     2021-05-12 09:51:43.26       79    4359    경북      庆北  Gyeongsangbuk-do   \n4    2021-05-12 09:51:43.259       11    1195    전남      全南      Jeollanam-do   \n..                       ...      ...     ...   ...     ...               ...   \n470  2021-04-18 09:33:43.425       58    5477    인천      仁川           Incheon   \n471  2021-04-18 09:33:43.425      219    9152    대구      大邱             Daegu   \n472  2021-04-18 09:33:43.424      121    4644    부산      釜山             Busan   \n473  2021-04-18 09:33:43.424      443   35492    서울      首尔             Seoul   \n474  2021-04-18 09:33:43.424     1797  114115    합계      合计             Total   \n\n    incDec isolClearCnt isolIngCnt localOccCnt overFlowCnt qurRate   seq  \\\n0       13         3434        179           0          13       -  9469   \n1       13          708        120          13           0  123.59  9468   \n2       16         3955        310          15           1  127.45  9467   \n3        7         3992        288           7           0  163.72  9466   \n4       17         1028        156          17           0   64.08  9465   \n..     ...          ...        ...         ...         ...     ...   ...   \n470     19         5154        265          19           0  185.28  8942   \n471     13         8809        124          13           0  375.62  8941   \n472     31         3959        564          30           1  136.12  8940   \n473    205        32377       2672         202           3  364.64  8939   \n474    672       104006       8312         649          23  220.10  8938   \n\n       stdDay updateDt  \n0    20210512     null  \n1    20210512     null  \n2    20210512     null  \n3    20210512     null  \n4    20210512     null  \n..        ...      ...  \n470  20210418     null  \n471  20210418     null  \n472  20210418     null  \n473  20210418     null  \n474  20210418     null  \n\n[475 rows x 15 columns]",
      "text/html": "<div>\n<style scoped>\n    .dataframe tbody tr th:only-of-type {\n        vertical-align: middle;\n    }\n\n    .dataframe tbody tr th {\n        vertical-align: top;\n    }\n\n    .dataframe thead th {\n        text-align: right;\n    }\n</style>\n<table border=\"1\" class=\"dataframe\">\n  <thead>\n    <tr style=\"text-align: right;\">\n      <th></th>\n      <th>createDt</th>\n      <th>deathCnt</th>\n      <th>defCnt</th>\n      <th>gubun</th>\n      <th>gubunCn</th>\n      <th>gubunEn</th>\n      <th>incDec</th>\n      <th>isolClearCnt</th>\n      <th>isolIngCnt</th>\n      <th>localOccCnt</th>\n      <th>overFlowCnt</th>\n      <th>qurRate</th>\n      <th>seq</th>\n      <th>stdDay</th>\n      <th>updateDt</th>\n    </tr>\n  </thead>\n  <tbody>\n    <tr>\n      <th>0</th>\n      <td>2021-05-12 09:51:43.26</td>\n      <td>4</td>\n      <td>3617</td>\n      <td>검역</td>\n      <td>隔離區</td>\n      <td>Lazaretto</td>\n      <td>13</td>\n      <td>3434</td>\n      <td>179</td>\n      <td>0</td>\n      <td>13</td>\n      <td>-</td>\n      <td>9469</td>\n      <td>20210512</td>\n      <td>null</td>\n    </tr>\n    <tr>\n      <th>1</th>\n      <td>2021-05-12 09:51:43.26</td>\n      <td>1</td>\n      <td>829</td>\n      <td>제주</td>\n      <td>济州</td>\n      <td>Jeju</td>\n      <td>13</td>\n      <td>708</td>\n      <td>120</td>\n      <td>13</td>\n      <td>0</td>\n      <td>123.59</td>\n      <td>9468</td>\n      <td>20210512</td>\n      <td>null</td>\n    </tr>\n    <tr>\n      <th>2</th>\n      <td>2021-05-12 09:51:43.26</td>\n      <td>19</td>\n      <td>4284</td>\n      <td>경남</td>\n      <td>庆南</td>\n      <td>Gyeongsangnam-do</td>\n      <td>16</td>\n      <td>3955</td>\n      <td>310</td>\n      <td>15</td>\n      <td>1</td>\n      <td>127.45</td>\n      <td>9467</td>\n      <td>20210512</td>\n      <td>null</td>\n    </tr>\n    <tr>\n      <th>3</th>\n      <td>2021-05-12 09:51:43.26</td>\n      <td>79</td>\n      <td>4359</td>\n      <td>경북</td>\n      <td>庆北</td>\n      <td>Gyeongsangbuk-do</td>\n      <td>7</td>\n      <td>3992</td>\n      <td>288</td>\n      <td>7</td>\n      <td>0</td>\n      <td>163.72</td>\n      <td>9466</td>\n      <td>20210512</td>\n      <td>null</td>\n    </tr>\n    <tr>\n      <th>4</th>\n      <td>2021-05-12 09:51:43.259</td>\n      <td>11</td>\n      <td>1195</td>\n      <td>전남</td>\n      <td>全南</td>\n      <td>Jeollanam-do</td>\n      <td>17</td>\n      <td>1028</td>\n      <td>156</td>\n      <td>17</td>\n      <td>0</td>\n      <td>64.08</td>\n      <td>9465</td>\n      <td>20210512</td>\n      <td>null</td>\n    </tr>\n    <tr>\n      <th>...</th>\n      <td>...</td>\n      <td>...</td>\n      <td>...</td>\n      <td>...</td>\n      <td>...</td>\n      <td>...</td>\n      <td>...</td>\n      <td>...</td>\n      <td>...</td>\n      <td>...</td>\n      <td>...</td>\n      <td>...</td>\n      <td>...</td>\n      <td>...</td>\n      <td>...</td>\n    </tr>\n    <tr>\n      <th>470</th>\n      <td>2021-04-18 09:33:43.425</td>\n      <td>58</td>\n      <td>5477</td>\n      <td>인천</td>\n      <td>仁川</td>\n      <td>Incheon</td>\n      <td>19</td>\n      <td>5154</td>\n      <td>265</td>\n      <td>19</td>\n      <td>0</td>\n      <td>185.28</td>\n      <td>8942</td>\n      <td>20210418</td>\n      <td>null</td>\n    </tr>\n    <tr>\n      <th>471</th>\n      <td>2021-04-18 09:33:43.425</td>\n      <td>219</td>\n      <td>9152</td>\n      <td>대구</td>\n      <td>大邱</td>\n      <td>Daegu</td>\n      <td>13</td>\n      <td>8809</td>\n      <td>124</td>\n      <td>13</td>\n      <td>0</td>\n      <td>375.62</td>\n      <td>8941</td>\n      <td>20210418</td>\n      <td>null</td>\n    </tr>\n    <tr>\n      <th>472</th>\n      <td>2021-04-18 09:33:43.424</td>\n      <td>121</td>\n      <td>4644</td>\n      <td>부산</td>\n      <td>釜山</td>\n      <td>Busan</td>\n      <td>31</td>\n      <td>3959</td>\n      <td>564</td>\n      <td>30</td>\n      <td>1</td>\n      <td>136.12</td>\n      <td>8940</td>\n      <td>20210418</td>\n      <td>null</td>\n    </tr>\n    <tr>\n      <th>473</th>\n      <td>2021-04-18 09:33:43.424</td>\n      <td>443</td>\n      <td>35492</td>\n      <td>서울</td>\n      <td>首尔</td>\n      <td>Seoul</td>\n      <td>205</td>\n      <td>32377</td>\n      <td>2672</td>\n      <td>202</td>\n      <td>3</td>\n      <td>364.64</td>\n      <td>8939</td>\n      <td>20210418</td>\n      <td>null</td>\n    </tr>\n    <tr>\n      <th>474</th>\n      <td>2021-04-18 09:33:43.424</td>\n      <td>1797</td>\n      <td>114115</td>\n      <td>합계</td>\n      <td>合计</td>\n      <td>Total</td>\n      <td>672</td>\n      <td>104006</td>\n      <td>8312</td>\n      <td>649</td>\n      <td>23</td>\n      <td>220.10</td>\n      <td>8938</td>\n      <td>20210418</td>\n      <td>null</td>\n    </tr>\n  </tbody>\n</table>\n<p>475 rows × 15 columns</p>\n</div>"
     },
     "execution_count": 17,
     "metadata": {},
     "output_type": "execute_result"
    }
   ],
   "source": [
    "for i in range(df_new_part.shape[0]):\n",
    "    t = re.split(r'년|월|일|시| ', df_new_part['stdDay'][i])\n",
    "    df_new_part['stdDay'][i] = ''.join(t[0:5:2])\n",
    "\n",
    "df_new_part"
   ],
   "metadata": {
    "collapsed": false,
    "pycharm": {
     "name": "#%%\n"
    }
   }
  },
  {
   "cell_type": "code",
   "execution_count": 18,
   "outputs": [],
   "source": [
    "df_new_all = df_new_all.sort_values(by=['stateDt'])\n",
    "df_new_part = df_new_part.sort_values(by=['stdDay'])\n",
    "df_new_all = df_new_all.drop(df_new_all.index[0:1])\n",
    "df_new_part = df_new_part.drop(df_new_part.index[0:20])"
   ],
   "metadata": {
    "collapsed": false,
    "pycharm": {
     "name": "#%%\n"
    }
   }
  },
  {
   "cell_type": "code",
   "execution_count": 19,
   "outputs": [
    {
     "data": {
      "text/plain": "      accDefRate accExamCnt accExamCompCnt careCnt clearCnt  \\\n23  1.3739837378    8414821        8344058    8371   104474   \n22  1.3726760312    8458592        8392002    8166   105227   \n21  1.3750976675    8497594        8430383    8243   105877   \n20  1.3772840512    8537505        8470366    8394   106459   \n19  1.3796528397    8583530        8513591    8576   107071   \n18  1.3822066912    8632923        8554654    8650   107781   \n17  1.3860766953    8654791        8577231    8599   108475   \n16  1.3890340008    8672978        8594894    8719   108850   \n15  1.3868895227    8721609        8645101    8383   109695   \n14  1.3886694305    8766491        8689325    8597   110248   \n13  1.3907242112    8805774        8725382    8734   110787   \n12  1.3918554433    8848292        8765781    8757   111422   \n11  1.3938570903    8883388        8798176    8466   112337   \n10  1.3986066364    8898234        8811627    8542   112865   \n9   1.4018098628    8915326        8826304    8538   113356   \n8   1.3995739863    8957155        8879059    8301   114128   \n7   1.4015026684    8994069        8915074    8154   114944   \n6   1.4049684926    9010992        8933937    8177   115491   \n5   1.4047878518    9051354        8972458    8162   116022   \n4   1.4065731673    9089166        9010907    7999   116881   \n3   1.4107056010    9105771        9024491    8012   117423   \n2   1.4136164637    9122059        9038661    8053   117844   \n1   1.4128618969    9164284        9079656    7687   118717   \n0   1.4139993813    9201539        9117260    7661   119373   \n\n                   createDt deathCnt decideCnt examCnt resutlNegCnt  seq  \\\n23  2021-04-19 09:39:21.483     1801    114646   70763      8229412  485   \n22  2021-04-20 09:34:02.801     1802    115195   66590      8276807  486   \n21  2021-04-21 09:36:56.675     1806    115926   67211      8314457  488   \n20  2021-04-22 09:31:58.246     1808    116661   67139      8353705  489   \n19   2021-04-23 09:51:40.55     1811    117458   69939      8396133  490   \n18  2021-04-24 09:38:23.778     1812    118243   78269      8436411  491   \n17  2021-04-25 09:52:51.000     1813    118887   77560      8458344  492   \n16   2021-04-26 09:42:14.75     1817    119386   78084      8475508  493   \n15  2021-04-27 09:34:47.417     1820    119898   76508      8525203  494   \n14  2021-04-28 09:33:01.863     1821    120666   77166      8568659  495   \n13  2021-04-29 09:32:46.339     1825    121346   80392      8604036  496   \n12  2021-04-30 09:33:44.165     1828    122007   82511      8643774  497   \n11  2021-05-01 09:17:27.172     1831    122634   85212      8675542  498   \n10   2021-05-02 09:23:20.57     1833    123240   86607      8688387  499   \n9   2021-05-03 09:31:59.949     1834    123728   89022      8702576  500   \n8   2021-05-04 09:46:01.635     1840    124269   78096      8754790  501   \n7   2021-05-05 09:37:42.237     1847    124945   78995      8790129  502   \n6   2021-05-06 09:34:55.519     1851    125519   77055      8808418  503   \n5   2021-05-07 09:38:57.839     1860    126044   78896      8846414  504   \n4   2021-05-08 09:37:54.141     1865    126745   78259      8884162  505   \n3   2021-05-09 09:38:01.137     1874    127309   81280      8897182  506   \n2    2021-05-10 09:36:30.35     1875    127772   83398      8910889  507   \n1   2021-05-11 09:39:41.186     1879    128283   84628      8951373  508   \n0   2021-05-12 09:38:47.792     1884    128918   84279      8988342  509   \n\n     stateDt stateTime                 updateDt  \n23  20210419     00:00                     null  \n22  20210420     00:00                     null  \n21  20210421     00:00                     null  \n20  20210422     00:00                     null  \n19  20210423     00:00                     null  \n18  20210424     00:00                     null  \n17  20210425     00:00                     null  \n16  20210426     00:00  2021-04-27 09:37:24.371  \n15  20210427     00:00                     null  \n14  20210428     00:00  2021-04-30 09:39:12.945  \n13  20210429     00:00  2021-04-30 09:39:29.337  \n12  20210430     00:00                     null  \n11  20210501     00:00                     null  \n10  20210502     00:00                     null  \n9   20210503     00:00                     null  \n8   20210504     00:00                     null  \n7   20210505     00:00                     null  \n6   20210506     00:00                     null  \n5   20210507     00:00                     null  \n4   20210508     00:00                     null  \n3   20210509     00:00                     null  \n2   20210510     00:00                     null  \n1   20210511     00:00                     null  \n0   20210512     00:00                     null  ",
      "text/html": "<div>\n<style scoped>\n    .dataframe tbody tr th:only-of-type {\n        vertical-align: middle;\n    }\n\n    .dataframe tbody tr th {\n        vertical-align: top;\n    }\n\n    .dataframe thead th {\n        text-align: right;\n    }\n</style>\n<table border=\"1\" class=\"dataframe\">\n  <thead>\n    <tr style=\"text-align: right;\">\n      <th></th>\n      <th>accDefRate</th>\n      <th>accExamCnt</th>\n      <th>accExamCompCnt</th>\n      <th>careCnt</th>\n      <th>clearCnt</th>\n      <th>createDt</th>\n      <th>deathCnt</th>\n      <th>decideCnt</th>\n      <th>examCnt</th>\n      <th>resutlNegCnt</th>\n      <th>seq</th>\n      <th>stateDt</th>\n      <th>stateTime</th>\n      <th>updateDt</th>\n    </tr>\n  </thead>\n  <tbody>\n    <tr>\n      <th>23</th>\n      <td>1.3739837378</td>\n      <td>8414821</td>\n      <td>8344058</td>\n      <td>8371</td>\n      <td>104474</td>\n      <td>2021-04-19 09:39:21.483</td>\n      <td>1801</td>\n      <td>114646</td>\n      <td>70763</td>\n      <td>8229412</td>\n      <td>485</td>\n      <td>20210419</td>\n      <td>00:00</td>\n      <td>null</td>\n    </tr>\n    <tr>\n      <th>22</th>\n      <td>1.3726760312</td>\n      <td>8458592</td>\n      <td>8392002</td>\n      <td>8166</td>\n      <td>105227</td>\n      <td>2021-04-20 09:34:02.801</td>\n      <td>1802</td>\n      <td>115195</td>\n      <td>66590</td>\n      <td>8276807</td>\n      <td>486</td>\n      <td>20210420</td>\n      <td>00:00</td>\n      <td>null</td>\n    </tr>\n    <tr>\n      <th>21</th>\n      <td>1.3750976675</td>\n      <td>8497594</td>\n      <td>8430383</td>\n      <td>8243</td>\n      <td>105877</td>\n      <td>2021-04-21 09:36:56.675</td>\n      <td>1806</td>\n      <td>115926</td>\n      <td>67211</td>\n      <td>8314457</td>\n      <td>488</td>\n      <td>20210421</td>\n      <td>00:00</td>\n      <td>null</td>\n    </tr>\n    <tr>\n      <th>20</th>\n      <td>1.3772840512</td>\n      <td>8537505</td>\n      <td>8470366</td>\n      <td>8394</td>\n      <td>106459</td>\n      <td>2021-04-22 09:31:58.246</td>\n      <td>1808</td>\n      <td>116661</td>\n      <td>67139</td>\n      <td>8353705</td>\n      <td>489</td>\n      <td>20210422</td>\n      <td>00:00</td>\n      <td>null</td>\n    </tr>\n    <tr>\n      <th>19</th>\n      <td>1.3796528397</td>\n      <td>8583530</td>\n      <td>8513591</td>\n      <td>8576</td>\n      <td>107071</td>\n      <td>2021-04-23 09:51:40.55</td>\n      <td>1811</td>\n      <td>117458</td>\n      <td>69939</td>\n      <td>8396133</td>\n      <td>490</td>\n      <td>20210423</td>\n      <td>00:00</td>\n      <td>null</td>\n    </tr>\n    <tr>\n      <th>18</th>\n      <td>1.3822066912</td>\n      <td>8632923</td>\n      <td>8554654</td>\n      <td>8650</td>\n      <td>107781</td>\n      <td>2021-04-24 09:38:23.778</td>\n      <td>1812</td>\n      <td>118243</td>\n      <td>78269</td>\n      <td>8436411</td>\n      <td>491</td>\n      <td>20210424</td>\n      <td>00:00</td>\n      <td>null</td>\n    </tr>\n    <tr>\n      <th>17</th>\n      <td>1.3860766953</td>\n      <td>8654791</td>\n      <td>8577231</td>\n      <td>8599</td>\n      <td>108475</td>\n      <td>2021-04-25 09:52:51.000</td>\n      <td>1813</td>\n      <td>118887</td>\n      <td>77560</td>\n      <td>8458344</td>\n      <td>492</td>\n      <td>20210425</td>\n      <td>00:00</td>\n      <td>null</td>\n    </tr>\n    <tr>\n      <th>16</th>\n      <td>1.3890340008</td>\n      <td>8672978</td>\n      <td>8594894</td>\n      <td>8719</td>\n      <td>108850</td>\n      <td>2021-04-26 09:42:14.75</td>\n      <td>1817</td>\n      <td>119386</td>\n      <td>78084</td>\n      <td>8475508</td>\n      <td>493</td>\n      <td>20210426</td>\n      <td>00:00</td>\n      <td>2021-04-27 09:37:24.371</td>\n    </tr>\n    <tr>\n      <th>15</th>\n      <td>1.3868895227</td>\n      <td>8721609</td>\n      <td>8645101</td>\n      <td>8383</td>\n      <td>109695</td>\n      <td>2021-04-27 09:34:47.417</td>\n      <td>1820</td>\n      <td>119898</td>\n      <td>76508</td>\n      <td>8525203</td>\n      <td>494</td>\n      <td>20210427</td>\n      <td>00:00</td>\n      <td>null</td>\n    </tr>\n    <tr>\n      <th>14</th>\n      <td>1.3886694305</td>\n      <td>8766491</td>\n      <td>8689325</td>\n      <td>8597</td>\n      <td>110248</td>\n      <td>2021-04-28 09:33:01.863</td>\n      <td>1821</td>\n      <td>120666</td>\n      <td>77166</td>\n      <td>8568659</td>\n      <td>495</td>\n      <td>20210428</td>\n      <td>00:00</td>\n      <td>2021-04-30 09:39:12.945</td>\n    </tr>\n    <tr>\n      <th>13</th>\n      <td>1.3907242112</td>\n      <td>8805774</td>\n      <td>8725382</td>\n      <td>8734</td>\n      <td>110787</td>\n      <td>2021-04-29 09:32:46.339</td>\n      <td>1825</td>\n      <td>121346</td>\n      <td>80392</td>\n      <td>8604036</td>\n      <td>496</td>\n      <td>20210429</td>\n      <td>00:00</td>\n      <td>2021-04-30 09:39:29.337</td>\n    </tr>\n    <tr>\n      <th>12</th>\n      <td>1.3918554433</td>\n      <td>8848292</td>\n      <td>8765781</td>\n      <td>8757</td>\n      <td>111422</td>\n      <td>2021-04-30 09:33:44.165</td>\n      <td>1828</td>\n      <td>122007</td>\n      <td>82511</td>\n      <td>8643774</td>\n      <td>497</td>\n      <td>20210430</td>\n      <td>00:00</td>\n      <td>null</td>\n    </tr>\n    <tr>\n      <th>11</th>\n      <td>1.3938570903</td>\n      <td>8883388</td>\n      <td>8798176</td>\n      <td>8466</td>\n      <td>112337</td>\n      <td>2021-05-01 09:17:27.172</td>\n      <td>1831</td>\n      <td>122634</td>\n      <td>85212</td>\n      <td>8675542</td>\n      <td>498</td>\n      <td>20210501</td>\n      <td>00:00</td>\n      <td>null</td>\n    </tr>\n    <tr>\n      <th>10</th>\n      <td>1.3986066364</td>\n      <td>8898234</td>\n      <td>8811627</td>\n      <td>8542</td>\n      <td>112865</td>\n      <td>2021-05-02 09:23:20.57</td>\n      <td>1833</td>\n      <td>123240</td>\n      <td>86607</td>\n      <td>8688387</td>\n      <td>499</td>\n      <td>20210502</td>\n      <td>00:00</td>\n      <td>null</td>\n    </tr>\n    <tr>\n      <th>9</th>\n      <td>1.4018098628</td>\n      <td>8915326</td>\n      <td>8826304</td>\n      <td>8538</td>\n      <td>113356</td>\n      <td>2021-05-03 09:31:59.949</td>\n      <td>1834</td>\n      <td>123728</td>\n      <td>89022</td>\n      <td>8702576</td>\n      <td>500</td>\n      <td>20210503</td>\n      <td>00:00</td>\n      <td>null</td>\n    </tr>\n    <tr>\n      <th>8</th>\n      <td>1.3995739863</td>\n      <td>8957155</td>\n      <td>8879059</td>\n      <td>8301</td>\n      <td>114128</td>\n      <td>2021-05-04 09:46:01.635</td>\n      <td>1840</td>\n      <td>124269</td>\n      <td>78096</td>\n      <td>8754790</td>\n      <td>501</td>\n      <td>20210504</td>\n      <td>00:00</td>\n      <td>null</td>\n    </tr>\n    <tr>\n      <th>7</th>\n      <td>1.4015026684</td>\n      <td>8994069</td>\n      <td>8915074</td>\n      <td>8154</td>\n      <td>114944</td>\n      <td>2021-05-05 09:37:42.237</td>\n      <td>1847</td>\n      <td>124945</td>\n      <td>78995</td>\n      <td>8790129</td>\n      <td>502</td>\n      <td>20210505</td>\n      <td>00:00</td>\n      <td>null</td>\n    </tr>\n    <tr>\n      <th>6</th>\n      <td>1.4049684926</td>\n      <td>9010992</td>\n      <td>8933937</td>\n      <td>8177</td>\n      <td>115491</td>\n      <td>2021-05-06 09:34:55.519</td>\n      <td>1851</td>\n      <td>125519</td>\n      <td>77055</td>\n      <td>8808418</td>\n      <td>503</td>\n      <td>20210506</td>\n      <td>00:00</td>\n      <td>null</td>\n    </tr>\n    <tr>\n      <th>5</th>\n      <td>1.4047878518</td>\n      <td>9051354</td>\n      <td>8972458</td>\n      <td>8162</td>\n      <td>116022</td>\n      <td>2021-05-07 09:38:57.839</td>\n      <td>1860</td>\n      <td>126044</td>\n      <td>78896</td>\n      <td>8846414</td>\n      <td>504</td>\n      <td>20210507</td>\n      <td>00:00</td>\n      <td>null</td>\n    </tr>\n    <tr>\n      <th>4</th>\n      <td>1.4065731673</td>\n      <td>9089166</td>\n      <td>9010907</td>\n      <td>7999</td>\n      <td>116881</td>\n      <td>2021-05-08 09:37:54.141</td>\n      <td>1865</td>\n      <td>126745</td>\n      <td>78259</td>\n      <td>8884162</td>\n      <td>505</td>\n      <td>20210508</td>\n      <td>00:00</td>\n      <td>null</td>\n    </tr>\n    <tr>\n      <th>3</th>\n      <td>1.4107056010</td>\n      <td>9105771</td>\n      <td>9024491</td>\n      <td>8012</td>\n      <td>117423</td>\n      <td>2021-05-09 09:38:01.137</td>\n      <td>1874</td>\n      <td>127309</td>\n      <td>81280</td>\n      <td>8897182</td>\n      <td>506</td>\n      <td>20210509</td>\n      <td>00:00</td>\n      <td>null</td>\n    </tr>\n    <tr>\n      <th>2</th>\n      <td>1.4136164637</td>\n      <td>9122059</td>\n      <td>9038661</td>\n      <td>8053</td>\n      <td>117844</td>\n      <td>2021-05-10 09:36:30.35</td>\n      <td>1875</td>\n      <td>127772</td>\n      <td>83398</td>\n      <td>8910889</td>\n      <td>507</td>\n      <td>20210510</td>\n      <td>00:00</td>\n      <td>null</td>\n    </tr>\n    <tr>\n      <th>1</th>\n      <td>1.4128618969</td>\n      <td>9164284</td>\n      <td>9079656</td>\n      <td>7687</td>\n      <td>118717</td>\n      <td>2021-05-11 09:39:41.186</td>\n      <td>1879</td>\n      <td>128283</td>\n      <td>84628</td>\n      <td>8951373</td>\n      <td>508</td>\n      <td>20210511</td>\n      <td>00:00</td>\n      <td>null</td>\n    </tr>\n    <tr>\n      <th>0</th>\n      <td>1.4139993813</td>\n      <td>9201539</td>\n      <td>9117260</td>\n      <td>7661</td>\n      <td>119373</td>\n      <td>2021-05-12 09:38:47.792</td>\n      <td>1884</td>\n      <td>128918</td>\n      <td>84279</td>\n      <td>8988342</td>\n      <td>509</td>\n      <td>20210512</td>\n      <td>00:00</td>\n      <td>null</td>\n    </tr>\n  </tbody>\n</table>\n</div>"
     },
     "execution_count": 19,
     "metadata": {},
     "output_type": "execute_result"
    }
   ],
   "source": [
    "df_new_all"
   ],
   "metadata": {
    "collapsed": false,
    "pycharm": {
     "name": "#%%\n"
    }
   }
  },
  {
   "cell_type": "code",
   "execution_count": 20,
   "outputs": [
    {
     "data": {
      "text/plain": "                    createDt deathCnt  defCnt gubun gubunCn           gubunEn  \\\n438  2021-04-19 09:42:21.775        1     675    제주      济州              Jeju   \n439  2021-04-19 09:42:21.775       17    3440    경남      庆南  Gyeongsangnam-do   \n440  2021-04-19 09:42:21.774       77    3843    경북      庆北  Gyeongsangbuk-do   \n441  2021-04-19 09:42:21.774       10    1007    전남      全南      Jeollanam-do   \n442  2021-04-19 09:42:21.774       57    1840    전북      全北      Jeollabuk-do   \n..                       ...      ...     ...   ...     ...               ...   \n16   2021-05-12 09:51:43.257      122    5296    부산      釜山             Busan   \n17   2021-05-12 09:51:43.257      466   40118    서울      首尔             Seoul   \n18   2021-05-12 09:51:43.257     1884  128918    합계      合计             Total   \n9    2021-05-12 09:51:43.259      611   36039    경기      京畿       Gyeonggi-do   \n0     2021-05-12 09:51:43.26        4    3617    검역     隔離區         Lazaretto   \n\n    incDec isolClearCnt isolIngCnt localOccCnt overFlowCnt qurRate   seq  \\\n438      2          639         35           2           0  100.63  8974   \n439     35         3069        354          35           0  102.34  8973   \n440     19         3515        251          17           2  144.34  8972   \n441      3          909         88           2           1   54.00  8971   \n442     16         1544        239          16           0  101.25  8970   \n..     ...          ...        ...         ...         ...     ...   ...   \n16      10         4923        251          10           0  155.23  9453   \n17     223        36890       2762         220           3  412.16  9452   \n18     635       119373       7661         613          22  248.65  9451   \n9      187        33349       2079         184           3  271.98  9460   \n0       13         3434        179           0          13       -  9469   \n\n       stdDay updateDt  \n438  20210419     null  \n439  20210419     null  \n440  20210419     null  \n441  20210419     null  \n442  20210419     null  \n..        ...      ...  \n16   20210512     null  \n17   20210512     null  \n18   20210512     null  \n9    20210512     null  \n0    20210512     null  \n\n[455 rows x 15 columns]",
      "text/html": "<div>\n<style scoped>\n    .dataframe tbody tr th:only-of-type {\n        vertical-align: middle;\n    }\n\n    .dataframe tbody tr th {\n        vertical-align: top;\n    }\n\n    .dataframe thead th {\n        text-align: right;\n    }\n</style>\n<table border=\"1\" class=\"dataframe\">\n  <thead>\n    <tr style=\"text-align: right;\">\n      <th></th>\n      <th>createDt</th>\n      <th>deathCnt</th>\n      <th>defCnt</th>\n      <th>gubun</th>\n      <th>gubunCn</th>\n      <th>gubunEn</th>\n      <th>incDec</th>\n      <th>isolClearCnt</th>\n      <th>isolIngCnt</th>\n      <th>localOccCnt</th>\n      <th>overFlowCnt</th>\n      <th>qurRate</th>\n      <th>seq</th>\n      <th>stdDay</th>\n      <th>updateDt</th>\n    </tr>\n  </thead>\n  <tbody>\n    <tr>\n      <th>438</th>\n      <td>2021-04-19 09:42:21.775</td>\n      <td>1</td>\n      <td>675</td>\n      <td>제주</td>\n      <td>济州</td>\n      <td>Jeju</td>\n      <td>2</td>\n      <td>639</td>\n      <td>35</td>\n      <td>2</td>\n      <td>0</td>\n      <td>100.63</td>\n      <td>8974</td>\n      <td>20210419</td>\n      <td>null</td>\n    </tr>\n    <tr>\n      <th>439</th>\n      <td>2021-04-19 09:42:21.775</td>\n      <td>17</td>\n      <td>3440</td>\n      <td>경남</td>\n      <td>庆南</td>\n      <td>Gyeongsangnam-do</td>\n      <td>35</td>\n      <td>3069</td>\n      <td>354</td>\n      <td>35</td>\n      <td>0</td>\n      <td>102.34</td>\n      <td>8973</td>\n      <td>20210419</td>\n      <td>null</td>\n    </tr>\n    <tr>\n      <th>440</th>\n      <td>2021-04-19 09:42:21.774</td>\n      <td>77</td>\n      <td>3843</td>\n      <td>경북</td>\n      <td>庆北</td>\n      <td>Gyeongsangbuk-do</td>\n      <td>19</td>\n      <td>3515</td>\n      <td>251</td>\n      <td>17</td>\n      <td>2</td>\n      <td>144.34</td>\n      <td>8972</td>\n      <td>20210419</td>\n      <td>null</td>\n    </tr>\n    <tr>\n      <th>441</th>\n      <td>2021-04-19 09:42:21.774</td>\n      <td>10</td>\n      <td>1007</td>\n      <td>전남</td>\n      <td>全南</td>\n      <td>Jeollanam-do</td>\n      <td>3</td>\n      <td>909</td>\n      <td>88</td>\n      <td>2</td>\n      <td>1</td>\n      <td>54.00</td>\n      <td>8971</td>\n      <td>20210419</td>\n      <td>null</td>\n    </tr>\n    <tr>\n      <th>442</th>\n      <td>2021-04-19 09:42:21.774</td>\n      <td>57</td>\n      <td>1840</td>\n      <td>전북</td>\n      <td>全北</td>\n      <td>Jeollabuk-do</td>\n      <td>16</td>\n      <td>1544</td>\n      <td>239</td>\n      <td>16</td>\n      <td>0</td>\n      <td>101.25</td>\n      <td>8970</td>\n      <td>20210419</td>\n      <td>null</td>\n    </tr>\n    <tr>\n      <th>...</th>\n      <td>...</td>\n      <td>...</td>\n      <td>...</td>\n      <td>...</td>\n      <td>...</td>\n      <td>...</td>\n      <td>...</td>\n      <td>...</td>\n      <td>...</td>\n      <td>...</td>\n      <td>...</td>\n      <td>...</td>\n      <td>...</td>\n      <td>...</td>\n      <td>...</td>\n    </tr>\n    <tr>\n      <th>16</th>\n      <td>2021-05-12 09:51:43.257</td>\n      <td>122</td>\n      <td>5296</td>\n      <td>부산</td>\n      <td>釜山</td>\n      <td>Busan</td>\n      <td>10</td>\n      <td>4923</td>\n      <td>251</td>\n      <td>10</td>\n      <td>0</td>\n      <td>155.23</td>\n      <td>9453</td>\n      <td>20210512</td>\n      <td>null</td>\n    </tr>\n    <tr>\n      <th>17</th>\n      <td>2021-05-12 09:51:43.257</td>\n      <td>466</td>\n      <td>40118</td>\n      <td>서울</td>\n      <td>首尔</td>\n      <td>Seoul</td>\n      <td>223</td>\n      <td>36890</td>\n      <td>2762</td>\n      <td>220</td>\n      <td>3</td>\n      <td>412.16</td>\n      <td>9452</td>\n      <td>20210512</td>\n      <td>null</td>\n    </tr>\n    <tr>\n      <th>18</th>\n      <td>2021-05-12 09:51:43.257</td>\n      <td>1884</td>\n      <td>128918</td>\n      <td>합계</td>\n      <td>合计</td>\n      <td>Total</td>\n      <td>635</td>\n      <td>119373</td>\n      <td>7661</td>\n      <td>613</td>\n      <td>22</td>\n      <td>248.65</td>\n      <td>9451</td>\n      <td>20210512</td>\n      <td>null</td>\n    </tr>\n    <tr>\n      <th>9</th>\n      <td>2021-05-12 09:51:43.259</td>\n      <td>611</td>\n      <td>36039</td>\n      <td>경기</td>\n      <td>京畿</td>\n      <td>Gyeonggi-do</td>\n      <td>187</td>\n      <td>33349</td>\n      <td>2079</td>\n      <td>184</td>\n      <td>3</td>\n      <td>271.98</td>\n      <td>9460</td>\n      <td>20210512</td>\n      <td>null</td>\n    </tr>\n    <tr>\n      <th>0</th>\n      <td>2021-05-12 09:51:43.26</td>\n      <td>4</td>\n      <td>3617</td>\n      <td>검역</td>\n      <td>隔離區</td>\n      <td>Lazaretto</td>\n      <td>13</td>\n      <td>3434</td>\n      <td>179</td>\n      <td>0</td>\n      <td>13</td>\n      <td>-</td>\n      <td>9469</td>\n      <td>20210512</td>\n      <td>null</td>\n    </tr>\n  </tbody>\n</table>\n<p>455 rows × 15 columns</p>\n</div>"
     },
     "execution_count": 20,
     "metadata": {},
     "output_type": "execute_result"
    }
   ],
   "source": [
    "df_new_part\n",
    "#   속성 설명(all)\n",
    "#   DECIDE_CNT          확진자수\n",
    "#   CLEAR_CNT           격리해제 수\n",
    "#   EXAM_CNT            검사진행 수\n",
    "#   DEATH_CNT           사망자 수\n",
    "#   CARE_CNT            치료중 환자 수\n",
    "#   RESULT_NEG_CNT      결과 음성 수\n",
    "#   ACC_EXAM_CNT        누적 검사 수\n",
    "#   ACC_EXAM_COMP_CNT   누적 검사 완료 수\n",
    "#   ACC_DEF_RATE        누적 확진률\n",
    "#   CREATE_DT           등록일시분초\n",
    "#   UPDATE_DT           수정일시분"
   ],
   "metadata": {
    "collapsed": false,
    "pycharm": {
     "name": "#%%\n"
    }
   }
  },
  {
   "cell_type": "code",
   "execution_count": 21,
   "outputs": [
    {
     "data": {
      "text/plain": "     accDefRate  accExamCnt  accExamCompCnt  careCnt  clearCnt  \\\n0           NaN         NaN             NaN      NaN         1   \n1           NaN         NaN             NaN      NaN         1   \n2           NaN         NaN             NaN      NaN         2   \n3           NaN         NaN             NaN      NaN         0   \n4           NaN         NaN             NaN      NaN         0   \n..          ...         ...             ...      ...       ...   \n439    1.363619   8245387.0       8170760.0   7653.0    101983   \n440    1.363792   8291125.0       8220904.0   7815.0    102513   \n441    1.365080   8333332.0       8262449.0   7937.0    103062   \n442    1.365674   8377778.0       8306739.0   8055.0    103594   \n443    1.370936   8396067.0       8323876.0   8312.0    104006   \n\n                    createDt  deathCnt  decideCnt  examCnt  resutlNegCnt  seq  \\\n0                    47:33.3         0          0        1           NaN    1   \n1                    47:33.3         0          0        1           NaN    1   \n2                    22:49.5         2          2        2           NaN    2   \n3                    41:17.2         0         15        0           NaN    3   \n4                    26:59.6         0          0        0           NaN    4   \n..                       ...       ...        ...      ...           ...  ...   \n439  2021-04-14 09:33:58.653      1782     111418    74627     8059342.0  480   \n440   2021-04-15 09:38:50.34      1788     112116    70221     8108788.0  481   \n441  2021-04-16 09:32:10.738      1790     112789    70883     8149660.0  482   \n442  2021-04-17 09:40:16.606      1794     113443    71039     8193296.0  483   \n443  2021-04-18 09:30:44.979      1797     114115    72191     8209761.0  484   \n\n      stateDt stateTime                 updateDt  \n0    20200101     18:00                  21:56.6  \n1    20200201     18:00                  47:33.3  \n2    20200202      9:00                  22:49.5  \n3    20200203      9:00                  41:17.2  \n4    20200204      0:00                  26:59.6  \n..        ...       ...                      ...  \n439  20210414     00:00  2021-04-16 15:24:52.012  \n440  20210415     00:00  2021-04-16 09:32:37.708  \n441  20210416     00:00                      NaN  \n442  20210417     00:00  2021-04-18 09:35:59.415  \n443  20210418     00:00                      NaN  \n\n[444 rows x 14 columns]",
      "text/html": "<div>\n<style scoped>\n    .dataframe tbody tr th:only-of-type {\n        vertical-align: middle;\n    }\n\n    .dataframe tbody tr th {\n        vertical-align: top;\n    }\n\n    .dataframe thead th {\n        text-align: right;\n    }\n</style>\n<table border=\"1\" class=\"dataframe\">\n  <thead>\n    <tr style=\"text-align: right;\">\n      <th></th>\n      <th>accDefRate</th>\n      <th>accExamCnt</th>\n      <th>accExamCompCnt</th>\n      <th>careCnt</th>\n      <th>clearCnt</th>\n      <th>createDt</th>\n      <th>deathCnt</th>\n      <th>decideCnt</th>\n      <th>examCnt</th>\n      <th>resutlNegCnt</th>\n      <th>seq</th>\n      <th>stateDt</th>\n      <th>stateTime</th>\n      <th>updateDt</th>\n    </tr>\n  </thead>\n  <tbody>\n    <tr>\n      <th>0</th>\n      <td>NaN</td>\n      <td>NaN</td>\n      <td>NaN</td>\n      <td>NaN</td>\n      <td>1</td>\n      <td>47:33.3</td>\n      <td>0</td>\n      <td>0</td>\n      <td>1</td>\n      <td>NaN</td>\n      <td>1</td>\n      <td>20200101</td>\n      <td>18:00</td>\n      <td>21:56.6</td>\n    </tr>\n    <tr>\n      <th>1</th>\n      <td>NaN</td>\n      <td>NaN</td>\n      <td>NaN</td>\n      <td>NaN</td>\n      <td>1</td>\n      <td>47:33.3</td>\n      <td>0</td>\n      <td>0</td>\n      <td>1</td>\n      <td>NaN</td>\n      <td>1</td>\n      <td>20200201</td>\n      <td>18:00</td>\n      <td>47:33.3</td>\n    </tr>\n    <tr>\n      <th>2</th>\n      <td>NaN</td>\n      <td>NaN</td>\n      <td>NaN</td>\n      <td>NaN</td>\n      <td>2</td>\n      <td>22:49.5</td>\n      <td>2</td>\n      <td>2</td>\n      <td>2</td>\n      <td>NaN</td>\n      <td>2</td>\n      <td>20200202</td>\n      <td>9:00</td>\n      <td>22:49.5</td>\n    </tr>\n    <tr>\n      <th>3</th>\n      <td>NaN</td>\n      <td>NaN</td>\n      <td>NaN</td>\n      <td>NaN</td>\n      <td>0</td>\n      <td>41:17.2</td>\n      <td>0</td>\n      <td>15</td>\n      <td>0</td>\n      <td>NaN</td>\n      <td>3</td>\n      <td>20200203</td>\n      <td>9:00</td>\n      <td>41:17.2</td>\n    </tr>\n    <tr>\n      <th>4</th>\n      <td>NaN</td>\n      <td>NaN</td>\n      <td>NaN</td>\n      <td>NaN</td>\n      <td>0</td>\n      <td>26:59.6</td>\n      <td>0</td>\n      <td>0</td>\n      <td>0</td>\n      <td>NaN</td>\n      <td>4</td>\n      <td>20200204</td>\n      <td>0:00</td>\n      <td>26:59.6</td>\n    </tr>\n    <tr>\n      <th>...</th>\n      <td>...</td>\n      <td>...</td>\n      <td>...</td>\n      <td>...</td>\n      <td>...</td>\n      <td>...</td>\n      <td>...</td>\n      <td>...</td>\n      <td>...</td>\n      <td>...</td>\n      <td>...</td>\n      <td>...</td>\n      <td>...</td>\n      <td>...</td>\n    </tr>\n    <tr>\n      <th>439</th>\n      <td>1.363619</td>\n      <td>8245387.0</td>\n      <td>8170760.0</td>\n      <td>7653.0</td>\n      <td>101983</td>\n      <td>2021-04-14 09:33:58.653</td>\n      <td>1782</td>\n      <td>111418</td>\n      <td>74627</td>\n      <td>8059342.0</td>\n      <td>480</td>\n      <td>20210414</td>\n      <td>00:00</td>\n      <td>2021-04-16 15:24:52.012</td>\n    </tr>\n    <tr>\n      <th>440</th>\n      <td>1.363792</td>\n      <td>8291125.0</td>\n      <td>8220904.0</td>\n      <td>7815.0</td>\n      <td>102513</td>\n      <td>2021-04-15 09:38:50.34</td>\n      <td>1788</td>\n      <td>112116</td>\n      <td>70221</td>\n      <td>8108788.0</td>\n      <td>481</td>\n      <td>20210415</td>\n      <td>00:00</td>\n      <td>2021-04-16 09:32:37.708</td>\n    </tr>\n    <tr>\n      <th>441</th>\n      <td>1.365080</td>\n      <td>8333332.0</td>\n      <td>8262449.0</td>\n      <td>7937.0</td>\n      <td>103062</td>\n      <td>2021-04-16 09:32:10.738</td>\n      <td>1790</td>\n      <td>112789</td>\n      <td>70883</td>\n      <td>8149660.0</td>\n      <td>482</td>\n      <td>20210416</td>\n      <td>00:00</td>\n      <td>NaN</td>\n    </tr>\n    <tr>\n      <th>442</th>\n      <td>1.365674</td>\n      <td>8377778.0</td>\n      <td>8306739.0</td>\n      <td>8055.0</td>\n      <td>103594</td>\n      <td>2021-04-17 09:40:16.606</td>\n      <td>1794</td>\n      <td>113443</td>\n      <td>71039</td>\n      <td>8193296.0</td>\n      <td>483</td>\n      <td>20210417</td>\n      <td>00:00</td>\n      <td>2021-04-18 09:35:59.415</td>\n    </tr>\n    <tr>\n      <th>443</th>\n      <td>1.370936</td>\n      <td>8396067.0</td>\n      <td>8323876.0</td>\n      <td>8312.0</td>\n      <td>104006</td>\n      <td>2021-04-18 09:30:44.979</td>\n      <td>1797</td>\n      <td>114115</td>\n      <td>72191</td>\n      <td>8209761.0</td>\n      <td>484</td>\n      <td>20210418</td>\n      <td>00:00</td>\n      <td>NaN</td>\n    </tr>\n  </tbody>\n</table>\n<p>444 rows × 14 columns</p>\n</div>"
     },
     "execution_count": 21,
     "metadata": {},
     "output_type": "execute_result"
    }
   ],
   "source": [
    "df_old_all = pd.read_csv('./dataset/all/covid19_' + oldDate_all + '_all.csv')\n",
    "df_old_all = df_old_all.drop(['Unnamed: 0'], axis = 1)\n",
    "df_old_part = pd.read_csv('./dataset/part/covid19_' + oldDate_part + '_part.csv')\n",
    "df_old_part = df_old_part.drop(['Unnamed: 0'], axis = 1)\n",
    "df_old_all"
   ],
   "metadata": {
    "collapsed": false,
    "pycharm": {
     "name": "#%%\n"
    }
   }
  },
  {
   "cell_type": "code",
   "execution_count": 22,
   "outputs": [],
   "source": [
    "df_all = df_old_all.append(df_new_all)\n",
    "df_part = df_old_part.append(df_new_part)\n",
    "df_all.to_csv('./dataset/all/covid19_' + nowDate + '_all.csv', mode='w')\n",
    "df_part.to_csv('./dataset/part/covid19_' + nowDate + '_part.csv', mode='w')"
   ],
   "metadata": {
    "collapsed": false,
    "pycharm": {
     "name": "#%%\n"
    }
   }
  },
  {
   "cell_type": "code",
   "execution_count": 23,
   "outputs": [
    {
     "name": "stdout",
     "output_type": "stream",
     "text": [
      "<class 'pandas.core.frame.DataFrame'>\n",
      "Int64Index: 468 entries, 0 to 0\n",
      "Data columns (total 14 columns):\n",
      " #   Column          Non-Null Count  Dtype \n",
      "---  ------          --------------  ----- \n",
      " 0   accDefRate      437 non-null    object\n",
      " 1   accExamCnt      437 non-null    object\n",
      " 2   accExamCompCnt  437 non-null    object\n",
      " 3   careCnt         436 non-null    object\n",
      " 4   clearCnt        468 non-null    object\n",
      " 5   createDt        468 non-null    object\n",
      " 6   deathCnt        468 non-null    object\n",
      " 7   decideCnt       468 non-null    object\n",
      " 8   examCnt         468 non-null    object\n",
      " 9   resutlNegCnt    437 non-null    object\n",
      " 10  seq             468 non-null    object\n",
      " 11  stateDt         468 non-null    object\n",
      " 12  stateTime       468 non-null    object\n",
      " 13  updateDt        440 non-null    object\n",
      "dtypes: object(14)\n",
      "memory usage: 54.8+ KB\n"
     ]
    }
   ],
   "source": [
    "df_all.info()\n",
    "\n",
    "\n",
    "\n",
    "\n",
    "\n",
    "\n",
    "\n",
    "\n",
    "\n",
    "\n",
    "\n",
    "\n",
    "\n"
   ],
   "metadata": {
    "collapsed": false,
    "pycharm": {
     "name": "#%%\n"
    }
   }
  }
 ],
 "metadata": {
  "kernelspec": {
   "name": "python3",
   "language": "python",
   "display_name": "Python 3"
  },
  "language_info": {
   "codemirror_mode": {
    "name": "ipython",
    "version": 2
   },
   "file_extension": ".py",
   "mimetype": "text/x-python",
   "name": "python",
   "nbconvert_exporter": "python",
   "pygments_lexer": "ipython2",
   "version": "2.7.6"
  }
 },
 "nbformat": 4,
 "nbformat_minor": 0
}