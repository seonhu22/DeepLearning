{
 "cells": [
  {
   "cell_type": "code",
   "execution_count": 2,
   "metadata": {
    "collapsed": true
   },
   "outputs": [],
   "source": [
    "import requests\n",
    "import xmltodict\n",
    "import datetime\n",
    "import pandas as pd\n",
    "import glob"
   ]
  },
  {
   "cell_type": "code",
   "execution_count": 8,
   "outputs": [
    {
     "data": {
      "text/plain": "'20210320'"
     },
     "execution_count": 8,
     "metadata": {},
     "output_type": "execute_result"
    }
   ],
   "source": [
    "# 현재 날짜 확인\n",
    "now = datetime.datetime.now()\n",
    "nowDate = now.strftime('%Y%m%d')\n",
    "\n",
    "nowDate"
   ],
   "metadata": {
    "collapsed": false,
    "pycharm": {
     "name": "#%%\n"
    }
   }
  },
  {
   "cell_type": "code",
   "execution_count": 12,
   "outputs": [],
   "source": [
    "# 현재 디렉토리에 있는 가장 최신 파일 날짜 확인\n",
    "ls = glob.glob(\"*.csv\")\n",
    "if not ls:\n",
    "    oldDate = '20200101'\n",
    "else:\n",
    "    ls.sort()\n",
    "    oldDate = ls[-1][8:-4]\n",
    "\n",
    "oldDate"
   ],
   "metadata": {
    "collapsed": false,
    "pycharm": {
     "name": "#%%\n"
    }
   }
  },
  {
   "cell_type": "code",
   "execution_count": 78,
   "outputs": [],
   "source": [
    "# 현재 날짜부터 디렉토리에 있는 가장 최신 파일 날짜까지 데이터 다운로드\n",
    "url_base = 'http://openapi.data.go.kr/openapi/service/rest/Covid19/getCovid19InfStateJson'\n",
    "url_serviceKey = 'STGRXmZjvEz0TTRJx0Asz574J9AAoG49HNYbsEwJ0W4qsALgk2PK0dMD32ls46%2FtgrAeT6YtsK3QnlvbWJDk0g%3D%3D'\n",
    "url_pages = '1000'\n",
    "url_start_date = ls[-1][8:-4]\n",
    "url_end_date = nowDate\n",
    "url = url_base + '?serviceKey=' + url_serviceKey + '&pageNo=1&numOfRows=' + url_pages + '&startCreateDt=' + url_start_date + '&endCreateDt=' + url_end_date"
   ],
   "metadata": {
    "collapsed": false,
    "pycharm": {
     "name": "#%%인\n"
    }
   }
  },
  {
   "cell_type": "code",
   "execution_count": 79,
   "outputs": [],
   "source": [
    "req = requests.get(url).content\n",
    "xmlObject = xmltodict.parse(req)\n",
    "dict_data = xmlObject['response']['body']['items']['item']"
   ],
   "metadata": {
    "collapsed": false,
    "pycharm": {
     "name": "#%%\n"
    }
   }
  },
  {
   "cell_type": "code",
   "execution_count": 81,
   "outputs": [
    {
     "data": {
      "text/plain": "     accDefRate accExamCnt accExamCompCnt careCnt clearCnt  \\\n0  1.3610022932    7308950        7215932    6567    89949   \n\n                  createDt deathCnt decideCnt examCnt resutlNegCnt  seq  \\\n0  2021-03-20 09:31:53.146     1693     98209   93018      7117723  454   \n\n    stateDt stateTime updateDt  \n0  20210320     00:00     null  ",
      "text/html": "<div>\n<style scoped>\n    .dataframe tbody tr th:only-of-type {\n        vertical-align: middle;\n    }\n\n    .dataframe tbody tr th {\n        vertical-align: top;\n    }\n\n    .dataframe thead th {\n        text-align: right;\n    }\n</style>\n<table border=\"1\" class=\"dataframe\">\n  <thead>\n    <tr style=\"text-align: right;\">\n      <th></th>\n      <th>accDefRate</th>\n      <th>accExamCnt</th>\n      <th>accExamCompCnt</th>\n      <th>careCnt</th>\n      <th>clearCnt</th>\n      <th>createDt</th>\n      <th>deathCnt</th>\n      <th>decideCnt</th>\n      <th>examCnt</th>\n      <th>resutlNegCnt</th>\n      <th>seq</th>\n      <th>stateDt</th>\n      <th>stateTime</th>\n      <th>updateDt</th>\n    </tr>\n  </thead>\n  <tbody>\n    <tr>\n      <th>0</th>\n      <td>1.3610022932</td>\n      <td>7308950</td>\n      <td>7215932</td>\n      <td>6567</td>\n      <td>89949</td>\n      <td>2021-03-20 09:31:53.146</td>\n      <td>1693</td>\n      <td>98209</td>\n      <td>93018</td>\n      <td>7117723</td>\n      <td>454</td>\n      <td>20210320</td>\n      <td>00:00</td>\n      <td>null</td>\n    </tr>\n  </tbody>\n</table>\n</div>"
     },
     "execution_count": 81,
     "metadata": {},
     "output_type": "execute_result"
    }
   ],
   "source": [
    "df_new = pd.DataFrame(dict_data)\n",
    "df_new = df_new.sort_values(by=['stateDt'])\n",
    "df_new = df_new.drop(df_new.index[0:int(nowDate) - int(ls[-1][8:-4])])\n",
    "\n",
    "df_new\n",
    "#   속성 설명\n",
    "#   DECIDE_CNT          확진자수\n",
    "#   CLEAR_CNT           격리해제 수\n",
    "#   EXAM_CNT            검사진행 수\n",
    "#   DEATH_CNT           사망자 수\n",
    "#   CARE_CNT            치료중 환자 수\n",
    "#   RESULT_NEG_CNT      결과 음성 수\n",
    "#   ACC_EXAM_CNT        누적 검사 수\n",
    "#   ACC_EXAM_COMP_CNT   누적 검사 완료 수\n",
    "#   ACC_DEF_RATE        누적 확진률\n",
    "#   CREATE_DT           등록일시분초\n",
    "#   UPDATE_DT           수정일시분"
   ],
   "metadata": {
    "collapsed": false,
    "pycharm": {
     "name": "#%%\n"
    }
   }
  },
  {
   "cell_type": "code",
   "execution_count": 82,
   "outputs": [
    {
     "data": {
      "text/plain": "     Unnamed: 0    accDefRate accExamCnt accExamCompCnt careCnt clearCnt  \\\n0         413.0           NaN        NaN            NaN     NaN        1   \n1         412.0           NaN        NaN            NaN     NaN        1   \n2         411.0           NaN        NaN            NaN     NaN        2   \n3         410.0           NaN        NaN            NaN     NaN        0   \n4         409.0           NaN        NaN            NaN     NaN        0   \n..          ...           ...        ...            ...     ...      ...   \n410         3.0      1.367474  7126077.0      7048033.0  6447.0    88255   \n411         2.0      1.366371  7171510.0      7088048.0  6349.0    88814   \n412         1.0      1.364885  7218087.0      7128365.0  6428.0    89178   \n413         0.0      1.362163  7264941.0      7176600.0  6544.0    89523   \n0           NaN  1.3610022932    7308950        7215932    6567    89949   \n\n                    createDt deathCnt decideCnt examCnt resutlNegCnt  seq  \\\n0     2020-01-31 17:47:33.33        0         0       1          NaN    1   \n1     2020-01-31 17:47:33.33        0         0       1          NaN    1   \n2     2020-02-03 12:22:49.49        2         2       2          NaN    2   \n3     2020-02-03 14:41:17.17        0        15       0          NaN    3   \n4     2020-02-03 21:26:59.59        0         0       0          NaN    4   \n..                       ...      ...       ...     ...          ...  ...   \n410  2021-03-16 09:36:13.502     1678     96380   78044    6951653.0  450   \n411  2021-03-17 09:31:37.789     1686     96849   83462    6991199.0  451   \n412  2021-03-18 09:38:40.962     1688     97294   89722    7031071.0  452   \n413  2021-03-19 09:32:03.884     1690     97757   88341    7078843.0  453   \n0    2021-03-20 09:31:53.146     1693     98209   93018      7117723  454   \n\n      stateDt stateTime                updateDt  \n0    20200101     18:00  2020-02-03 12:21:56.56  \n1    20200201     18:00  2020-01-31 17:47:33.33  \n2    20200202     09:00  2020-02-03 12:22:49.49  \n3    20200203     09:00  2020-02-03 14:41:17.17  \n4    20200204     00:00  2020-02-03 21:26:59.59  \n..        ...       ...                     ...  \n410  20210316     00:00                     NaN  \n411  20210317     00:00                     NaN  \n412  20210318     00:00                     NaN  \n413  20210319     00:00                     NaN  \n0    20210320     00:00                    null  \n\n[415 rows x 15 columns]",
      "text/html": "<div>\n<style scoped>\n    .dataframe tbody tr th:only-of-type {\n        vertical-align: middle;\n    }\n\n    .dataframe tbody tr th {\n        vertical-align: top;\n    }\n\n    .dataframe thead th {\n        text-align: right;\n    }\n</style>\n<table border=\"1\" class=\"dataframe\">\n  <thead>\n    <tr style=\"text-align: right;\">\n      <th></th>\n      <th>Unnamed: 0</th>\n      <th>accDefRate</th>\n      <th>accExamCnt</th>\n      <th>accExamCompCnt</th>\n      <th>careCnt</th>\n      <th>clearCnt</th>\n      <th>createDt</th>\n      <th>deathCnt</th>\n      <th>decideCnt</th>\n      <th>examCnt</th>\n      <th>resutlNegCnt</th>\n      <th>seq</th>\n      <th>stateDt</th>\n      <th>stateTime</th>\n      <th>updateDt</th>\n    </tr>\n  </thead>\n  <tbody>\n    <tr>\n      <th>0</th>\n      <td>413.0</td>\n      <td>NaN</td>\n      <td>NaN</td>\n      <td>NaN</td>\n      <td>NaN</td>\n      <td>1</td>\n      <td>2020-01-31 17:47:33.33</td>\n      <td>0</td>\n      <td>0</td>\n      <td>1</td>\n      <td>NaN</td>\n      <td>1</td>\n      <td>20200101</td>\n      <td>18:00</td>\n      <td>2020-02-03 12:21:56.56</td>\n    </tr>\n    <tr>\n      <th>1</th>\n      <td>412.0</td>\n      <td>NaN</td>\n      <td>NaN</td>\n      <td>NaN</td>\n      <td>NaN</td>\n      <td>1</td>\n      <td>2020-01-31 17:47:33.33</td>\n      <td>0</td>\n      <td>0</td>\n      <td>1</td>\n      <td>NaN</td>\n      <td>1</td>\n      <td>20200201</td>\n      <td>18:00</td>\n      <td>2020-01-31 17:47:33.33</td>\n    </tr>\n    <tr>\n      <th>2</th>\n      <td>411.0</td>\n      <td>NaN</td>\n      <td>NaN</td>\n      <td>NaN</td>\n      <td>NaN</td>\n      <td>2</td>\n      <td>2020-02-03 12:22:49.49</td>\n      <td>2</td>\n      <td>2</td>\n      <td>2</td>\n      <td>NaN</td>\n      <td>2</td>\n      <td>20200202</td>\n      <td>09:00</td>\n      <td>2020-02-03 12:22:49.49</td>\n    </tr>\n    <tr>\n      <th>3</th>\n      <td>410.0</td>\n      <td>NaN</td>\n      <td>NaN</td>\n      <td>NaN</td>\n      <td>NaN</td>\n      <td>0</td>\n      <td>2020-02-03 14:41:17.17</td>\n      <td>0</td>\n      <td>15</td>\n      <td>0</td>\n      <td>NaN</td>\n      <td>3</td>\n      <td>20200203</td>\n      <td>09:00</td>\n      <td>2020-02-03 14:41:17.17</td>\n    </tr>\n    <tr>\n      <th>4</th>\n      <td>409.0</td>\n      <td>NaN</td>\n      <td>NaN</td>\n      <td>NaN</td>\n      <td>NaN</td>\n      <td>0</td>\n      <td>2020-02-03 21:26:59.59</td>\n      <td>0</td>\n      <td>0</td>\n      <td>0</td>\n      <td>NaN</td>\n      <td>4</td>\n      <td>20200204</td>\n      <td>00:00</td>\n      <td>2020-02-03 21:26:59.59</td>\n    </tr>\n    <tr>\n      <th>...</th>\n      <td>...</td>\n      <td>...</td>\n      <td>...</td>\n      <td>...</td>\n      <td>...</td>\n      <td>...</td>\n      <td>...</td>\n      <td>...</td>\n      <td>...</td>\n      <td>...</td>\n      <td>...</td>\n      <td>...</td>\n      <td>...</td>\n      <td>...</td>\n      <td>...</td>\n    </tr>\n    <tr>\n      <th>410</th>\n      <td>3.0</td>\n      <td>1.367474</td>\n      <td>7126077.0</td>\n      <td>7048033.0</td>\n      <td>6447.0</td>\n      <td>88255</td>\n      <td>2021-03-16 09:36:13.502</td>\n      <td>1678</td>\n      <td>96380</td>\n      <td>78044</td>\n      <td>6951653.0</td>\n      <td>450</td>\n      <td>20210316</td>\n      <td>00:00</td>\n      <td>NaN</td>\n    </tr>\n    <tr>\n      <th>411</th>\n      <td>2.0</td>\n      <td>1.366371</td>\n      <td>7171510.0</td>\n      <td>7088048.0</td>\n      <td>6349.0</td>\n      <td>88814</td>\n      <td>2021-03-17 09:31:37.789</td>\n      <td>1686</td>\n      <td>96849</td>\n      <td>83462</td>\n      <td>6991199.0</td>\n      <td>451</td>\n      <td>20210317</td>\n      <td>00:00</td>\n      <td>NaN</td>\n    </tr>\n    <tr>\n      <th>412</th>\n      <td>1.0</td>\n      <td>1.364885</td>\n      <td>7218087.0</td>\n      <td>7128365.0</td>\n      <td>6428.0</td>\n      <td>89178</td>\n      <td>2021-03-18 09:38:40.962</td>\n      <td>1688</td>\n      <td>97294</td>\n      <td>89722</td>\n      <td>7031071.0</td>\n      <td>452</td>\n      <td>20210318</td>\n      <td>00:00</td>\n      <td>NaN</td>\n    </tr>\n    <tr>\n      <th>413</th>\n      <td>0.0</td>\n      <td>1.362163</td>\n      <td>7264941.0</td>\n      <td>7176600.0</td>\n      <td>6544.0</td>\n      <td>89523</td>\n      <td>2021-03-19 09:32:03.884</td>\n      <td>1690</td>\n      <td>97757</td>\n      <td>88341</td>\n      <td>7078843.0</td>\n      <td>453</td>\n      <td>20210319</td>\n      <td>00:00</td>\n      <td>NaN</td>\n    </tr>\n    <tr>\n      <th>0</th>\n      <td>NaN</td>\n      <td>1.3610022932</td>\n      <td>7308950</td>\n      <td>7215932</td>\n      <td>6567</td>\n      <td>89949</td>\n      <td>2021-03-20 09:31:53.146</td>\n      <td>1693</td>\n      <td>98209</td>\n      <td>93018</td>\n      <td>7117723</td>\n      <td>454</td>\n      <td>20210320</td>\n      <td>00:00</td>\n      <td>null</td>\n    </tr>\n  </tbody>\n</table>\n<p>415 rows × 15 columns</p>\n</div>"
     },
     "execution_count": 82,
     "metadata": {},
     "output_type": "execute_result"
    }
   ],
   "source": [
    "df_old = pd.read_csv(ls[-1])\n",
    "df = df_old.append(df_new)\n",
    "df.to_csv('covid19_' + nowDate + '.csv', mode='w')\n",
    "\n",
    "df"
   ],
   "metadata": {
    "collapsed": false,
    "pycharm": {
     "name": "#%%\n"
    }
   }
  }
 ],
 "metadata": {
  "kernelspec": {
   "display_name": "Python 3",
   "language": "python",
   "name": "python3"
  },
  "language_info": {
   "codemirror_mode": {
    "name": "ipython",
    "version": 2
   },
   "file_extension": ".py",
   "mimetype": "text/x-python",
   "name": "python",
   "nbconvert_exporter": "python",
   "pygments_lexer": "ipython2",
   "version": "2.7.6"
  }
 },
 "nbformat": 4,
 "nbformat_minor": 0
}