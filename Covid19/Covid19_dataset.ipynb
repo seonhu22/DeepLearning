{
 "cells": [
  {
   "cell_type": "code",
   "execution_count": 1,
   "metadata": {
    "collapsed": true
   },
   "outputs": [],
   "source": [
    "import requests\n",
    "import xmltodict\n",
    "import datetime\n",
    "import pandas as pd\n",
    "import glob\n",
    "import re"
   ]
  },
  {
   "cell_type": "code",
   "execution_count": 2,
   "outputs": [
    {
     "data": {
      "text/plain": "'20210531'"
     },
     "execution_count": 2,
     "metadata": {},
     "output_type": "execute_result"
    }
   ],
   "source": [
    "# 현재 날짜 확인\n",
    "now = datetime.datetime.now()\n",
    "nowDate = now.strftime('%Y%m%d')\n",
    "\n",
    "nowDate"
   ],
   "metadata": {
    "collapsed": false,
    "pycharm": {
     "name": "#%%\n"
    }
   }
  },
  {
   "cell_type": "code",
   "execution_count": 3,
   "outputs": [
    {
     "data": {
      "text/plain": "('20210524',\n 'covid19_20210524_all.csv',\n '20210524',\n 'covid19_20210524_part.csv')"
     },
     "execution_count": 3,
     "metadata": {},
     "output_type": "execute_result"
    }
   ],
   "source": [
    "# 현재 디렉토리에 있는 가장 최신 파일 날짜 확인\n",
    "ls_all = glob.glob(\"./dataset/all/*.csv\")\n",
    "if not ls_all:\n",
    "    oldDate_all = '20200101'\n",
    "else:\n",
    "    ls_all.sort()\n",
    "    oldDate_all = ls_all[-1][22:-8]\n",
    "    oldDate_csv_all = ls_all[-1][14:]\n",
    "\n",
    "ls_part = glob.glob(\"./dataset/part/*.csv\")\n",
    "if not ls_part:\n",
    "    oldDate_part = '20200101'\n",
    "else:\n",
    "    ls_part.sort()\n",
    "    oldDate_part = ls_part[-1][23:-9]\n",
    "    oldDate_csv_part = ls_part[-1][15:]\n",
    "\n",
    "oldDate_all, oldDate_csv_all, oldDate_part, oldDate_csv_part\n",
    "\n",
    "# all: 전국 통합, part: 시, 도 분할"
   ],
   "metadata": {
    "collapsed": false,
    "pycharm": {
     "name": "#%%\n"
    }
   }
  },
  {
   "cell_type": "code",
   "execution_count": 4,
   "outputs": [],
   "source": [
    "# 현재 날짜부터 디렉토리에 있는 가장 최신 파일 날짜까지 데이터 다운로드\n",
    "url_base_all = 'http://openapi.data.go.kr/openapi/service/rest/Covid19/getCovid19InfStateJson'\n",
    "url_base_part = 'http://openapi.data.go.kr/openapi/service/rest/Covid19/getCovid19SidoInfStateJson'\n",
    "url_serviceKey = 'j8RHAoYLh5NFcdYjbRbdSoOGiuOeHwQZZaU3Mqu78SUYGddoObBnh0Xx3o%2BVPFtZhz5hZaQOf%2B9dMFljJK%2BpLQ%3D%3D'\n",
    "url_pages = '1000'\n",
    "url_start_date_all = oldDate_all\n",
    "url_start_date_part = oldDate_part\n",
    "url_end_date = nowDate\n",
    "url_all = url_base_all + '?serviceKey=' + url_serviceKey + '&pageNo=1&numOfRows=' + url_pages + '&startCreateDt=' + url_start_date_all + '&endCreateDt=' + url_end_date\n",
    "url_part = url_base_part + '?serviceKey=' + url_serviceKey + '&pageNo=1&numOfRows=' + url_pages + '&startCreateDt=' + url_start_date_part + '&endCreateDt=' + url_end_date"
   ],
   "metadata": {
    "collapsed": false,
    "pycharm": {
     "name": "#%%인\n"
    }
   }
  },
  {
   "cell_type": "code",
   "execution_count": 5,
   "outputs": [],
   "source": [
    "req_all = requests.get(url_all).content\n",
    "req_part = requests.get(url_part).content\n",
    "xmlObject_all = xmltodict.parse(req_all)\n",
    "xmlObject_part = xmltodict.parse(req_part)\n",
    "dict_data_all = xmlObject_all['response']['body']['items']['item']\n",
    "dict_data_part = xmlObject_part['response']['body']['items']['item']"
   ],
   "metadata": {
    "collapsed": false,
    "pycharm": {
     "name": "#%%\n"
    }
   }
  },
  {
   "cell_type": "code",
   "execution_count": 6,
   "outputs": [],
   "source": [
    "df_new_all = pd.DataFrame(dict_data_all)\n",
    "df_new_part = pd.DataFrame(dict_data_part)"
   ],
   "metadata": {
    "collapsed": false,
    "pycharm": {
     "name": "#%%\n"
    }
   }
  },
  {
   "cell_type": "code",
   "execution_count": 7,
   "outputs": [
    {
     "data": {
      "text/plain": "                    createDt deathCnt  defCnt gubun gubunCn           gubunEn  \\\n0    2021-05-31 09:41:22.919        4    3844    검역     隔離區         Lazaretto   \n1    2021-05-31 09:41:22.918        1    1030    제주      济州              Jeju   \n2    2021-05-31 09:41:22.918       19    4699    경남      庆南  Gyeongsangnam-do   \n3    2021-05-31 09:41:22.918       85    4692    경북      庆北  Gyeongsangbuk-do   \n4    2021-05-31 09:41:22.918       15    1463    전남      全南      Jeollanam-do   \n..                       ...      ...     ...   ...     ...               ...   \n147  2021-05-24 09:46:24.359       61    6064    인천      仁川           Incheon   \n148  2021-05-24 09:46:24.358      221    9733    대구      大邱             Daegu   \n149  2021-05-24 09:46:24.358      124    5555    부산      釜山             Busan   \n150  2021-05-24 09:46:24.358      480   42601    서울      首尔             Seoul   \n151  2021-05-24 09:46:24.358     1934  136459    합계      合计             Total   \n\n    incDec isolClearCnt isolIngCnt localOccCnt overFlowCnt qurRate   seq  \\\n0        7         3600        240           0           7       -  9849   \n1        7          898        131           6           1  153.56  9848   \n2       16         4468        212          15           1  139.80  9847   \n3       18         4378        229          15           3  176.22  9846   \n4        6         1282        166           6           0   78.46  9845   \n..     ...          ...        ...         ...         ...     ...   ...   \n147     18         5803        200          18           0  205.13  9702   \n148     48         9228        284          48           0  399.47  9701   \n149     15         5169        262          14           1  162.82  9700   \n150    139        39276       2845         136           3  437.67  9699   \n151    530       126427       8098         505          25  263.21  9698   \n\n       stdDay                updateDt  \n0    20210531                    null  \n1    20210531                    null  \n2    20210531                    null  \n3    20210531                    null  \n4    20210531                    null  \n..        ...                     ...  \n147  20210524                    null  \n148  20210524                    null  \n149  20210524                    null  \n150  20210524                    null  \n151  20210524  2021-05-26 17:13:11.29  \n\n[152 rows x 15 columns]",
      "text/html": "<div>\n<style scoped>\n    .dataframe tbody tr th:only-of-type {\n        vertical-align: middle;\n    }\n\n    .dataframe tbody tr th {\n        vertical-align: top;\n    }\n\n    .dataframe thead th {\n        text-align: right;\n    }\n</style>\n<table border=\"1\" class=\"dataframe\">\n  <thead>\n    <tr style=\"text-align: right;\">\n      <th></th>\n      <th>createDt</th>\n      <th>deathCnt</th>\n      <th>defCnt</th>\n      <th>gubun</th>\n      <th>gubunCn</th>\n      <th>gubunEn</th>\n      <th>incDec</th>\n      <th>isolClearCnt</th>\n      <th>isolIngCnt</th>\n      <th>localOccCnt</th>\n      <th>overFlowCnt</th>\n      <th>qurRate</th>\n      <th>seq</th>\n      <th>stdDay</th>\n      <th>updateDt</th>\n    </tr>\n  </thead>\n  <tbody>\n    <tr>\n      <th>0</th>\n      <td>2021-05-31 09:41:22.919</td>\n      <td>4</td>\n      <td>3844</td>\n      <td>검역</td>\n      <td>隔離區</td>\n      <td>Lazaretto</td>\n      <td>7</td>\n      <td>3600</td>\n      <td>240</td>\n      <td>0</td>\n      <td>7</td>\n      <td>-</td>\n      <td>9849</td>\n      <td>20210531</td>\n      <td>null</td>\n    </tr>\n    <tr>\n      <th>1</th>\n      <td>2021-05-31 09:41:22.918</td>\n      <td>1</td>\n      <td>1030</td>\n      <td>제주</td>\n      <td>济州</td>\n      <td>Jeju</td>\n      <td>7</td>\n      <td>898</td>\n      <td>131</td>\n      <td>6</td>\n      <td>1</td>\n      <td>153.56</td>\n      <td>9848</td>\n      <td>20210531</td>\n      <td>null</td>\n    </tr>\n    <tr>\n      <th>2</th>\n      <td>2021-05-31 09:41:22.918</td>\n      <td>19</td>\n      <td>4699</td>\n      <td>경남</td>\n      <td>庆南</td>\n      <td>Gyeongsangnam-do</td>\n      <td>16</td>\n      <td>4468</td>\n      <td>212</td>\n      <td>15</td>\n      <td>1</td>\n      <td>139.80</td>\n      <td>9847</td>\n      <td>20210531</td>\n      <td>null</td>\n    </tr>\n    <tr>\n      <th>3</th>\n      <td>2021-05-31 09:41:22.918</td>\n      <td>85</td>\n      <td>4692</td>\n      <td>경북</td>\n      <td>庆北</td>\n      <td>Gyeongsangbuk-do</td>\n      <td>18</td>\n      <td>4378</td>\n      <td>229</td>\n      <td>15</td>\n      <td>3</td>\n      <td>176.22</td>\n      <td>9846</td>\n      <td>20210531</td>\n      <td>null</td>\n    </tr>\n    <tr>\n      <th>4</th>\n      <td>2021-05-31 09:41:22.918</td>\n      <td>15</td>\n      <td>1463</td>\n      <td>전남</td>\n      <td>全南</td>\n      <td>Jeollanam-do</td>\n      <td>6</td>\n      <td>1282</td>\n      <td>166</td>\n      <td>6</td>\n      <td>0</td>\n      <td>78.46</td>\n      <td>9845</td>\n      <td>20210531</td>\n      <td>null</td>\n    </tr>\n    <tr>\n      <th>...</th>\n      <td>...</td>\n      <td>...</td>\n      <td>...</td>\n      <td>...</td>\n      <td>...</td>\n      <td>...</td>\n      <td>...</td>\n      <td>...</td>\n      <td>...</td>\n      <td>...</td>\n      <td>...</td>\n      <td>...</td>\n      <td>...</td>\n      <td>...</td>\n      <td>...</td>\n    </tr>\n    <tr>\n      <th>147</th>\n      <td>2021-05-24 09:46:24.359</td>\n      <td>61</td>\n      <td>6064</td>\n      <td>인천</td>\n      <td>仁川</td>\n      <td>Incheon</td>\n      <td>18</td>\n      <td>5803</td>\n      <td>200</td>\n      <td>18</td>\n      <td>0</td>\n      <td>205.13</td>\n      <td>9702</td>\n      <td>20210524</td>\n      <td>null</td>\n    </tr>\n    <tr>\n      <th>148</th>\n      <td>2021-05-24 09:46:24.358</td>\n      <td>221</td>\n      <td>9733</td>\n      <td>대구</td>\n      <td>大邱</td>\n      <td>Daegu</td>\n      <td>48</td>\n      <td>9228</td>\n      <td>284</td>\n      <td>48</td>\n      <td>0</td>\n      <td>399.47</td>\n      <td>9701</td>\n      <td>20210524</td>\n      <td>null</td>\n    </tr>\n    <tr>\n      <th>149</th>\n      <td>2021-05-24 09:46:24.358</td>\n      <td>124</td>\n      <td>5555</td>\n      <td>부산</td>\n      <td>釜山</td>\n      <td>Busan</td>\n      <td>15</td>\n      <td>5169</td>\n      <td>262</td>\n      <td>14</td>\n      <td>1</td>\n      <td>162.82</td>\n      <td>9700</td>\n      <td>20210524</td>\n      <td>null</td>\n    </tr>\n    <tr>\n      <th>150</th>\n      <td>2021-05-24 09:46:24.358</td>\n      <td>480</td>\n      <td>42601</td>\n      <td>서울</td>\n      <td>首尔</td>\n      <td>Seoul</td>\n      <td>139</td>\n      <td>39276</td>\n      <td>2845</td>\n      <td>136</td>\n      <td>3</td>\n      <td>437.67</td>\n      <td>9699</td>\n      <td>20210524</td>\n      <td>null</td>\n    </tr>\n    <tr>\n      <th>151</th>\n      <td>2021-05-24 09:46:24.358</td>\n      <td>1934</td>\n      <td>136459</td>\n      <td>합계</td>\n      <td>合计</td>\n      <td>Total</td>\n      <td>530</td>\n      <td>126427</td>\n      <td>8098</td>\n      <td>505</td>\n      <td>25</td>\n      <td>263.21</td>\n      <td>9698</td>\n      <td>20210524</td>\n      <td>2021-05-26 17:13:11.29</td>\n    </tr>\n  </tbody>\n</table>\n<p>152 rows × 15 columns</p>\n</div>"
     },
     "execution_count": 7,
     "metadata": {},
     "output_type": "execute_result"
    }
   ],
   "source": [
    "for i in range(df_new_part.shape[0]):\n",
    "    t = re.split(r'년|월|일|시| ', df_new_part['stdDay'][i])\n",
    "    df_new_part['stdDay'][i] = ''.join(t[0:5:2])\n",
    "\n",
    "df_new_part"
   ],
   "metadata": {
    "collapsed": false,
    "pycharm": {
     "name": "#%%\n"
    }
   }
  },
  {
   "cell_type": "code",
   "execution_count": 8,
   "outputs": [],
   "source": [
    "df_new_all = df_new_all.sort_values(by=['stateDt'])\n",
    "df_new_part = df_new_part.sort_values(by=['stdDay'])\n",
    "df_new_all = df_new_all.drop(df_new_all.index[0:1])\n",
    "df_new_part = df_new_part.drop(df_new_part.index[0:20])"
   ],
   "metadata": {
    "collapsed": false,
    "pycharm": {
     "name": "#%%\n"
    }
   }
  },
  {
   "cell_type": "code",
   "execution_count": 9,
   "outputs": [
    {
     "data": {
      "text/plain": "     accDefRate accExamCnt accExamCompCnt careCnt clearCnt  \\\n6  1.4455504748    9592727        9475629    8044   126993   \n5  1.4479226274    9629450        9508381    8160   127574   \n4  1.4493399059    9665693        9543034    8188   128180   \n3  1.4499377008    9702456        9579584    8193   128759   \n2  1.4509249463    9733591        9609801    7741   129739   \n1  1.4541964496    9747614        9621121    7572   130381   \n0  1.4568360166    9761158        9633205    7558   130823   \n\n                  createDt deathCnt decideCnt examCnt resutlNegCnt  seq  \\\n6  2021-05-25 09:33:39.762     1938    136975  117098      9338654  522   \n5  2021-05-26 09:46:42.628     1940    137674  121069      9370707  523   \n4  2021-05-27 09:39:43.099     1943    138311  122659      9404723  524   \n3  2021-05-28 09:34:29.553     1946    138898  122872      9440686  525   \n2  2021-05-29 09:45:26.765     1951    139431  123790      9470370  526   \n1  2021-05-30 09:24:39.384     1957    139910  126493      9481211  527   \n0  2021-05-31 09:34:29.254     1959    140340  127953      9492865  528   \n\n    stateDt stateTime                 updateDt  \n6  20210525     00:00  2021-05-26 17:26:57.787  \n5  20210526     00:00  2021-05-27 09:40:52.468  \n4  20210527     00:00                     null  \n3  20210528     00:00  2021-05-29 09:47:35.466  \n2  20210529     00:00                     null  \n1  20210530     00:00                     null  \n0  20210531     00:00                     null  ",
      "text/html": "<div>\n<style scoped>\n    .dataframe tbody tr th:only-of-type {\n        vertical-align: middle;\n    }\n\n    .dataframe tbody tr th {\n        vertical-align: top;\n    }\n\n    .dataframe thead th {\n        text-align: right;\n    }\n</style>\n<table border=\"1\" class=\"dataframe\">\n  <thead>\n    <tr style=\"text-align: right;\">\n      <th></th>\n      <th>accDefRate</th>\n      <th>accExamCnt</th>\n      <th>accExamCompCnt</th>\n      <th>careCnt</th>\n      <th>clearCnt</th>\n      <th>createDt</th>\n      <th>deathCnt</th>\n      <th>decideCnt</th>\n      <th>examCnt</th>\n      <th>resutlNegCnt</th>\n      <th>seq</th>\n      <th>stateDt</th>\n      <th>stateTime</th>\n      <th>updateDt</th>\n    </tr>\n  </thead>\n  <tbody>\n    <tr>\n      <th>6</th>\n      <td>1.4455504748</td>\n      <td>9592727</td>\n      <td>9475629</td>\n      <td>8044</td>\n      <td>126993</td>\n      <td>2021-05-25 09:33:39.762</td>\n      <td>1938</td>\n      <td>136975</td>\n      <td>117098</td>\n      <td>9338654</td>\n      <td>522</td>\n      <td>20210525</td>\n      <td>00:00</td>\n      <td>2021-05-26 17:26:57.787</td>\n    </tr>\n    <tr>\n      <th>5</th>\n      <td>1.4479226274</td>\n      <td>9629450</td>\n      <td>9508381</td>\n      <td>8160</td>\n      <td>127574</td>\n      <td>2021-05-26 09:46:42.628</td>\n      <td>1940</td>\n      <td>137674</td>\n      <td>121069</td>\n      <td>9370707</td>\n      <td>523</td>\n      <td>20210526</td>\n      <td>00:00</td>\n      <td>2021-05-27 09:40:52.468</td>\n    </tr>\n    <tr>\n      <th>4</th>\n      <td>1.4493399059</td>\n      <td>9665693</td>\n      <td>9543034</td>\n      <td>8188</td>\n      <td>128180</td>\n      <td>2021-05-27 09:39:43.099</td>\n      <td>1943</td>\n      <td>138311</td>\n      <td>122659</td>\n      <td>9404723</td>\n      <td>524</td>\n      <td>20210527</td>\n      <td>00:00</td>\n      <td>null</td>\n    </tr>\n    <tr>\n      <th>3</th>\n      <td>1.4499377008</td>\n      <td>9702456</td>\n      <td>9579584</td>\n      <td>8193</td>\n      <td>128759</td>\n      <td>2021-05-28 09:34:29.553</td>\n      <td>1946</td>\n      <td>138898</td>\n      <td>122872</td>\n      <td>9440686</td>\n      <td>525</td>\n      <td>20210528</td>\n      <td>00:00</td>\n      <td>2021-05-29 09:47:35.466</td>\n    </tr>\n    <tr>\n      <th>2</th>\n      <td>1.4509249463</td>\n      <td>9733591</td>\n      <td>9609801</td>\n      <td>7741</td>\n      <td>129739</td>\n      <td>2021-05-29 09:45:26.765</td>\n      <td>1951</td>\n      <td>139431</td>\n      <td>123790</td>\n      <td>9470370</td>\n      <td>526</td>\n      <td>20210529</td>\n      <td>00:00</td>\n      <td>null</td>\n    </tr>\n    <tr>\n      <th>1</th>\n      <td>1.4541964496</td>\n      <td>9747614</td>\n      <td>9621121</td>\n      <td>7572</td>\n      <td>130381</td>\n      <td>2021-05-30 09:24:39.384</td>\n      <td>1957</td>\n      <td>139910</td>\n      <td>126493</td>\n      <td>9481211</td>\n      <td>527</td>\n      <td>20210530</td>\n      <td>00:00</td>\n      <td>null</td>\n    </tr>\n    <tr>\n      <th>0</th>\n      <td>1.4568360166</td>\n      <td>9761158</td>\n      <td>9633205</td>\n      <td>7558</td>\n      <td>130823</td>\n      <td>2021-05-31 09:34:29.254</td>\n      <td>1959</td>\n      <td>140340</td>\n      <td>127953</td>\n      <td>9492865</td>\n      <td>528</td>\n      <td>20210531</td>\n      <td>00:00</td>\n      <td>null</td>\n    </tr>\n  </tbody>\n</table>\n</div>"
     },
     "execution_count": 9,
     "metadata": {},
     "output_type": "execute_result"
    }
   ],
   "source": [
    "df_new_all"
   ],
   "metadata": {
    "collapsed": false,
    "pycharm": {
     "name": "#%%\n"
    }
   }
  },
  {
   "cell_type": "code",
   "execution_count": 10,
   "outputs": [
    {
     "data": {
      "text/plain": "                    createDt deathCnt  defCnt gubun gubunCn           gubunEn  \\\n114  2021-05-25 09:37:21.497        4    3787    검역     隔離區         Lazaretto   \n115  2021-05-25 09:37:21.497        1     963    제주      济州              Jeju   \n116  2021-05-25 09:37:21.497       19    4594    경남      庆南  Gyeongsangnam-do   \n117  2021-05-25 09:37:21.496       84    4617    경북      庆北  Gyeongsangbuk-do   \n118  2021-05-25 09:37:21.496       13    1409    전남      全南      Jeollanam-do   \n..                       ...      ...     ...   ...     ...               ...   \n16   2021-05-31 09:41:22.916      124    5668    부산      釜山             Busan   \n17   2021-05-31 09:41:22.916      488   43917    서울      首尔             Seoul   \n18   2021-05-31 09:41:22.916     1959  140340    합계      合计             Total   \n9    2021-05-31 09:41:22.917      638   39081    경기      京畿       Gyeonggi-do   \n0    2021-05-31 09:41:22.919        4    3844    검역     隔離區         Lazaretto   \n\n    incDec isolClearCnt isolIngCnt localOccCnt overFlowCnt qurRate   seq  \\\n114     22         3538        245           0          22       -  9735   \n115     17          847        115          17           0  143.57  9734   \n116     14         4331        244          13           1  136.67  9733   \n117     12         4262        271          11           1  173.41  9732   \n118      7         1193        203           7           0   75.56  9731   \n..     ...          ...        ...         ...         ...     ...   ...   \n16      17         5340        204          16           1  166.13  9833   \n17     130        40815       2614         129           1  451.19  9832   \n18     430       130823       7558         411          19  270.68  9831   \n9      130        36472       1971         127           3  294.94  9840   \n0        7         3600        240           0           7       -  9849   \n\n       stdDay updateDt  \n114  20210525     null  \n115  20210525     null  \n116  20210525     null  \n117  20210525     null  \n118  20210525     null  \n..        ...      ...  \n16   20210531     null  \n17   20210531     null  \n18   20210531     null  \n9    20210531     null  \n0    20210531     null  \n\n[132 rows x 15 columns]",
      "text/html": "<div>\n<style scoped>\n    .dataframe tbody tr th:only-of-type {\n        vertical-align: middle;\n    }\n\n    .dataframe tbody tr th {\n        vertical-align: top;\n    }\n\n    .dataframe thead th {\n        text-align: right;\n    }\n</style>\n<table border=\"1\" class=\"dataframe\">\n  <thead>\n    <tr style=\"text-align: right;\">\n      <th></th>\n      <th>createDt</th>\n      <th>deathCnt</th>\n      <th>defCnt</th>\n      <th>gubun</th>\n      <th>gubunCn</th>\n      <th>gubunEn</th>\n      <th>incDec</th>\n      <th>isolClearCnt</th>\n      <th>isolIngCnt</th>\n      <th>localOccCnt</th>\n      <th>overFlowCnt</th>\n      <th>qurRate</th>\n      <th>seq</th>\n      <th>stdDay</th>\n      <th>updateDt</th>\n    </tr>\n  </thead>\n  <tbody>\n    <tr>\n      <th>114</th>\n      <td>2021-05-25 09:37:21.497</td>\n      <td>4</td>\n      <td>3787</td>\n      <td>검역</td>\n      <td>隔離區</td>\n      <td>Lazaretto</td>\n      <td>22</td>\n      <td>3538</td>\n      <td>245</td>\n      <td>0</td>\n      <td>22</td>\n      <td>-</td>\n      <td>9735</td>\n      <td>20210525</td>\n      <td>null</td>\n    </tr>\n    <tr>\n      <th>115</th>\n      <td>2021-05-25 09:37:21.497</td>\n      <td>1</td>\n      <td>963</td>\n      <td>제주</td>\n      <td>济州</td>\n      <td>Jeju</td>\n      <td>17</td>\n      <td>847</td>\n      <td>115</td>\n      <td>17</td>\n      <td>0</td>\n      <td>143.57</td>\n      <td>9734</td>\n      <td>20210525</td>\n      <td>null</td>\n    </tr>\n    <tr>\n      <th>116</th>\n      <td>2021-05-25 09:37:21.497</td>\n      <td>19</td>\n      <td>4594</td>\n      <td>경남</td>\n      <td>庆南</td>\n      <td>Gyeongsangnam-do</td>\n      <td>14</td>\n      <td>4331</td>\n      <td>244</td>\n      <td>13</td>\n      <td>1</td>\n      <td>136.67</td>\n      <td>9733</td>\n      <td>20210525</td>\n      <td>null</td>\n    </tr>\n    <tr>\n      <th>117</th>\n      <td>2021-05-25 09:37:21.496</td>\n      <td>84</td>\n      <td>4617</td>\n      <td>경북</td>\n      <td>庆北</td>\n      <td>Gyeongsangbuk-do</td>\n      <td>12</td>\n      <td>4262</td>\n      <td>271</td>\n      <td>11</td>\n      <td>1</td>\n      <td>173.41</td>\n      <td>9732</td>\n      <td>20210525</td>\n      <td>null</td>\n    </tr>\n    <tr>\n      <th>118</th>\n      <td>2021-05-25 09:37:21.496</td>\n      <td>13</td>\n      <td>1409</td>\n      <td>전남</td>\n      <td>全南</td>\n      <td>Jeollanam-do</td>\n      <td>7</td>\n      <td>1193</td>\n      <td>203</td>\n      <td>7</td>\n      <td>0</td>\n      <td>75.56</td>\n      <td>9731</td>\n      <td>20210525</td>\n      <td>null</td>\n    </tr>\n    <tr>\n      <th>...</th>\n      <td>...</td>\n      <td>...</td>\n      <td>...</td>\n      <td>...</td>\n      <td>...</td>\n      <td>...</td>\n      <td>...</td>\n      <td>...</td>\n      <td>...</td>\n      <td>...</td>\n      <td>...</td>\n      <td>...</td>\n      <td>...</td>\n      <td>...</td>\n      <td>...</td>\n    </tr>\n    <tr>\n      <th>16</th>\n      <td>2021-05-31 09:41:22.916</td>\n      <td>124</td>\n      <td>5668</td>\n      <td>부산</td>\n      <td>釜山</td>\n      <td>Busan</td>\n      <td>17</td>\n      <td>5340</td>\n      <td>204</td>\n      <td>16</td>\n      <td>1</td>\n      <td>166.13</td>\n      <td>9833</td>\n      <td>20210531</td>\n      <td>null</td>\n    </tr>\n    <tr>\n      <th>17</th>\n      <td>2021-05-31 09:41:22.916</td>\n      <td>488</td>\n      <td>43917</td>\n      <td>서울</td>\n      <td>首尔</td>\n      <td>Seoul</td>\n      <td>130</td>\n      <td>40815</td>\n      <td>2614</td>\n      <td>129</td>\n      <td>1</td>\n      <td>451.19</td>\n      <td>9832</td>\n      <td>20210531</td>\n      <td>null</td>\n    </tr>\n    <tr>\n      <th>18</th>\n      <td>2021-05-31 09:41:22.916</td>\n      <td>1959</td>\n      <td>140340</td>\n      <td>합계</td>\n      <td>合计</td>\n      <td>Total</td>\n      <td>430</td>\n      <td>130823</td>\n      <td>7558</td>\n      <td>411</td>\n      <td>19</td>\n      <td>270.68</td>\n      <td>9831</td>\n      <td>20210531</td>\n      <td>null</td>\n    </tr>\n    <tr>\n      <th>9</th>\n      <td>2021-05-31 09:41:22.917</td>\n      <td>638</td>\n      <td>39081</td>\n      <td>경기</td>\n      <td>京畿</td>\n      <td>Gyeonggi-do</td>\n      <td>130</td>\n      <td>36472</td>\n      <td>1971</td>\n      <td>127</td>\n      <td>3</td>\n      <td>294.94</td>\n      <td>9840</td>\n      <td>20210531</td>\n      <td>null</td>\n    </tr>\n    <tr>\n      <th>0</th>\n      <td>2021-05-31 09:41:22.919</td>\n      <td>4</td>\n      <td>3844</td>\n      <td>검역</td>\n      <td>隔離區</td>\n      <td>Lazaretto</td>\n      <td>7</td>\n      <td>3600</td>\n      <td>240</td>\n      <td>0</td>\n      <td>7</td>\n      <td>-</td>\n      <td>9849</td>\n      <td>20210531</td>\n      <td>null</td>\n    </tr>\n  </tbody>\n</table>\n<p>132 rows × 15 columns</p>\n</div>"
     },
     "execution_count": 10,
     "metadata": {},
     "output_type": "execute_result"
    }
   ],
   "source": [
    "df_new_part\n",
    "#   속성 설명(all)\n",
    "#   DECIDE_CNT          확진자수\n",
    "#   CLEAR_CNT           격리해제 수\n",
    "#   EXAM_CNT            검사진행 수\n",
    "#   DEATH_CNT           사망자 수\n",
    "#   CARE_CNT            치료중 환자 수\n",
    "#   RESULT_NEG_CNT      결과 음성 수\n",
    "#   ACC_EXAM_CNT        누적 검사 수\n",
    "#   ACC_EXAM_COMP_CNT   누적 검사 완료 수\n",
    "#   ACC_DEF_RATE        누적 확진률\n",
    "#   CREATE_DT           등록일시분초\n",
    "#   UPDATE_DT           수정일시분"
   ],
   "metadata": {
    "collapsed": false,
    "pycharm": {
     "name": "#%%\n"
    }
   }
  },
  {
   "cell_type": "code",
   "execution_count": 11,
   "outputs": [
    {
     "data": {
      "text/plain": "     accDefRate  accExamCnt  accExamCompCnt  careCnt  clearCnt  \\\n0           NaN         NaN             NaN      NaN         1   \n1           NaN         NaN             NaN      NaN         1   \n2           NaN         NaN             NaN      NaN         2   \n3           NaN         NaN             NaN      NaN         0   \n4           NaN         NaN             NaN      NaN         0   \n..          ...         ...             ...      ...       ...   \n475    1.436175   9447358.0       9338485.0   8542.0    123659   \n476    1.436877   9487108.0       9372964.0   8598.0    124158   \n477    1.439308   9520966.0       9403408.0   8386.0    125032   \n478    1.443893   9536299.0       9414064.0   8117.0    125881   \n479    1.446712   9553613.0       9432909.0   8106.0    126427   \n\n                    createDt  deathCnt  decideCnt  examCnt  resutlNegCnt  seq  \\\n0                    47:33.3         0          0        1           NaN    1   \n1                    47:33.3         0          0        1           NaN    1   \n2                    22:49.5         2          2        2           NaN    2   \n3                    41:17.2         0         15        0           NaN    3   \n4                    26:59.6         0          0        0           NaN    4   \n..                       ...       ...        ...      ...           ...  ...   \n475  2021-05-20 09:35:45.542      1916     134117   108873     9204368.0  517   \n476  2021-05-21 09:36:32.023      1922     134678   114144     9238286.0  518   \n477  2021-05-22 09:37:01.885      1926     135344   117558     9268064.0  519   \n478  2021-05-23 09:37:54.099      1931     135929   122235     9278135.0  520   \n479  2021-05-24 09:42:11.785      1934     136467   120704     9296442.0  521   \n\n      stateDt stateTime                 updateDt  \n0    20200101     18:00                  21:56.6  \n1    20200201     18:00                  47:33.3  \n2    20200202      9:00                  22:49.5  \n3    20200203      9:00                  41:17.2  \n4    20200204      0:00                  26:59.6  \n..        ...       ...                      ...  \n475  20210520     00:00  2021-05-21 09:47:58.875  \n476  20210521     00:00                      NaN  \n477  20210522     00:00                      NaN  \n478  20210523     00:00                      NaN  \n479  20210524     00:00                      NaN  \n\n[480 rows x 14 columns]",
      "text/html": "<div>\n<style scoped>\n    .dataframe tbody tr th:only-of-type {\n        vertical-align: middle;\n    }\n\n    .dataframe tbody tr th {\n        vertical-align: top;\n    }\n\n    .dataframe thead th {\n        text-align: right;\n    }\n</style>\n<table border=\"1\" class=\"dataframe\">\n  <thead>\n    <tr style=\"text-align: right;\">\n      <th></th>\n      <th>accDefRate</th>\n      <th>accExamCnt</th>\n      <th>accExamCompCnt</th>\n      <th>careCnt</th>\n      <th>clearCnt</th>\n      <th>createDt</th>\n      <th>deathCnt</th>\n      <th>decideCnt</th>\n      <th>examCnt</th>\n      <th>resutlNegCnt</th>\n      <th>seq</th>\n      <th>stateDt</th>\n      <th>stateTime</th>\n      <th>updateDt</th>\n    </tr>\n  </thead>\n  <tbody>\n    <tr>\n      <th>0</th>\n      <td>NaN</td>\n      <td>NaN</td>\n      <td>NaN</td>\n      <td>NaN</td>\n      <td>1</td>\n      <td>47:33.3</td>\n      <td>0</td>\n      <td>0</td>\n      <td>1</td>\n      <td>NaN</td>\n      <td>1</td>\n      <td>20200101</td>\n      <td>18:00</td>\n      <td>21:56.6</td>\n    </tr>\n    <tr>\n      <th>1</th>\n      <td>NaN</td>\n      <td>NaN</td>\n      <td>NaN</td>\n      <td>NaN</td>\n      <td>1</td>\n      <td>47:33.3</td>\n      <td>0</td>\n      <td>0</td>\n      <td>1</td>\n      <td>NaN</td>\n      <td>1</td>\n      <td>20200201</td>\n      <td>18:00</td>\n      <td>47:33.3</td>\n    </tr>\n    <tr>\n      <th>2</th>\n      <td>NaN</td>\n      <td>NaN</td>\n      <td>NaN</td>\n      <td>NaN</td>\n      <td>2</td>\n      <td>22:49.5</td>\n      <td>2</td>\n      <td>2</td>\n      <td>2</td>\n      <td>NaN</td>\n      <td>2</td>\n      <td>20200202</td>\n      <td>9:00</td>\n      <td>22:49.5</td>\n    </tr>\n    <tr>\n      <th>3</th>\n      <td>NaN</td>\n      <td>NaN</td>\n      <td>NaN</td>\n      <td>NaN</td>\n      <td>0</td>\n      <td>41:17.2</td>\n      <td>0</td>\n      <td>15</td>\n      <td>0</td>\n      <td>NaN</td>\n      <td>3</td>\n      <td>20200203</td>\n      <td>9:00</td>\n      <td>41:17.2</td>\n    </tr>\n    <tr>\n      <th>4</th>\n      <td>NaN</td>\n      <td>NaN</td>\n      <td>NaN</td>\n      <td>NaN</td>\n      <td>0</td>\n      <td>26:59.6</td>\n      <td>0</td>\n      <td>0</td>\n      <td>0</td>\n      <td>NaN</td>\n      <td>4</td>\n      <td>20200204</td>\n      <td>0:00</td>\n      <td>26:59.6</td>\n    </tr>\n    <tr>\n      <th>...</th>\n      <td>...</td>\n      <td>...</td>\n      <td>...</td>\n      <td>...</td>\n      <td>...</td>\n      <td>...</td>\n      <td>...</td>\n      <td>...</td>\n      <td>...</td>\n      <td>...</td>\n      <td>...</td>\n      <td>...</td>\n      <td>...</td>\n      <td>...</td>\n    </tr>\n    <tr>\n      <th>475</th>\n      <td>1.436175</td>\n      <td>9447358.0</td>\n      <td>9338485.0</td>\n      <td>8542.0</td>\n      <td>123659</td>\n      <td>2021-05-20 09:35:45.542</td>\n      <td>1916</td>\n      <td>134117</td>\n      <td>108873</td>\n      <td>9204368.0</td>\n      <td>517</td>\n      <td>20210520</td>\n      <td>00:00</td>\n      <td>2021-05-21 09:47:58.875</td>\n    </tr>\n    <tr>\n      <th>476</th>\n      <td>1.436877</td>\n      <td>9487108.0</td>\n      <td>9372964.0</td>\n      <td>8598.0</td>\n      <td>124158</td>\n      <td>2021-05-21 09:36:32.023</td>\n      <td>1922</td>\n      <td>134678</td>\n      <td>114144</td>\n      <td>9238286.0</td>\n      <td>518</td>\n      <td>20210521</td>\n      <td>00:00</td>\n      <td>NaN</td>\n    </tr>\n    <tr>\n      <th>477</th>\n      <td>1.439308</td>\n      <td>9520966.0</td>\n      <td>9403408.0</td>\n      <td>8386.0</td>\n      <td>125032</td>\n      <td>2021-05-22 09:37:01.885</td>\n      <td>1926</td>\n      <td>135344</td>\n      <td>117558</td>\n      <td>9268064.0</td>\n      <td>519</td>\n      <td>20210522</td>\n      <td>00:00</td>\n      <td>NaN</td>\n    </tr>\n    <tr>\n      <th>478</th>\n      <td>1.443893</td>\n      <td>9536299.0</td>\n      <td>9414064.0</td>\n      <td>8117.0</td>\n      <td>125881</td>\n      <td>2021-05-23 09:37:54.099</td>\n      <td>1931</td>\n      <td>135929</td>\n      <td>122235</td>\n      <td>9278135.0</td>\n      <td>520</td>\n      <td>20210523</td>\n      <td>00:00</td>\n      <td>NaN</td>\n    </tr>\n    <tr>\n      <th>479</th>\n      <td>1.446712</td>\n      <td>9553613.0</td>\n      <td>9432909.0</td>\n      <td>8106.0</td>\n      <td>126427</td>\n      <td>2021-05-24 09:42:11.785</td>\n      <td>1934</td>\n      <td>136467</td>\n      <td>120704</td>\n      <td>9296442.0</td>\n      <td>521</td>\n      <td>20210524</td>\n      <td>00:00</td>\n      <td>NaN</td>\n    </tr>\n  </tbody>\n</table>\n<p>480 rows × 14 columns</p>\n</div>"
     },
     "execution_count": 11,
     "metadata": {},
     "output_type": "execute_result"
    }
   ],
   "source": [
    "df_old_all = pd.read_csv('./dataset/all/covid19_' + oldDate_all + '_all.csv')\n",
    "df_old_all = df_old_all.drop(['Unnamed: 0'], axis = 1)\n",
    "df_old_part = pd.read_csv('./dataset/part/covid19_' + oldDate_part + '_part.csv')\n",
    "df_old_part = df_old_part.drop(['Unnamed: 0'], axis = 1)\n",
    "df_old_all"
   ],
   "metadata": {
    "collapsed": false,
    "pycharm": {
     "name": "#%%\n"
    }
   }
  },
  {
   "cell_type": "code",
   "execution_count": 12,
   "outputs": [],
   "source": [
    "df_all = df_old_all.append(df_new_all)\n",
    "df_part = df_old_part.append(df_new_part)\n",
    "df_all.to_csv('./dataset/all/covid19_' + nowDate + '_all.csv', mode='w')\n",
    "df_part.to_csv('./dataset/part/covid19_' + nowDate + '_part.csv', mode='w')"
   ],
   "metadata": {
    "collapsed": false,
    "pycharm": {
     "name": "#%%\n"
    }
   }
  },
  {
   "cell_type": "code",
   "execution_count": 13,
   "outputs": [
    {
     "name": "stdout",
     "output_type": "stream",
     "text": [
      "<class 'pandas.core.frame.DataFrame'>\n",
      "Int64Index: 487 entries, 0 to 0\n",
      "Data columns (total 14 columns):\n",
      " #   Column          Non-Null Count  Dtype \n",
      "---  ------          --------------  ----- \n",
      " 0   accDefRate      456 non-null    object\n",
      " 1   accExamCnt      456 non-null    object\n",
      " 2   accExamCompCnt  456 non-null    object\n",
      " 3   careCnt         455 non-null    object\n",
      " 4   clearCnt        487 non-null    object\n",
      " 5   createDt        487 non-null    object\n",
      " 6   deathCnt        487 non-null    object\n",
      " 7   decideCnt       487 non-null    object\n",
      " 8   examCnt         487 non-null    object\n",
      " 9   resutlNegCnt    456 non-null    object\n",
      " 10  seq             487 non-null    object\n",
      " 11  stateDt         487 non-null    object\n",
      " 12  stateTime       487 non-null    object\n",
      " 13  updateDt        427 non-null    object\n",
      "dtypes: object(14)\n",
      "memory usage: 57.1+ KB\n"
     ]
    }
   ],
   "source": [
    "df_all.info()\n",
    "\n",
    "\n",
    "\n",
    "\n",
    "\n",
    "\n",
    "\n",
    "\n",
    "\n",
    "\n",
    "\n",
    "\n",
    "\n"
   ],
   "metadata": {
    "collapsed": false,
    "pycharm": {
     "name": "#%%\n"
    }
   }
  }
 ],
 "metadata": {
  "kernelspec": {
   "name": "python3",
   "language": "python",
   "display_name": "Python 3"
  },
  "language_info": {
   "codemirror_mode": {
    "name": "ipython",
    "version": 2
   },
   "file_extension": ".py",
   "mimetype": "text/x-python",
   "name": "python",
   "nbconvert_exporter": "python",
   "pygments_lexer": "ipython2",
   "version": "2.7.6"
  }
 },
 "nbformat": 4,
 "nbformat_minor": 0
}