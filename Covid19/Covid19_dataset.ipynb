{
 "cells": [
  {
   "cell_type": "code",
   "execution_count": 1,
   "metadata": {
    "collapsed": true
   },
   "outputs": [],
   "source": [
    "import requests\n",
    "import xmltodict\n",
    "import datetime\n",
    "import pandas as pd\n",
    "import glob\n",
    "import re"
   ]
  },
  {
   "cell_type": "code",
   "execution_count": 2,
   "outputs": [
    {
     "data": {
      "text/plain": "'20210524'"
     },
     "execution_count": 2,
     "metadata": {},
     "output_type": "execute_result"
    }
   ],
   "source": [
    "# 현재 날짜 확인\n",
    "now = datetime.datetime.now()\n",
    "nowDate = now.strftime('%Y%m%d')\n",
    "\n",
    "nowDate"
   ],
   "metadata": {
    "collapsed": false,
    "pycharm": {
     "name": "#%%\n"
    }
   }
  },
  {
   "cell_type": "code",
   "execution_count": 3,
   "outputs": [
    {
     "data": {
      "text/plain": "('20210512',\n 'covid19_20210512_all.csv',\n '20210512',\n 'covid19_20210512_part.csv')"
     },
     "execution_count": 3,
     "metadata": {},
     "output_type": "execute_result"
    }
   ],
   "source": [
    "# 현재 디렉토리에 있는 가장 최신 파일 날짜 확인\n",
    "ls_all = glob.glob(\"./dataset/all/*.csv\")\n",
    "if not ls_all:\n",
    "    oldDate_all = '20200101'\n",
    "else:\n",
    "    ls_all.sort()\n",
    "    oldDate_all = ls_all[-1][22:-8]\n",
    "    oldDate_csv_all = ls_all[-1][14:]\n",
    "\n",
    "ls_part = glob.glob(\"./dataset/part/*.csv\")\n",
    "if not ls_part:\n",
    "    oldDate_part = '20200101'\n",
    "else:\n",
    "    ls_part.sort()\n",
    "    oldDate_part = ls_part[-1][23:-9]\n",
    "    oldDate_csv_part = ls_part[-1][15:]\n",
    "\n",
    "oldDate_all, oldDate_csv_all, oldDate_part, oldDate_csv_part\n",
    "\n",
    "# all: 전국 통합, part: 시, 도 분할"
   ],
   "metadata": {
    "collapsed": false,
    "pycharm": {
     "name": "#%%\n"
    }
   }
  },
  {
   "cell_type": "code",
   "execution_count": 4,
   "outputs": [],
   "source": [
    "# 현재 날짜부터 디렉토리에 있는 가장 최신 파일 날짜까지 데이터 다운로드\n",
    "url_base_all = 'http://openapi.data.go.kr/openapi/service/rest/Covid19/getCovid19InfStateJson'\n",
    "url_base_part = 'http://openapi.data.go.kr/openapi/service/rest/Covid19/getCovid19SidoInfStateJson'\n",
    "url_serviceKey = 'j8RHAoYLh5NFcdYjbRbdSoOGiuOeHwQZZaU3Mqu78SUYGddoObBnh0Xx3o%2BVPFtZhz5hZaQOf%2B9dMFljJK%2BpLQ%3D%3D'\n",
    "url_pages = '1000'\n",
    "url_start_date_all = oldDate_all\n",
    "url_start_date_part = oldDate_part\n",
    "url_end_date = nowDate\n",
    "url_all = url_base_all + '?serviceKey=' + url_serviceKey + '&pageNo=1&numOfRows=' + url_pages + '&startCreateDt=' + url_start_date_all + '&endCreateDt=' + url_end_date\n",
    "url_part = url_base_part + '?serviceKey=' + url_serviceKey + '&pageNo=1&numOfRows=' + url_pages + '&startCreateDt=' + url_start_date_part + '&endCreateDt=' + url_end_date"
   ],
   "metadata": {
    "collapsed": false,
    "pycharm": {
     "name": "#%%인\n"
    }
   }
  },
  {
   "cell_type": "code",
   "execution_count": 5,
   "outputs": [],
   "source": [
    "req_all = requests.get(url_all).content\n",
    "req_part = requests.get(url_part).content\n",
    "xmlObject_all = xmltodict.parse(req_all)\n",
    "xmlObject_part = xmltodict.parse(req_part)\n",
    "dict_data_all = xmlObject_all['response']['body']['items']['item']\n",
    "dict_data_part = xmlObject_part['response']['body']['items']['item']"
   ],
   "metadata": {
    "collapsed": false,
    "pycharm": {
     "name": "#%%\n"
    }
   }
  },
  {
   "cell_type": "code",
   "execution_count": 6,
   "outputs": [],
   "source": [
    "df_new_all = pd.DataFrame(dict_data_all)\n",
    "df_new_part = pd.DataFrame(dict_data_part)"
   ],
   "metadata": {
    "collapsed": false,
    "pycharm": {
     "name": "#%%\n"
    }
   }
  },
  {
   "cell_type": "code",
   "execution_count": 7,
   "outputs": [
    {
     "data": {
      "text/plain": "                    createDt deathCnt  defCnt gubun gubunCn           gubunEn  \\\n0    2021-05-24 09:46:24.361        4    3765    검역     隔離區         Lazaretto   \n1    2021-05-24 09:46:24.361        1     946    제주      济州              Jeju   \n2    2021-05-24 09:46:24.361       19    4580    경남      庆南  Gyeongsangnam-do   \n3    2021-05-24 09:46:24.361       83    4605    경북      庆北  Gyeongsangbuk-do   \n4     2021-05-24 09:46:24.36       12    1402    전남      全南      Jeollanam-do   \n..                       ...      ...     ...   ...     ...               ...   \n242  2021-05-12 09:51:43.258       60    5859    인천      仁川           Incheon   \n243  2021-05-12 09:51:43.258      221    9454    대구      大邱             Daegu   \n244  2021-05-12 09:51:43.257      122    5296    부산      釜山             Busan   \n245  2021-05-12 09:51:43.257      466   40118    서울      首尔             Seoul   \n246  2021-05-12 09:51:43.257     1884  128918    합계      合计             Total   \n\n    incDec isolClearCnt isolIngCnt localOccCnt overFlowCnt qurRate   seq  \\\n0       11         3538        223           0          11       -  9716   \n1       19          830        115          19           0  141.04  9715   \n2       17         4302        259          17           0  136.26  9714   \n3       12         4232        290          12           0  172.96  9713   \n4       14         1167        223          12           2   75.19  9712   \n..     ...          ...        ...         ...         ...     ...   ...   \n242     20         5616        183          20           0  198.20  9455   \n243      6         9129        104           5           1  388.02  9454   \n244     10         4923        251          10           0  155.23  9453   \n245    223        36890       2762         220           3  412.16  9452   \n246    635       119373       7661         613          22  248.65  9451   \n\n       stdDay updateDt  \n0    20210524     null  \n1    20210524     null  \n2    20210524     null  \n3    20210524     null  \n4    20210524     null  \n..        ...      ...  \n242  20210512     null  \n243  20210512     null  \n244  20210512     null  \n245  20210512     null  \n246  20210512     null  \n\n[247 rows x 15 columns]",
      "text/html": "<div>\n<style scoped>\n    .dataframe tbody tr th:only-of-type {\n        vertical-align: middle;\n    }\n\n    .dataframe tbody tr th {\n        vertical-align: top;\n    }\n\n    .dataframe thead th {\n        text-align: right;\n    }\n</style>\n<table border=\"1\" class=\"dataframe\">\n  <thead>\n    <tr style=\"text-align: right;\">\n      <th></th>\n      <th>createDt</th>\n      <th>deathCnt</th>\n      <th>defCnt</th>\n      <th>gubun</th>\n      <th>gubunCn</th>\n      <th>gubunEn</th>\n      <th>incDec</th>\n      <th>isolClearCnt</th>\n      <th>isolIngCnt</th>\n      <th>localOccCnt</th>\n      <th>overFlowCnt</th>\n      <th>qurRate</th>\n      <th>seq</th>\n      <th>stdDay</th>\n      <th>updateDt</th>\n    </tr>\n  </thead>\n  <tbody>\n    <tr>\n      <th>0</th>\n      <td>2021-05-24 09:46:24.361</td>\n      <td>4</td>\n      <td>3765</td>\n      <td>검역</td>\n      <td>隔離區</td>\n      <td>Lazaretto</td>\n      <td>11</td>\n      <td>3538</td>\n      <td>223</td>\n      <td>0</td>\n      <td>11</td>\n      <td>-</td>\n      <td>9716</td>\n      <td>20210524</td>\n      <td>null</td>\n    </tr>\n    <tr>\n      <th>1</th>\n      <td>2021-05-24 09:46:24.361</td>\n      <td>1</td>\n      <td>946</td>\n      <td>제주</td>\n      <td>济州</td>\n      <td>Jeju</td>\n      <td>19</td>\n      <td>830</td>\n      <td>115</td>\n      <td>19</td>\n      <td>0</td>\n      <td>141.04</td>\n      <td>9715</td>\n      <td>20210524</td>\n      <td>null</td>\n    </tr>\n    <tr>\n      <th>2</th>\n      <td>2021-05-24 09:46:24.361</td>\n      <td>19</td>\n      <td>4580</td>\n      <td>경남</td>\n      <td>庆南</td>\n      <td>Gyeongsangnam-do</td>\n      <td>17</td>\n      <td>4302</td>\n      <td>259</td>\n      <td>17</td>\n      <td>0</td>\n      <td>136.26</td>\n      <td>9714</td>\n      <td>20210524</td>\n      <td>null</td>\n    </tr>\n    <tr>\n      <th>3</th>\n      <td>2021-05-24 09:46:24.361</td>\n      <td>83</td>\n      <td>4605</td>\n      <td>경북</td>\n      <td>庆北</td>\n      <td>Gyeongsangbuk-do</td>\n      <td>12</td>\n      <td>4232</td>\n      <td>290</td>\n      <td>12</td>\n      <td>0</td>\n      <td>172.96</td>\n      <td>9713</td>\n      <td>20210524</td>\n      <td>null</td>\n    </tr>\n    <tr>\n      <th>4</th>\n      <td>2021-05-24 09:46:24.36</td>\n      <td>12</td>\n      <td>1402</td>\n      <td>전남</td>\n      <td>全南</td>\n      <td>Jeollanam-do</td>\n      <td>14</td>\n      <td>1167</td>\n      <td>223</td>\n      <td>12</td>\n      <td>2</td>\n      <td>75.19</td>\n      <td>9712</td>\n      <td>20210524</td>\n      <td>null</td>\n    </tr>\n    <tr>\n      <th>...</th>\n      <td>...</td>\n      <td>...</td>\n      <td>...</td>\n      <td>...</td>\n      <td>...</td>\n      <td>...</td>\n      <td>...</td>\n      <td>...</td>\n      <td>...</td>\n      <td>...</td>\n      <td>...</td>\n      <td>...</td>\n      <td>...</td>\n      <td>...</td>\n      <td>...</td>\n    </tr>\n    <tr>\n      <th>242</th>\n      <td>2021-05-12 09:51:43.258</td>\n      <td>60</td>\n      <td>5859</td>\n      <td>인천</td>\n      <td>仁川</td>\n      <td>Incheon</td>\n      <td>20</td>\n      <td>5616</td>\n      <td>183</td>\n      <td>20</td>\n      <td>0</td>\n      <td>198.20</td>\n      <td>9455</td>\n      <td>20210512</td>\n      <td>null</td>\n    </tr>\n    <tr>\n      <th>243</th>\n      <td>2021-05-12 09:51:43.258</td>\n      <td>221</td>\n      <td>9454</td>\n      <td>대구</td>\n      <td>大邱</td>\n      <td>Daegu</td>\n      <td>6</td>\n      <td>9129</td>\n      <td>104</td>\n      <td>5</td>\n      <td>1</td>\n      <td>388.02</td>\n      <td>9454</td>\n      <td>20210512</td>\n      <td>null</td>\n    </tr>\n    <tr>\n      <th>244</th>\n      <td>2021-05-12 09:51:43.257</td>\n      <td>122</td>\n      <td>5296</td>\n      <td>부산</td>\n      <td>釜山</td>\n      <td>Busan</td>\n      <td>10</td>\n      <td>4923</td>\n      <td>251</td>\n      <td>10</td>\n      <td>0</td>\n      <td>155.23</td>\n      <td>9453</td>\n      <td>20210512</td>\n      <td>null</td>\n    </tr>\n    <tr>\n      <th>245</th>\n      <td>2021-05-12 09:51:43.257</td>\n      <td>466</td>\n      <td>40118</td>\n      <td>서울</td>\n      <td>首尔</td>\n      <td>Seoul</td>\n      <td>223</td>\n      <td>36890</td>\n      <td>2762</td>\n      <td>220</td>\n      <td>3</td>\n      <td>412.16</td>\n      <td>9452</td>\n      <td>20210512</td>\n      <td>null</td>\n    </tr>\n    <tr>\n      <th>246</th>\n      <td>2021-05-12 09:51:43.257</td>\n      <td>1884</td>\n      <td>128918</td>\n      <td>합계</td>\n      <td>合计</td>\n      <td>Total</td>\n      <td>635</td>\n      <td>119373</td>\n      <td>7661</td>\n      <td>613</td>\n      <td>22</td>\n      <td>248.65</td>\n      <td>9451</td>\n      <td>20210512</td>\n      <td>null</td>\n    </tr>\n  </tbody>\n</table>\n<p>247 rows × 15 columns</p>\n</div>"
     },
     "execution_count": 7,
     "metadata": {},
     "output_type": "execute_result"
    }
   ],
   "source": [
    "for i in range(df_new_part.shape[0]):\n",
    "    t = re.split(r'년|월|일|시| ', df_new_part['stdDay'][i])\n",
    "    df_new_part['stdDay'][i] = ''.join(t[0:5:2])\n",
    "\n",
    "df_new_part"
   ],
   "metadata": {
    "collapsed": false,
    "pycharm": {
     "name": "#%%\n"
    }
   }
  },
  {
   "cell_type": "code",
   "execution_count": 8,
   "outputs": [],
   "source": [
    "df_new_all = df_new_all.sort_values(by=['stateDt'])\n",
    "df_new_part = df_new_part.sort_values(by=['stdDay'])\n",
    "df_new_all = df_new_all.drop(df_new_all.index[0:1])\n",
    "df_new_part = df_new_part.drop(df_new_part.index[0:20])"
   ],
   "metadata": {
    "collapsed": false,
    "pycharm": {
     "name": "#%%\n"
    }
   }
  },
  {
   "cell_type": "code",
   "execution_count": 9,
   "outputs": [
    {
     "data": {
      "text/plain": "      accDefRate accExamCnt accExamCompCnt careCnt clearCnt  \\\n11  1.4161913364    9241153        9153636    7836   119906   \n10  1.4193209445    9281291        9186083    8092   120395   \n9   1.4215047097    9319094        9219878    7883   121282   \n8   1.4257899148    9336614        9234951    8007   121764   \n7   1.4299308998    9353300        9251496    8224   122163   \n6   1.4294430308    9395004        9291591    8283   122631   \n5   1.4314548779    9428644        9324150    8322   123237   \n4   1.4361751397    9447358        9338485    8542   123659   \n3   1.4368773847    9487108        9372964    8598   124158   \n2   1.4393079615    9520966        9403408    8386   125032   \n1   1.4438928819    9536299        9414064    8117   125881   \n0   1.4467117195    9553613        9432909    8106   126427   \n\n                   createDt deathCnt decideCnt examCnt resutlNegCnt  seq  \\\n11    2021-05-13 09:41:10.7     1891    129633   87517      9024003  510   \n10  2021-05-14 09:44:47.494     1893    130380   95208      9055703  511   \n9   2021-05-15 09:38:53.579     1896    131061   99216      9088817  512   \n8   2021-05-16 09:26:31.589     1900    131671  101663      9103280  513   \n7   2021-05-17 09:39:34.169     1903    132290  101804      9119206  514   \n6   2021-05-18 09:41:35.393     1904    132818  103413      9158773  515   \n5   2021-05-19 09:39:48.186     1912    133471  104494      9190679  516   \n4   2021-05-20 09:35:45.542     1916    134117  108873      9204368  517   \n3   2021-05-21 09:36:32.023     1922    134678  114144      9238286  518   \n2   2021-05-22 09:37:01.885     1926    135344  117558      9268064  519   \n1   2021-05-23 09:37:54.099     1931    135929  122235      9278135  520   \n0   2021-05-24 09:42:11.785     1934    136467  120704      9296442  521   \n\n     stateDt stateTime                 updateDt  \n11  20210513     00:00                     null  \n10  20210514     00:00                     null  \n9   20210515     00:00                     null  \n8   20210516     00:00                     null  \n7   20210517     00:00                     null  \n6   20210518     00:00                     null  \n5   20210519     00:00                     null  \n4   20210520     00:00  2021-05-21 09:47:58.875  \n3   20210521     00:00                     null  \n2   20210522     00:00                     null  \n1   20210523     00:00                     null  \n0   20210524     00:00                     null  ",
      "text/html": "<div>\n<style scoped>\n    .dataframe tbody tr th:only-of-type {\n        vertical-align: middle;\n    }\n\n    .dataframe tbody tr th {\n        vertical-align: top;\n    }\n\n    .dataframe thead th {\n        text-align: right;\n    }\n</style>\n<table border=\"1\" class=\"dataframe\">\n  <thead>\n    <tr style=\"text-align: right;\">\n      <th></th>\n      <th>accDefRate</th>\n      <th>accExamCnt</th>\n      <th>accExamCompCnt</th>\n      <th>careCnt</th>\n      <th>clearCnt</th>\n      <th>createDt</th>\n      <th>deathCnt</th>\n      <th>decideCnt</th>\n      <th>examCnt</th>\n      <th>resutlNegCnt</th>\n      <th>seq</th>\n      <th>stateDt</th>\n      <th>stateTime</th>\n      <th>updateDt</th>\n    </tr>\n  </thead>\n  <tbody>\n    <tr>\n      <th>11</th>\n      <td>1.4161913364</td>\n      <td>9241153</td>\n      <td>9153636</td>\n      <td>7836</td>\n      <td>119906</td>\n      <td>2021-05-13 09:41:10.7</td>\n      <td>1891</td>\n      <td>129633</td>\n      <td>87517</td>\n      <td>9024003</td>\n      <td>510</td>\n      <td>20210513</td>\n      <td>00:00</td>\n      <td>null</td>\n    </tr>\n    <tr>\n      <th>10</th>\n      <td>1.4193209445</td>\n      <td>9281291</td>\n      <td>9186083</td>\n      <td>8092</td>\n      <td>120395</td>\n      <td>2021-05-14 09:44:47.494</td>\n      <td>1893</td>\n      <td>130380</td>\n      <td>95208</td>\n      <td>9055703</td>\n      <td>511</td>\n      <td>20210514</td>\n      <td>00:00</td>\n      <td>null</td>\n    </tr>\n    <tr>\n      <th>9</th>\n      <td>1.4215047097</td>\n      <td>9319094</td>\n      <td>9219878</td>\n      <td>7883</td>\n      <td>121282</td>\n      <td>2021-05-15 09:38:53.579</td>\n      <td>1896</td>\n      <td>131061</td>\n      <td>99216</td>\n      <td>9088817</td>\n      <td>512</td>\n      <td>20210515</td>\n      <td>00:00</td>\n      <td>null</td>\n    </tr>\n    <tr>\n      <th>8</th>\n      <td>1.4257899148</td>\n      <td>9336614</td>\n      <td>9234951</td>\n      <td>8007</td>\n      <td>121764</td>\n      <td>2021-05-16 09:26:31.589</td>\n      <td>1900</td>\n      <td>131671</td>\n      <td>101663</td>\n      <td>9103280</td>\n      <td>513</td>\n      <td>20210516</td>\n      <td>00:00</td>\n      <td>null</td>\n    </tr>\n    <tr>\n      <th>7</th>\n      <td>1.4299308998</td>\n      <td>9353300</td>\n      <td>9251496</td>\n      <td>8224</td>\n      <td>122163</td>\n      <td>2021-05-17 09:39:34.169</td>\n      <td>1903</td>\n      <td>132290</td>\n      <td>101804</td>\n      <td>9119206</td>\n      <td>514</td>\n      <td>20210517</td>\n      <td>00:00</td>\n      <td>null</td>\n    </tr>\n    <tr>\n      <th>6</th>\n      <td>1.4294430308</td>\n      <td>9395004</td>\n      <td>9291591</td>\n      <td>8283</td>\n      <td>122631</td>\n      <td>2021-05-18 09:41:35.393</td>\n      <td>1904</td>\n      <td>132818</td>\n      <td>103413</td>\n      <td>9158773</td>\n      <td>515</td>\n      <td>20210518</td>\n      <td>00:00</td>\n      <td>null</td>\n    </tr>\n    <tr>\n      <th>5</th>\n      <td>1.4314548779</td>\n      <td>9428644</td>\n      <td>9324150</td>\n      <td>8322</td>\n      <td>123237</td>\n      <td>2021-05-19 09:39:48.186</td>\n      <td>1912</td>\n      <td>133471</td>\n      <td>104494</td>\n      <td>9190679</td>\n      <td>516</td>\n      <td>20210519</td>\n      <td>00:00</td>\n      <td>null</td>\n    </tr>\n    <tr>\n      <th>4</th>\n      <td>1.4361751397</td>\n      <td>9447358</td>\n      <td>9338485</td>\n      <td>8542</td>\n      <td>123659</td>\n      <td>2021-05-20 09:35:45.542</td>\n      <td>1916</td>\n      <td>134117</td>\n      <td>108873</td>\n      <td>9204368</td>\n      <td>517</td>\n      <td>20210520</td>\n      <td>00:00</td>\n      <td>2021-05-21 09:47:58.875</td>\n    </tr>\n    <tr>\n      <th>3</th>\n      <td>1.4368773847</td>\n      <td>9487108</td>\n      <td>9372964</td>\n      <td>8598</td>\n      <td>124158</td>\n      <td>2021-05-21 09:36:32.023</td>\n      <td>1922</td>\n      <td>134678</td>\n      <td>114144</td>\n      <td>9238286</td>\n      <td>518</td>\n      <td>20210521</td>\n      <td>00:00</td>\n      <td>null</td>\n    </tr>\n    <tr>\n      <th>2</th>\n      <td>1.4393079615</td>\n      <td>9520966</td>\n      <td>9403408</td>\n      <td>8386</td>\n      <td>125032</td>\n      <td>2021-05-22 09:37:01.885</td>\n      <td>1926</td>\n      <td>135344</td>\n      <td>117558</td>\n      <td>9268064</td>\n      <td>519</td>\n      <td>20210522</td>\n      <td>00:00</td>\n      <td>null</td>\n    </tr>\n    <tr>\n      <th>1</th>\n      <td>1.4438928819</td>\n      <td>9536299</td>\n      <td>9414064</td>\n      <td>8117</td>\n      <td>125881</td>\n      <td>2021-05-23 09:37:54.099</td>\n      <td>1931</td>\n      <td>135929</td>\n      <td>122235</td>\n      <td>9278135</td>\n      <td>520</td>\n      <td>20210523</td>\n      <td>00:00</td>\n      <td>null</td>\n    </tr>\n    <tr>\n      <th>0</th>\n      <td>1.4467117195</td>\n      <td>9553613</td>\n      <td>9432909</td>\n      <td>8106</td>\n      <td>126427</td>\n      <td>2021-05-24 09:42:11.785</td>\n      <td>1934</td>\n      <td>136467</td>\n      <td>120704</td>\n      <td>9296442</td>\n      <td>521</td>\n      <td>20210524</td>\n      <td>00:00</td>\n      <td>null</td>\n    </tr>\n  </tbody>\n</table>\n</div>"
     },
     "execution_count": 9,
     "metadata": {},
     "output_type": "execute_result"
    }
   ],
   "source": [
    "df_new_all"
   ],
   "metadata": {
    "collapsed": false,
    "pycharm": {
     "name": "#%%\n"
    }
   }
  },
  {
   "cell_type": "code",
   "execution_count": 10,
   "outputs": [
    {
     "data": {
      "text/plain": "                    createDt deathCnt  defCnt gubun gubunCn           gubunEn  \\\n210  2021-05-13 09:50:30.363        1     838    제주      济州              Jeju   \n211  2021-05-13 09:50:30.363       19    4316    경남      庆南  Gyeongsangnam-do   \n212  2021-05-13 09:50:30.363       79    4382    경북      庆北  Gyeongsangbuk-do   \n213  2021-05-13 09:50:30.363       12    1207    전남      全南      Jeollanam-do   \n214  2021-05-13 09:50:30.363       58    2065    전북      全北      Jeollabuk-do   \n..                       ...      ...     ...   ...     ...               ...   \n16   2021-05-24 09:46:24.358      124    5555    부산      釜山             Busan   \n17   2021-05-24 09:46:24.358      480   42601    서울      首尔             Seoul   \n18   2021-05-24 09:46:24.358     1934  136467    합계      合计             Total   \n9     2021-05-24 09:46:24.36      628   38008    경기      京畿       Gyeonggi-do   \n0    2021-05-24 09:46:24.361        4    3765    검역     隔離區         Lazaretto   \n\n    incDec isolClearCnt isolIngCnt localOccCnt overFlowCnt qurRate   seq  \\\n210      9          714        123           9           0  124.93  9487   \n211     32         3999        298          30           2  128.40  9486   \n212     23         4029        274          22           1  164.58  9485   \n213     12         1039        156          12           0   64.73  9484   \n214     10         1892        115          10           0  113.63  9483   \n..     ...          ...        ...         ...         ...     ...   ...   \n16      15         5169        262          14           1  162.82  9700   \n17     139        39276       2845         136           3  437.67  9699   \n18     538       126427       8106         513          25  263.21  9698   \n9      122        35278       2102         120           2  286.84  9707   \n0       11         3538        223           0          11       -  9716   \n\n       stdDay updateDt  \n210  20210513     null  \n211  20210513     null  \n212  20210513     null  \n213  20210513     null  \n214  20210513     null  \n..        ...      ...  \n16   20210524     null  \n17   20210524     null  \n18   20210524     null  \n9    20210524     null  \n0    20210524     null  \n\n[227 rows x 15 columns]",
      "text/html": "<div>\n<style scoped>\n    .dataframe tbody tr th:only-of-type {\n        vertical-align: middle;\n    }\n\n    .dataframe tbody tr th {\n        vertical-align: top;\n    }\n\n    .dataframe thead th {\n        text-align: right;\n    }\n</style>\n<table border=\"1\" class=\"dataframe\">\n  <thead>\n    <tr style=\"text-align: right;\">\n      <th></th>\n      <th>createDt</th>\n      <th>deathCnt</th>\n      <th>defCnt</th>\n      <th>gubun</th>\n      <th>gubunCn</th>\n      <th>gubunEn</th>\n      <th>incDec</th>\n      <th>isolClearCnt</th>\n      <th>isolIngCnt</th>\n      <th>localOccCnt</th>\n      <th>overFlowCnt</th>\n      <th>qurRate</th>\n      <th>seq</th>\n      <th>stdDay</th>\n      <th>updateDt</th>\n    </tr>\n  </thead>\n  <tbody>\n    <tr>\n      <th>210</th>\n      <td>2021-05-13 09:50:30.363</td>\n      <td>1</td>\n      <td>838</td>\n      <td>제주</td>\n      <td>济州</td>\n      <td>Jeju</td>\n      <td>9</td>\n      <td>714</td>\n      <td>123</td>\n      <td>9</td>\n      <td>0</td>\n      <td>124.93</td>\n      <td>9487</td>\n      <td>20210513</td>\n      <td>null</td>\n    </tr>\n    <tr>\n      <th>211</th>\n      <td>2021-05-13 09:50:30.363</td>\n      <td>19</td>\n      <td>4316</td>\n      <td>경남</td>\n      <td>庆南</td>\n      <td>Gyeongsangnam-do</td>\n      <td>32</td>\n      <td>3999</td>\n      <td>298</td>\n      <td>30</td>\n      <td>2</td>\n      <td>128.40</td>\n      <td>9486</td>\n      <td>20210513</td>\n      <td>null</td>\n    </tr>\n    <tr>\n      <th>212</th>\n      <td>2021-05-13 09:50:30.363</td>\n      <td>79</td>\n      <td>4382</td>\n      <td>경북</td>\n      <td>庆北</td>\n      <td>Gyeongsangbuk-do</td>\n      <td>23</td>\n      <td>4029</td>\n      <td>274</td>\n      <td>22</td>\n      <td>1</td>\n      <td>164.58</td>\n      <td>9485</td>\n      <td>20210513</td>\n      <td>null</td>\n    </tr>\n    <tr>\n      <th>213</th>\n      <td>2021-05-13 09:50:30.363</td>\n      <td>12</td>\n      <td>1207</td>\n      <td>전남</td>\n      <td>全南</td>\n      <td>Jeollanam-do</td>\n      <td>12</td>\n      <td>1039</td>\n      <td>156</td>\n      <td>12</td>\n      <td>0</td>\n      <td>64.73</td>\n      <td>9484</td>\n      <td>20210513</td>\n      <td>null</td>\n    </tr>\n    <tr>\n      <th>214</th>\n      <td>2021-05-13 09:50:30.363</td>\n      <td>58</td>\n      <td>2065</td>\n      <td>전북</td>\n      <td>全北</td>\n      <td>Jeollabuk-do</td>\n      <td>10</td>\n      <td>1892</td>\n      <td>115</td>\n      <td>10</td>\n      <td>0</td>\n      <td>113.63</td>\n      <td>9483</td>\n      <td>20210513</td>\n      <td>null</td>\n    </tr>\n    <tr>\n      <th>...</th>\n      <td>...</td>\n      <td>...</td>\n      <td>...</td>\n      <td>...</td>\n      <td>...</td>\n      <td>...</td>\n      <td>...</td>\n      <td>...</td>\n      <td>...</td>\n      <td>...</td>\n      <td>...</td>\n      <td>...</td>\n      <td>...</td>\n      <td>...</td>\n      <td>...</td>\n    </tr>\n    <tr>\n      <th>16</th>\n      <td>2021-05-24 09:46:24.358</td>\n      <td>124</td>\n      <td>5555</td>\n      <td>부산</td>\n      <td>釜山</td>\n      <td>Busan</td>\n      <td>15</td>\n      <td>5169</td>\n      <td>262</td>\n      <td>14</td>\n      <td>1</td>\n      <td>162.82</td>\n      <td>9700</td>\n      <td>20210524</td>\n      <td>null</td>\n    </tr>\n    <tr>\n      <th>17</th>\n      <td>2021-05-24 09:46:24.358</td>\n      <td>480</td>\n      <td>42601</td>\n      <td>서울</td>\n      <td>首尔</td>\n      <td>Seoul</td>\n      <td>139</td>\n      <td>39276</td>\n      <td>2845</td>\n      <td>136</td>\n      <td>3</td>\n      <td>437.67</td>\n      <td>9699</td>\n      <td>20210524</td>\n      <td>null</td>\n    </tr>\n    <tr>\n      <th>18</th>\n      <td>2021-05-24 09:46:24.358</td>\n      <td>1934</td>\n      <td>136467</td>\n      <td>합계</td>\n      <td>合计</td>\n      <td>Total</td>\n      <td>538</td>\n      <td>126427</td>\n      <td>8106</td>\n      <td>513</td>\n      <td>25</td>\n      <td>263.21</td>\n      <td>9698</td>\n      <td>20210524</td>\n      <td>null</td>\n    </tr>\n    <tr>\n      <th>9</th>\n      <td>2021-05-24 09:46:24.36</td>\n      <td>628</td>\n      <td>38008</td>\n      <td>경기</td>\n      <td>京畿</td>\n      <td>Gyeonggi-do</td>\n      <td>122</td>\n      <td>35278</td>\n      <td>2102</td>\n      <td>120</td>\n      <td>2</td>\n      <td>286.84</td>\n      <td>9707</td>\n      <td>20210524</td>\n      <td>null</td>\n    </tr>\n    <tr>\n      <th>0</th>\n      <td>2021-05-24 09:46:24.361</td>\n      <td>4</td>\n      <td>3765</td>\n      <td>검역</td>\n      <td>隔離區</td>\n      <td>Lazaretto</td>\n      <td>11</td>\n      <td>3538</td>\n      <td>223</td>\n      <td>0</td>\n      <td>11</td>\n      <td>-</td>\n      <td>9716</td>\n      <td>20210524</td>\n      <td>null</td>\n    </tr>\n  </tbody>\n</table>\n<p>227 rows × 15 columns</p>\n</div>"
     },
     "execution_count": 10,
     "metadata": {},
     "output_type": "execute_result"
    }
   ],
   "source": [
    "df_new_part\n",
    "#   속성 설명(all)\n",
    "#   DECIDE_CNT          확진자수\n",
    "#   CLEAR_CNT           격리해제 수\n",
    "#   EXAM_CNT            검사진행 수\n",
    "#   DEATH_CNT           사망자 수\n",
    "#   CARE_CNT            치료중 환자 수\n",
    "#   RESULT_NEG_CNT      결과 음성 수\n",
    "#   ACC_EXAM_CNT        누적 검사 수\n",
    "#   ACC_EXAM_COMP_CNT   누적 검사 완료 수\n",
    "#   ACC_DEF_RATE        누적 확진률\n",
    "#   CREATE_DT           등록일시분초\n",
    "#   UPDATE_DT           수정일시분"
   ],
   "metadata": {
    "collapsed": false,
    "pycharm": {
     "name": "#%%\n"
    }
   }
  },
  {
   "cell_type": "code",
   "execution_count": 11,
   "outputs": [
    {
     "data": {
      "text/plain": "     accDefRate  accExamCnt  accExamCompCnt  careCnt  clearCnt  \\\n0           NaN         NaN             NaN      NaN         1   \n1           NaN         NaN             NaN      NaN         1   \n2           NaN         NaN             NaN      NaN         2   \n3           NaN         NaN             NaN      NaN         0   \n4           NaN         NaN             NaN      NaN         0   \n..          ...         ...             ...      ...       ...   \n463    1.406573   9089166.0       9010907.0   7999.0    116881   \n464    1.410706   9105771.0       9024491.0   8012.0    117423   \n465    1.413616   9122059.0       9038661.0   8053.0    117844   \n466    1.412862   9164284.0       9079656.0   7687.0    118717   \n467    1.413999   9201539.0       9117260.0   7661.0    119373   \n\n                    createDt  deathCnt  decideCnt  examCnt  resutlNegCnt  seq  \\\n0                    47:33.3         0          0        1           NaN    1   \n1                    47:33.3         0          0        1           NaN    1   \n2                    22:49.5         2          2        2           NaN    2   \n3                    41:17.2         0         15        0           NaN    3   \n4                    26:59.6         0          0        0           NaN    4   \n..                       ...       ...        ...      ...           ...  ...   \n463  2021-05-08 09:37:54.141      1865     126745    78259     8884162.0  505   \n464  2021-05-09 09:38:01.137      1874     127309    81280     8897182.0  506   \n465   2021-05-10 09:36:30.35      1875     127772    83398     8910889.0  507   \n466  2021-05-11 09:39:41.186      1879     128283    84628     8951373.0  508   \n467  2021-05-12 09:38:47.792      1884     128918    84279     8988342.0  509   \n\n      stateDt stateTime updateDt  \n0    20200101     18:00  21:56.6  \n1    20200201     18:00  47:33.3  \n2    20200202      9:00  22:49.5  \n3    20200203      9:00  41:17.2  \n4    20200204      0:00  26:59.6  \n..        ...       ...      ...  \n463  20210508     00:00      NaN  \n464  20210509     00:00      NaN  \n465  20210510     00:00      NaN  \n466  20210511     00:00      NaN  \n467  20210512     00:00      NaN  \n\n[468 rows x 14 columns]",
      "text/html": "<div>\n<style scoped>\n    .dataframe tbody tr th:only-of-type {\n        vertical-align: middle;\n    }\n\n    .dataframe tbody tr th {\n        vertical-align: top;\n    }\n\n    .dataframe thead th {\n        text-align: right;\n    }\n</style>\n<table border=\"1\" class=\"dataframe\">\n  <thead>\n    <tr style=\"text-align: right;\">\n      <th></th>\n      <th>accDefRate</th>\n      <th>accExamCnt</th>\n      <th>accExamCompCnt</th>\n      <th>careCnt</th>\n      <th>clearCnt</th>\n      <th>createDt</th>\n      <th>deathCnt</th>\n      <th>decideCnt</th>\n      <th>examCnt</th>\n      <th>resutlNegCnt</th>\n      <th>seq</th>\n      <th>stateDt</th>\n      <th>stateTime</th>\n      <th>updateDt</th>\n    </tr>\n  </thead>\n  <tbody>\n    <tr>\n      <th>0</th>\n      <td>NaN</td>\n      <td>NaN</td>\n      <td>NaN</td>\n      <td>NaN</td>\n      <td>1</td>\n      <td>47:33.3</td>\n      <td>0</td>\n      <td>0</td>\n      <td>1</td>\n      <td>NaN</td>\n      <td>1</td>\n      <td>20200101</td>\n      <td>18:00</td>\n      <td>21:56.6</td>\n    </tr>\n    <tr>\n      <th>1</th>\n      <td>NaN</td>\n      <td>NaN</td>\n      <td>NaN</td>\n      <td>NaN</td>\n      <td>1</td>\n      <td>47:33.3</td>\n      <td>0</td>\n      <td>0</td>\n      <td>1</td>\n      <td>NaN</td>\n      <td>1</td>\n      <td>20200201</td>\n      <td>18:00</td>\n      <td>47:33.3</td>\n    </tr>\n    <tr>\n      <th>2</th>\n      <td>NaN</td>\n      <td>NaN</td>\n      <td>NaN</td>\n      <td>NaN</td>\n      <td>2</td>\n      <td>22:49.5</td>\n      <td>2</td>\n      <td>2</td>\n      <td>2</td>\n      <td>NaN</td>\n      <td>2</td>\n      <td>20200202</td>\n      <td>9:00</td>\n      <td>22:49.5</td>\n    </tr>\n    <tr>\n      <th>3</th>\n      <td>NaN</td>\n      <td>NaN</td>\n      <td>NaN</td>\n      <td>NaN</td>\n      <td>0</td>\n      <td>41:17.2</td>\n      <td>0</td>\n      <td>15</td>\n      <td>0</td>\n      <td>NaN</td>\n      <td>3</td>\n      <td>20200203</td>\n      <td>9:00</td>\n      <td>41:17.2</td>\n    </tr>\n    <tr>\n      <th>4</th>\n      <td>NaN</td>\n      <td>NaN</td>\n      <td>NaN</td>\n      <td>NaN</td>\n      <td>0</td>\n      <td>26:59.6</td>\n      <td>0</td>\n      <td>0</td>\n      <td>0</td>\n      <td>NaN</td>\n      <td>4</td>\n      <td>20200204</td>\n      <td>0:00</td>\n      <td>26:59.6</td>\n    </tr>\n    <tr>\n      <th>...</th>\n      <td>...</td>\n      <td>...</td>\n      <td>...</td>\n      <td>...</td>\n      <td>...</td>\n      <td>...</td>\n      <td>...</td>\n      <td>...</td>\n      <td>...</td>\n      <td>...</td>\n      <td>...</td>\n      <td>...</td>\n      <td>...</td>\n      <td>...</td>\n    </tr>\n    <tr>\n      <th>463</th>\n      <td>1.406573</td>\n      <td>9089166.0</td>\n      <td>9010907.0</td>\n      <td>7999.0</td>\n      <td>116881</td>\n      <td>2021-05-08 09:37:54.141</td>\n      <td>1865</td>\n      <td>126745</td>\n      <td>78259</td>\n      <td>8884162.0</td>\n      <td>505</td>\n      <td>20210508</td>\n      <td>00:00</td>\n      <td>NaN</td>\n    </tr>\n    <tr>\n      <th>464</th>\n      <td>1.410706</td>\n      <td>9105771.0</td>\n      <td>9024491.0</td>\n      <td>8012.0</td>\n      <td>117423</td>\n      <td>2021-05-09 09:38:01.137</td>\n      <td>1874</td>\n      <td>127309</td>\n      <td>81280</td>\n      <td>8897182.0</td>\n      <td>506</td>\n      <td>20210509</td>\n      <td>00:00</td>\n      <td>NaN</td>\n    </tr>\n    <tr>\n      <th>465</th>\n      <td>1.413616</td>\n      <td>9122059.0</td>\n      <td>9038661.0</td>\n      <td>8053.0</td>\n      <td>117844</td>\n      <td>2021-05-10 09:36:30.35</td>\n      <td>1875</td>\n      <td>127772</td>\n      <td>83398</td>\n      <td>8910889.0</td>\n      <td>507</td>\n      <td>20210510</td>\n      <td>00:00</td>\n      <td>NaN</td>\n    </tr>\n    <tr>\n      <th>466</th>\n      <td>1.412862</td>\n      <td>9164284.0</td>\n      <td>9079656.0</td>\n      <td>7687.0</td>\n      <td>118717</td>\n      <td>2021-05-11 09:39:41.186</td>\n      <td>1879</td>\n      <td>128283</td>\n      <td>84628</td>\n      <td>8951373.0</td>\n      <td>508</td>\n      <td>20210511</td>\n      <td>00:00</td>\n      <td>NaN</td>\n    </tr>\n    <tr>\n      <th>467</th>\n      <td>1.413999</td>\n      <td>9201539.0</td>\n      <td>9117260.0</td>\n      <td>7661.0</td>\n      <td>119373</td>\n      <td>2021-05-12 09:38:47.792</td>\n      <td>1884</td>\n      <td>128918</td>\n      <td>84279</td>\n      <td>8988342.0</td>\n      <td>509</td>\n      <td>20210512</td>\n      <td>00:00</td>\n      <td>NaN</td>\n    </tr>\n  </tbody>\n</table>\n<p>468 rows × 14 columns</p>\n</div>"
     },
     "execution_count": 11,
     "metadata": {},
     "output_type": "execute_result"
    }
   ],
   "source": [
    "df_old_all = pd.read_csv('./dataset/all/covid19_' + oldDate_all + '_all.csv')\n",
    "df_old_all = df_old_all.drop(['Unnamed: 0'], axis = 1)\n",
    "df_old_part = pd.read_csv('./dataset/part/covid19_' + oldDate_part + '_part.csv')\n",
    "df_old_part = df_old_part.drop(['Unnamed: 0'], axis = 1)\n",
    "df_old_all"
   ],
   "metadata": {
    "collapsed": false,
    "pycharm": {
     "name": "#%%\n"
    }
   }
  },
  {
   "cell_type": "code",
   "execution_count": 12,
   "outputs": [],
   "source": [
    "df_all = df_old_all.append(df_new_all)\n",
    "df_part = df_old_part.append(df_new_part)\n",
    "df_all.to_csv('./dataset/all/covid19_' + nowDate + '_all.csv', mode='w')\n",
    "df_part.to_csv('./dataset/part/covid19_' + nowDate + '_part.csv', mode='w')"
   ],
   "metadata": {
    "collapsed": false,
    "pycharm": {
     "name": "#%%\n"
    }
   }
  },
  {
   "cell_type": "code",
   "execution_count": 13,
   "outputs": [
    {
     "name": "stdout",
     "output_type": "stream",
     "text": [
      "<class 'pandas.core.frame.DataFrame'>\n",
      "Int64Index: 480 entries, 0 to 0\n",
      "Data columns (total 14 columns):\n",
      " #   Column          Non-Null Count  Dtype \n",
      "---  ------          --------------  ----- \n",
      " 0   accDefRate      449 non-null    object\n",
      " 1   accExamCnt      449 non-null    object\n",
      " 2   accExamCompCnt  449 non-null    object\n",
      " 3   careCnt         448 non-null    object\n",
      " 4   clearCnt        480 non-null    object\n",
      " 5   createDt        480 non-null    object\n",
      " 6   deathCnt        480 non-null    object\n",
      " 7   decideCnt       480 non-null    object\n",
      " 8   examCnt         480 non-null    object\n",
      " 9   resutlNegCnt    449 non-null    object\n",
      " 10  seq             480 non-null    object\n",
      " 11  stateDt         480 non-null    object\n",
      " 12  stateTime       480 non-null    object\n",
      " 13  updateDt        431 non-null    object\n",
      "dtypes: object(14)\n",
      "memory usage: 56.2+ KB\n"
     ]
    }
   ],
   "source": [
    "df_all.info()\n",
    "\n",
    "\n",
    "\n",
    "\n",
    "\n",
    "\n",
    "\n",
    "\n",
    "\n",
    "\n",
    "\n",
    "\n",
    "\n"
   ],
   "metadata": {
    "collapsed": false,
    "pycharm": {
     "name": "#%%\n"
    }
   }
  }
 ],
 "metadata": {
  "kernelspec": {
   "name": "python3",
   "language": "python",
   "display_name": "Python 3"
  },
  "language_info": {
   "codemirror_mode": {
    "name": "ipython",
    "version": 2
   },
   "file_extension": ".py",
   "mimetype": "text/x-python",
   "name": "python",
   "nbconvert_exporter": "python",
   "pygments_lexer": "ipython2",
   "version": "2.7.6"
  }
 },
 "nbformat": 4,
 "nbformat_minor": 0
}