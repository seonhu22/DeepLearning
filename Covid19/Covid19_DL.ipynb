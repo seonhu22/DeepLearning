{
  "nbformat": 4,
  "nbformat_minor": 0,
  "metadata": {
    "colab": {
      "name": "Covid19_DL.ipynb",
      "provenance": [],
      "collapsed_sections": []
    },
    "kernelspec": {
      "display_name": "Python 3",
      "name": "python3"
    },
    "language_info": {
      "name": "python"
    }
  },
  "cells": [
    {
      "cell_type": "code",
      "metadata": {
        "colab": {
          "base_uri": "https://localhost:8080/"
        },
        "id": "OETRTIdxk0Qd",
        "outputId": "57d3beb8-28d2-4001-f8ac-d08cafc898a6"
      },
      "source": [
        "from google.colab import drive\n",
        "drive.mount('/content/gdrive')"
      ],
      "execution_count": 1,
      "outputs": [
        {
          "output_type": "stream",
          "text": [
            "Mounted at /content/gdrive\n"
          ],
          "name": "stdout"
        }
      ]
    },
    {
      "cell_type": "code",
      "metadata": {
        "colab": {
          "base_uri": "https://localhost:8080/"
        },
        "id": "ZAt67kgklPbf",
        "outputId": "3551688b-3f0c-4b17-ecea-77c480b74ab1"
      },
      "source": [
        "!ls /content/gdrive/MyDrive/DeepLearning/Covid19/dataset\n",
        "cp = '/content/gdrive/MyDrive/DeepLearning/Covid19/dataset'"
      ],
      "execution_count": 2,
      "outputs": [
        {
          "output_type": "stream",
          "text": [
            "all  part\n"
          ],
          "name": "stdout"
        }
      ]
    },
    {
      "cell_type": "code",
      "metadata": {
        "id": "PlbEvcqh2X84"
      },
      "source": [
        "import pandas as pd\n",
        "import numpy as np"
      ],
      "execution_count": 3,
      "outputs": []
    },
    {
      "cell_type": "code",
      "metadata": {
        "id": "elX3vPXb1F9C"
      },
      "source": [
        "data_all_origin = pd.read_csv(cp + '/all/covid19_20210418_all.csv')\n",
        "data_part_origin = pd.read_csv(cp + '/part/covid19_20210418_part.csv')"
      ],
      "execution_count": 4,
      "outputs": []
    },
    {
      "cell_type": "code",
      "metadata": {
        "id": "0-eS2s3f6GJv"
      },
      "source": [
        "data_all = data_all_origin.drop(['Unnamed: 0'], axis = 1)\n",
        "data_part = data_part_origin.drop(['Unnamed: 0'], axis = 1)"
      ],
      "execution_count": 13,
      "outputs": []
    },
    {
      "cell_type": "markdown",
      "metadata": {
        "id": "jql1GPwOq8jG"
      },
      "source": [
        "# 전국 데이터만으로 예측\n",
        "# 데이터 갯수가 매우 적음"
      ]
    },
    {
      "cell_type": "code",
      "metadata": {
        "colab": {
          "base_uri": "https://localhost:8080/",
          "height": 402
        },
        "id": "LsGrK6wh218v",
        "outputId": "c2810f41-e23a-45fc-8ccc-8ff01c76bb61"
      },
      "source": [
        "data_all\n",
        "\n",
        "#   속성 설명(all)\n",
        "#   DECIDE_CNT          누적 확진자수\n",
        "#   CLEAR_CNT           누적 격리해제 수\n",
        "#   EXAM_CNT            검사진행 수\n",
        "#   DEATH_CNT           누적 사망자 수\n",
        "#   CARE_CNT            치료중 환자 수\n",
        "#   RESULT_NEG_CNT      결과 음성 수\n",
        "#   ACC_EXAM_CNT        누적 검사 수\n",
        "#   ACC_EXAM_COMP_CNT   누적 검사 완료 수\n",
        "#   ACC_DEF_RATE        누적 확진률\n",
        "#   CREATE_DT           등록일시분초\n",
        "#   UPDATE_DT           수정일시분"
      ],
      "execution_count": null,
      "outputs": [
        {
          "output_type": "execute_result",
          "data": {
            "text/html": [
              "<div>\n",
              "<style scoped>\n",
              "    .dataframe tbody tr th:only-of-type {\n",
              "        vertical-align: middle;\n",
              "    }\n",
              "\n",
              "    .dataframe tbody tr th {\n",
              "        vertical-align: top;\n",
              "    }\n",
              "\n",
              "    .dataframe thead th {\n",
              "        text-align: right;\n",
              "    }\n",
              "</style>\n",
              "<table border=\"1\" class=\"dataframe\">\n",
              "  <thead>\n",
              "    <tr style=\"text-align: right;\">\n",
              "      <th></th>\n",
              "      <th>accDefRate</th>\n",
              "      <th>accExamCnt</th>\n",
              "      <th>accExamCompCnt</th>\n",
              "      <th>careCnt</th>\n",
              "      <th>clearCnt</th>\n",
              "      <th>createDt</th>\n",
              "      <th>deathCnt</th>\n",
              "      <th>decideCnt</th>\n",
              "      <th>examCnt</th>\n",
              "      <th>resutlNegCnt</th>\n",
              "      <th>seq</th>\n",
              "      <th>stateDt</th>\n",
              "      <th>stateTime</th>\n",
              "      <th>updateDt</th>\n",
              "    </tr>\n",
              "  </thead>\n",
              "  <tbody>\n",
              "    <tr>\n",
              "      <th>0</th>\n",
              "      <td>NaN</td>\n",
              "      <td>NaN</td>\n",
              "      <td>NaN</td>\n",
              "      <td>NaN</td>\n",
              "      <td>1</td>\n",
              "      <td>47:33.3</td>\n",
              "      <td>0</td>\n",
              "      <td>0</td>\n",
              "      <td>1</td>\n",
              "      <td>NaN</td>\n",
              "      <td>1</td>\n",
              "      <td>20200101</td>\n",
              "      <td>18:00</td>\n",
              "      <td>21:56.6</td>\n",
              "    </tr>\n",
              "    <tr>\n",
              "      <th>1</th>\n",
              "      <td>NaN</td>\n",
              "      <td>NaN</td>\n",
              "      <td>NaN</td>\n",
              "      <td>NaN</td>\n",
              "      <td>1</td>\n",
              "      <td>47:33.3</td>\n",
              "      <td>0</td>\n",
              "      <td>0</td>\n",
              "      <td>1</td>\n",
              "      <td>NaN</td>\n",
              "      <td>1</td>\n",
              "      <td>20200201</td>\n",
              "      <td>18:00</td>\n",
              "      <td>47:33.3</td>\n",
              "    </tr>\n",
              "    <tr>\n",
              "      <th>2</th>\n",
              "      <td>NaN</td>\n",
              "      <td>NaN</td>\n",
              "      <td>NaN</td>\n",
              "      <td>NaN</td>\n",
              "      <td>2</td>\n",
              "      <td>22:49.5</td>\n",
              "      <td>2</td>\n",
              "      <td>2</td>\n",
              "      <td>2</td>\n",
              "      <td>NaN</td>\n",
              "      <td>2</td>\n",
              "      <td>20200202</td>\n",
              "      <td>9:00</td>\n",
              "      <td>22:49.5</td>\n",
              "    </tr>\n",
              "    <tr>\n",
              "      <th>3</th>\n",
              "      <td>NaN</td>\n",
              "      <td>NaN</td>\n",
              "      <td>NaN</td>\n",
              "      <td>NaN</td>\n",
              "      <td>0</td>\n",
              "      <td>41:17.2</td>\n",
              "      <td>0</td>\n",
              "      <td>15</td>\n",
              "      <td>0</td>\n",
              "      <td>NaN</td>\n",
              "      <td>3</td>\n",
              "      <td>20200203</td>\n",
              "      <td>9:00</td>\n",
              "      <td>41:17.2</td>\n",
              "    </tr>\n",
              "    <tr>\n",
              "      <th>4</th>\n",
              "      <td>NaN</td>\n",
              "      <td>NaN</td>\n",
              "      <td>NaN</td>\n",
              "      <td>NaN</td>\n",
              "      <td>0</td>\n",
              "      <td>26:59.6</td>\n",
              "      <td>0</td>\n",
              "      <td>0</td>\n",
              "      <td>0</td>\n",
              "      <td>NaN</td>\n",
              "      <td>4</td>\n",
              "      <td>20200204</td>\n",
              "      <td>0:00</td>\n",
              "      <td>26:59.6</td>\n",
              "    </tr>\n",
              "    <tr>\n",
              "      <th>...</th>\n",
              "      <td>...</td>\n",
              "      <td>...</td>\n",
              "      <td>...</td>\n",
              "      <td>...</td>\n",
              "      <td>...</td>\n",
              "      <td>...</td>\n",
              "      <td>...</td>\n",
              "      <td>...</td>\n",
              "      <td>...</td>\n",
              "      <td>...</td>\n",
              "      <td>...</td>\n",
              "      <td>...</td>\n",
              "      <td>...</td>\n",
              "      <td>...</td>\n",
              "    </tr>\n",
              "    <tr>\n",
              "      <th>439</th>\n",
              "      <td>1.363619</td>\n",
              "      <td>8245387.0</td>\n",
              "      <td>8170760.0</td>\n",
              "      <td>7653.0</td>\n",
              "      <td>101983</td>\n",
              "      <td>2021-04-14 09:33:58.653</td>\n",
              "      <td>1782</td>\n",
              "      <td>111418</td>\n",
              "      <td>74627</td>\n",
              "      <td>8059342.0</td>\n",
              "      <td>480</td>\n",
              "      <td>20210414</td>\n",
              "      <td>00:00</td>\n",
              "      <td>2021-04-16 15:24:52.012</td>\n",
              "    </tr>\n",
              "    <tr>\n",
              "      <th>440</th>\n",
              "      <td>1.363792</td>\n",
              "      <td>8291125.0</td>\n",
              "      <td>8220904.0</td>\n",
              "      <td>7815.0</td>\n",
              "      <td>102513</td>\n",
              "      <td>2021-04-15 09:38:50.34</td>\n",
              "      <td>1788</td>\n",
              "      <td>112116</td>\n",
              "      <td>70221</td>\n",
              "      <td>8108788.0</td>\n",
              "      <td>481</td>\n",
              "      <td>20210415</td>\n",
              "      <td>00:00</td>\n",
              "      <td>2021-04-16 09:32:37.708</td>\n",
              "    </tr>\n",
              "    <tr>\n",
              "      <th>441</th>\n",
              "      <td>1.365080</td>\n",
              "      <td>8333332.0</td>\n",
              "      <td>8262449.0</td>\n",
              "      <td>7937.0</td>\n",
              "      <td>103062</td>\n",
              "      <td>2021-04-16 09:32:10.738</td>\n",
              "      <td>1790</td>\n",
              "      <td>112789</td>\n",
              "      <td>70883</td>\n",
              "      <td>8149660.0</td>\n",
              "      <td>482</td>\n",
              "      <td>20210416</td>\n",
              "      <td>00:00</td>\n",
              "      <td>NaN</td>\n",
              "    </tr>\n",
              "    <tr>\n",
              "      <th>442</th>\n",
              "      <td>1.365674</td>\n",
              "      <td>8377778.0</td>\n",
              "      <td>8306739.0</td>\n",
              "      <td>8055.0</td>\n",
              "      <td>103594</td>\n",
              "      <td>2021-04-17 09:40:16.606</td>\n",
              "      <td>1794</td>\n",
              "      <td>113443</td>\n",
              "      <td>71039</td>\n",
              "      <td>8193296.0</td>\n",
              "      <td>483</td>\n",
              "      <td>20210417</td>\n",
              "      <td>00:00</td>\n",
              "      <td>2021-04-18 09:35:59.415</td>\n",
              "    </tr>\n",
              "    <tr>\n",
              "      <th>443</th>\n",
              "      <td>1.370936</td>\n",
              "      <td>8396067.0</td>\n",
              "      <td>8323876.0</td>\n",
              "      <td>8312.0</td>\n",
              "      <td>104006</td>\n",
              "      <td>2021-04-18 09:30:44.979</td>\n",
              "      <td>1797</td>\n",
              "      <td>114115</td>\n",
              "      <td>72191</td>\n",
              "      <td>8209761.0</td>\n",
              "      <td>484</td>\n",
              "      <td>20210418</td>\n",
              "      <td>00:00</td>\n",
              "      <td>NaN</td>\n",
              "    </tr>\n",
              "  </tbody>\n",
              "</table>\n",
              "<p>444 rows × 14 columns</p>\n",
              "</div>"
            ],
            "text/plain": [
              "     accDefRate  accExamCnt  ...  stateTime                 updateDt\n",
              "0           NaN         NaN  ...      18:00                  21:56.6\n",
              "1           NaN         NaN  ...      18:00                  47:33.3\n",
              "2           NaN         NaN  ...       9:00                  22:49.5\n",
              "3           NaN         NaN  ...       9:00                  41:17.2\n",
              "4           NaN         NaN  ...       0:00                  26:59.6\n",
              "..          ...         ...  ...        ...                      ...\n",
              "439    1.363619   8245387.0  ...      00:00  2021-04-16 15:24:52.012\n",
              "440    1.363792   8291125.0  ...      00:00  2021-04-16 09:32:37.708\n",
              "441    1.365080   8333332.0  ...      00:00                      NaN\n",
              "442    1.365674   8377778.0  ...      00:00  2021-04-18 09:35:59.415\n",
              "443    1.370936   8396067.0  ...      00:00                      NaN\n",
              "\n",
              "[444 rows x 14 columns]"
            ]
          },
          "metadata": {
            "tags": []
          },
          "execution_count": 6
        }
      ]
    },
    {
      "cell_type": "code",
      "metadata": {
        "colab": {
          "base_uri": "https://localhost:8080/",
          "height": 402
        },
        "id": "t12iZXaB5EBO",
        "outputId": "06d45a03-ef9d-4a58-f8b6-d6435a077427"
      },
      "source": [
        "data_all = data_all.drop(['createDt', 'updateDt', 'seq', 'stateTime'], axis = 1)\n",
        "\n",
        "infector = []\n",
        "clear = []\n",
        "infector.append(0)\n",
        "clear.append(0)\n",
        "\n",
        "for i in range(len(data_all) - 1):\n",
        "    infector.append(data_all['decideCnt'][i + 1] - data_all['decideCnt'][i])\n",
        "    clear.append(data_all['clearCnt'][i + 1] - data_all['clearCnt'][i])\n",
        "\n",
        "infector = np.array(infector)\n",
        "clear = np.array(clear)\n",
        "infector = pd.DataFrame(infector)\n",
        "clear = pd.DataFrame(clear)\n",
        "infector.columns = ['infector']\n",
        "clear.columns = ['clear']\n",
        "\n",
        "data_all = data_all.assign(infector = infector)\n",
        "data_all = data_all.assign(clear = clear)\n",
        "data_all = data_all.dropna()\n",
        "data_all = data_all.reset_index(drop = True)\n",
        "\n",
        "data_all"
      ],
      "execution_count": null,
      "outputs": [
        {
          "output_type": "execute_result",
          "data": {
            "text/html": [
              "<div>\n",
              "<style scoped>\n",
              "    .dataframe tbody tr th:only-of-type {\n",
              "        vertical-align: middle;\n",
              "    }\n",
              "\n",
              "    .dataframe tbody tr th {\n",
              "        vertical-align: top;\n",
              "    }\n",
              "\n",
              "    .dataframe thead th {\n",
              "        text-align: right;\n",
              "    }\n",
              "</style>\n",
              "<table border=\"1\" class=\"dataframe\">\n",
              "  <thead>\n",
              "    <tr style=\"text-align: right;\">\n",
              "      <th></th>\n",
              "      <th>accDefRate</th>\n",
              "      <th>accExamCnt</th>\n",
              "      <th>accExamCompCnt</th>\n",
              "      <th>careCnt</th>\n",
              "      <th>clearCnt</th>\n",
              "      <th>deathCnt</th>\n",
              "      <th>decideCnt</th>\n",
              "      <th>examCnt</th>\n",
              "      <th>resutlNegCnt</th>\n",
              "      <th>stateDt</th>\n",
              "      <th>infector</th>\n",
              "      <th>clear</th>\n",
              "    </tr>\n",
              "  </thead>\n",
              "  <tbody>\n",
              "    <tr>\n",
              "      <th>0</th>\n",
              "      <td>5.329140</td>\n",
              "      <td>125851.0</td>\n",
              "      <td>90296.0</td>\n",
              "      <td>4159.0</td>\n",
              "      <td>34</td>\n",
              "      <td>28</td>\n",
              "      <td>4812</td>\n",
              "      <td>35555</td>\n",
              "      <td>85484.0</td>\n",
              "      <td>20200303</td>\n",
              "      <td>600</td>\n",
              "      <td>3</td>\n",
              "    </tr>\n",
              "    <tr>\n",
              "      <th>1</th>\n",
              "      <td>4.919986</td>\n",
              "      <td>136707.0</td>\n",
              "      <td>108293.0</td>\n",
              "      <td>4750.0</td>\n",
              "      <td>41</td>\n",
              "      <td>32</td>\n",
              "      <td>5328</td>\n",
              "      <td>28414</td>\n",
              "      <td>102965.0</td>\n",
              "      <td>20200304</td>\n",
              "      <td>516</td>\n",
              "      <td>7</td>\n",
              "    </tr>\n",
              "    <tr>\n",
              "      <th>2</th>\n",
              "      <td>4.622748</td>\n",
              "      <td>146541.0</td>\n",
              "      <td>124731.0</td>\n",
              "      <td>5255.0</td>\n",
              "      <td>88</td>\n",
              "      <td>35</td>\n",
              "      <td>5766</td>\n",
              "      <td>21810</td>\n",
              "      <td>118965.0</td>\n",
              "      <td>20200305</td>\n",
              "      <td>438</td>\n",
              "      <td>47</td>\n",
              "    </tr>\n",
              "    <tr>\n",
              "      <th>3</th>\n",
              "      <td>4.397235</td>\n",
              "      <td>164740.0</td>\n",
              "      <td>142908.0</td>\n",
              "      <td>5643.0</td>\n",
              "      <td>108</td>\n",
              "      <td>42</td>\n",
              "      <td>6284</td>\n",
              "      <td>21832</td>\n",
              "      <td>136624.0</td>\n",
              "      <td>20200306</td>\n",
              "      <td>518</td>\n",
              "      <td>20</td>\n",
              "    </tr>\n",
              "    <tr>\n",
              "      <th>4</th>\n",
              "      <td>4.267543</td>\n",
              "      <td>178189.0</td>\n",
              "      <td>158569.0</td>\n",
              "      <td>6134.0</td>\n",
              "      <td>118</td>\n",
              "      <td>44</td>\n",
              "      <td>6767</td>\n",
              "      <td>19620</td>\n",
              "      <td>151802.0</td>\n",
              "      <td>20200307</td>\n",
              "      <td>483</td>\n",
              "      <td>10</td>\n",
              "    </tr>\n",
              "    <tr>\n",
              "      <th>...</th>\n",
              "      <td>...</td>\n",
              "      <td>...</td>\n",
              "      <td>...</td>\n",
              "      <td>...</td>\n",
              "      <td>...</td>\n",
              "      <td>...</td>\n",
              "      <td>...</td>\n",
              "      <td>...</td>\n",
              "      <td>...</td>\n",
              "      <td>...</td>\n",
              "      <td>...</td>\n",
              "      <td>...</td>\n",
              "    </tr>\n",
              "    <tr>\n",
              "      <th>407</th>\n",
              "      <td>1.363619</td>\n",
              "      <td>8245387.0</td>\n",
              "      <td>8170760.0</td>\n",
              "      <td>7653.0</td>\n",
              "      <td>101983</td>\n",
              "      <td>1782</td>\n",
              "      <td>111418</td>\n",
              "      <td>74627</td>\n",
              "      <td>8059342.0</td>\n",
              "      <td>20210414</td>\n",
              "      <td>731</td>\n",
              "      <td>651</td>\n",
              "    </tr>\n",
              "    <tr>\n",
              "      <th>408</th>\n",
              "      <td>1.363792</td>\n",
              "      <td>8291125.0</td>\n",
              "      <td>8220904.0</td>\n",
              "      <td>7815.0</td>\n",
              "      <td>102513</td>\n",
              "      <td>1788</td>\n",
              "      <td>112116</td>\n",
              "      <td>70221</td>\n",
              "      <td>8108788.0</td>\n",
              "      <td>20210415</td>\n",
              "      <td>698</td>\n",
              "      <td>530</td>\n",
              "    </tr>\n",
              "    <tr>\n",
              "      <th>409</th>\n",
              "      <td>1.365080</td>\n",
              "      <td>8333332.0</td>\n",
              "      <td>8262449.0</td>\n",
              "      <td>7937.0</td>\n",
              "      <td>103062</td>\n",
              "      <td>1790</td>\n",
              "      <td>112789</td>\n",
              "      <td>70883</td>\n",
              "      <td>8149660.0</td>\n",
              "      <td>20210416</td>\n",
              "      <td>673</td>\n",
              "      <td>549</td>\n",
              "    </tr>\n",
              "    <tr>\n",
              "      <th>410</th>\n",
              "      <td>1.365674</td>\n",
              "      <td>8377778.0</td>\n",
              "      <td>8306739.0</td>\n",
              "      <td>8055.0</td>\n",
              "      <td>103594</td>\n",
              "      <td>1794</td>\n",
              "      <td>113443</td>\n",
              "      <td>71039</td>\n",
              "      <td>8193296.0</td>\n",
              "      <td>20210417</td>\n",
              "      <td>654</td>\n",
              "      <td>532</td>\n",
              "    </tr>\n",
              "    <tr>\n",
              "      <th>411</th>\n",
              "      <td>1.370936</td>\n",
              "      <td>8396067.0</td>\n",
              "      <td>8323876.0</td>\n",
              "      <td>8312.0</td>\n",
              "      <td>104006</td>\n",
              "      <td>1797</td>\n",
              "      <td>114115</td>\n",
              "      <td>72191</td>\n",
              "      <td>8209761.0</td>\n",
              "      <td>20210418</td>\n",
              "      <td>672</td>\n",
              "      <td>412</td>\n",
              "    </tr>\n",
              "  </tbody>\n",
              "</table>\n",
              "<p>412 rows × 12 columns</p>\n",
              "</div>"
            ],
            "text/plain": [
              "     accDefRate  accExamCnt  accExamCompCnt  ...   stateDt  infector  clear\n",
              "0      5.329140    125851.0         90296.0  ...  20200303       600      3\n",
              "1      4.919986    136707.0        108293.0  ...  20200304       516      7\n",
              "2      4.622748    146541.0        124731.0  ...  20200305       438     47\n",
              "3      4.397235    164740.0        142908.0  ...  20200306       518     20\n",
              "4      4.267543    178189.0        158569.0  ...  20200307       483     10\n",
              "..          ...         ...             ...  ...       ...       ...    ...\n",
              "407    1.363619   8245387.0       8170760.0  ...  20210414       731    651\n",
              "408    1.363792   8291125.0       8220904.0  ...  20210415       698    530\n",
              "409    1.365080   8333332.0       8262449.0  ...  20210416       673    549\n",
              "410    1.365674   8377778.0       8306739.0  ...  20210417       654    532\n",
              "411    1.370936   8396067.0       8323876.0  ...  20210418       672    412\n",
              "\n",
              "[412 rows x 12 columns]"
            ]
          },
          "metadata": {
            "tags": []
          },
          "execution_count": 7
        }
      ]
    },
    {
      "cell_type": "code",
      "metadata": {
        "id": "1VMQoCP_MZsL"
      },
      "source": [
        "from sklearn.preprocessing import MinMaxScaler\n",
        "\n",
        "scaler_combine = MinMaxScaler()\n",
        "scaler_train = MinMaxScaler()\n",
        "scaler_test = MinMaxScaler()\n",
        "\n",
        "scale_combine_all = ['careCnt', 'examCnt', 'resutlNegCnt', 'clearCnt', 'infector']\n",
        "scale_train_all = ['careCnt', 'examCnt', 'resutlNegCnt', 'clearCnt']\n",
        "scale_test_all = ['infector']\n",
        "\n",
        "scaled_combine_all = scaler_combine.fit_transform(data_all[scale_combine_all])\n",
        "scaled_train_all = scaler_train.fit_transform(data_all[scale_train_all])\n",
        "scaled_test_all = scaler_test.fit_transform(data_all[scale_test_all])\n",
        "\n",
        "scaled_combine_all = pd.DataFrame(scaled_combine_all)\n",
        "scaled_train_all = pd.DataFrame(scaled_train_all)\n",
        "scaled_test_all = pd.DataFrame(scaled_test_all)\n",
        "\n",
        "scaled_combine_all.columns = scale_combine_all\n",
        "scaled_train_all.columns = scale_train_all\n",
        "scaled_test_all.columns = scale_test_all"
      ],
      "execution_count": null,
      "outputs": []
    },
    {
      "cell_type": "code",
      "metadata": {
        "id": "UqNXB1Rt8_WE"
      },
      "source": [
        "#train_all = scaled_combine_all[:len(scaled_combine_all) - 30]\n",
        "#test_all = scaled_combine_all[len(scaled_combine_all) - 30:]\n",
        "train_all = scaled_combine_all\n",
        "test_all = scaled_combine_all"
      ],
      "execution_count": null,
      "outputs": []
    },
    {
      "cell_type": "code",
      "metadata": {
        "id": "x9sFiQjm9NTb"
      },
      "source": [
        "# make dataset\n",
        "# find next 'end' data \n",
        "def make_dataset(data, label, window_size = 10):\n",
        "    feature_list = []\n",
        "    label_list = []\n",
        "    for i in range(len(data) - window_size):\n",
        "        feature_list.append(np.array(data.iloc[i:i + window_size]))\n",
        "        label_list.append(np.array(label.iloc[i + window_size]))\n",
        "    return np.array(feature_list), np.array(label_list)\n",
        "# dataset: (i ~ i + window_size)days feature_list and (i + window_size) label_list"
      ],
      "execution_count": null,
      "outputs": []
    },
    {
      "cell_type": "code",
      "metadata": {
        "id": "lDN8TVWF9SHJ"
      },
      "source": [
        "train_feature_all = train_all[['careCnt', 'examCnt', 'resutlNegCnt', 'clearCnt']]\n",
        "train_label_all = train_all[['infector']]\n",
        "test_feature_all = test_all[['careCnt', 'examCnt', 'resutlNegCnt', 'clearCnt']]\n",
        "test_label_all = test_all[['infector']]"
      ],
      "execution_count": null,
      "outputs": []
    },
    {
      "cell_type": "code",
      "metadata": {
        "colab": {
          "base_uri": "https://localhost:8080/"
        },
        "id": "2SwHNU5o-IKU",
        "outputId": "d47128c0-6062-4174-ee07-29676fef4249"
      },
      "source": [
        "# train dataset\n",
        "train_feature_all, train_label_all = make_dataset(train_feature_all, train_label_all, 10)\n",
        "\n",
        "train_feature_all.shape, train_label_all.shape"
      ],
      "execution_count": null,
      "outputs": [
        {
          "output_type": "execute_result",
          "data": {
            "text/plain": [
              "((402, 10, 4), (402, 1))"
            ]
          },
          "metadata": {
            "tags": []
          },
          "execution_count": 12
        }
      ]
    },
    {
      "cell_type": "code",
      "metadata": {
        "colab": {
          "base_uri": "https://localhost:8080/"
        },
        "id": "VJZ30YPx-hfs",
        "outputId": "b7fe756c-c4e6-4105-929d-fccaf0d48d6a"
      },
      "source": [
        "# test dataset\n",
        "test_feature_all, test_label_all = make_dataset(test_feature_all, test_label_all, 10)\n",
        "\n",
        "test_feature_all.shape, test_label_all.shape"
      ],
      "execution_count": null,
      "outputs": [
        {
          "output_type": "execute_result",
          "data": {
            "text/plain": [
              "((402, 10, 4), (402, 1))"
            ]
          },
          "metadata": {
            "tags": []
          },
          "execution_count": 13
        }
      ]
    },
    {
      "cell_type": "code",
      "metadata": {
        "colab": {
          "base_uri": "https://localhost:8080/"
        },
        "id": "1yA5NRUj-qXy",
        "outputId": "d168a660-4933-4e80-b8aa-76d378a7fdaf"
      },
      "source": [
        "from sklearn.model_selection import train_test_split\n",
        "\n",
        "# build train, validation set\n",
        "x_train, x_valid, y_train, y_valid = train_test_split(train_feature_all, train_label_all, test_size = 0.2)\n",
        "\n",
        "x_train.shape, x_valid.shape"
      ],
      "execution_count": null,
      "outputs": [
        {
          "output_type": "execute_result",
          "data": {
            "text/plain": [
              "((321, 10, 4), (81, 10, 4))"
            ]
          },
          "metadata": {
            "tags": []
          },
          "execution_count": 14
        }
      ]
    },
    {
      "cell_type": "code",
      "metadata": {
        "colab": {
          "base_uri": "https://localhost:8080/"
        },
        "id": "QDeoyzuu_Y4i",
        "outputId": "3952339c-7f95-45e0-a8b0-d77316f742c1"
      },
      "source": [
        "from keras.models import *\n",
        "from keras.layers import *\n",
        "from keras.callbacks import EarlyStopping, ModelCheckpoint\n",
        "\n",
        "\n",
        "def build_model():\n",
        "    model = Sequential()\n",
        "    \n",
        "\n",
        "    model.add(Bidirectional(LSTM(50, return_sequences = False), input_shape=(train_feature_all.shape[1], train_feature_all.shape[2])))\n",
        "    model.add(Dropout(0.2))\n",
        "    model.add(Dense(64, activation = 'sigmoid'))\n",
        "    model.add(Dense(1, activation = 'linear'))\n",
        "    #model.add(Bidirectional(LSTM(64, return_sequences = True), input_shape=(train_feature_all.shape[1], train_feature_all.shape[2])))\n",
        "    #model.add(Bidirectional(LSTM(32, return_sequences = False)))\n",
        "    #model.add(Dense(1, activation = 'linear'))\n",
        "\n",
        "    return model\n",
        "\n",
        "model = build_model()\n",
        "model.summary()"
      ],
      "execution_count": null,
      "outputs": [
        {
          "output_type": "stream",
          "text": [
            "Model: \"sequential_5\"\n",
            "_________________________________________________________________\n",
            "Layer (type)                 Output Shape              Param #   \n",
            "=================================================================\n",
            "bidirectional_6 (Bidirection (None, 100)               22000     \n",
            "_________________________________________________________________\n",
            "dropout_4 (Dropout)          (None, 100)               0         \n",
            "_________________________________________________________________\n",
            "dense_9 (Dense)              (None, 64)                6464      \n",
            "_________________________________________________________________\n",
            "dense_10 (Dense)             (None, 1)                 65        \n",
            "=================================================================\n",
            "Total params: 28,529\n",
            "Trainable params: 28,529\n",
            "Non-trainable params: 0\n",
            "_________________________________________________________________\n"
          ],
          "name": "stdout"
        }
      ]
    },
    {
      "cell_type": "code",
      "metadata": {
        "id": "vyDqiZtg_gBP"
      },
      "source": [
        "# if val_loss will not imporve consecutive 10 times(patience = 10), epochs will be stopped\n",
        "es = EarlyStopping(monitor = 'val_loss', mode = 'min', verbose = 1, patience = 10)\n",
        "mc = ModelCheckpoint('check.h5', monitor = 'val_acc', mode = 'max', verbose = 1, save_best_only=True)"
      ],
      "execution_count": null,
      "outputs": []
    },
    {
      "cell_type": "code",
      "metadata": {
        "colab": {
          "base_uri": "https://localhost:8080/"
        },
        "id": "Q_ohuQ5b_iVA",
        "outputId": "2f2dbc88-c4ca-4288-9227-529925c57cdb"
      },
      "source": [
        "from keras.optimizers import SGD, Adam, RMSprop, Adagrad, Adadelta, Adamax\n",
        "\n",
        "model.compile(loss = 'mean_squared_error', optimizer = Adam(lr = 0.0005), metrics = ['acc'])\n",
        "history = model.fit(x_train, y_train, epochs = 1000, batch_size = 1, validation_data = (x_valid, y_valid), callbacks = [es, mc])"
      ],
      "execution_count": null,
      "outputs": [
        {
          "output_type": "stream",
          "text": [
            "Epoch 1/1000\n",
            "321/321 [==============================] - 5s 8ms/step - loss: 0.0497 - acc: 0.0064 - val_loss: 0.0208 - val_acc: 0.0000e+00\n",
            "\n",
            "Epoch 00001: val_acc improved from -inf to 0.00000, saving model to check.h5\n",
            "Epoch 2/1000\n",
            "321/321 [==============================] - 2s 5ms/step - loss: 0.0176 - acc: 0.0012 - val_loss: 0.0195 - val_acc: 0.0000e+00\n",
            "\n",
            "Epoch 00002: val_acc did not improve from 0.00000\n",
            "Epoch 3/1000\n",
            "321/321 [==============================] - 2s 5ms/step - loss: 0.0152 - acc: 8.9827e-04 - val_loss: 0.0192 - val_acc: 0.0000e+00\n",
            "\n",
            "Epoch 00003: val_acc did not improve from 0.00000\n",
            "Epoch 4/1000\n",
            "321/321 [==============================] - 2s 5ms/step - loss: 0.0124 - acc: 0.0089 - val_loss: 0.0131 - val_acc: 0.0000e+00\n",
            "\n",
            "Epoch 00004: val_acc did not improve from 0.00000\n",
            "Epoch 5/1000\n",
            "321/321 [==============================] - 2s 5ms/step - loss: 0.0104 - acc: 0.0093 - val_loss: 0.0152 - val_acc: 0.0000e+00\n",
            "\n",
            "Epoch 00005: val_acc did not improve from 0.00000\n",
            "Epoch 6/1000\n",
            "321/321 [==============================] - 2s 5ms/step - loss: 0.0118 - acc: 0.0102 - val_loss: 0.0116 - val_acc: 0.0000e+00\n",
            "\n",
            "Epoch 00006: val_acc did not improve from 0.00000\n",
            "Epoch 7/1000\n",
            "321/321 [==============================] - 2s 5ms/step - loss: 0.0102 - acc: 0.0021 - val_loss: 0.0095 - val_acc: 0.0000e+00\n",
            "\n",
            "Epoch 00007: val_acc did not improve from 0.00000\n",
            "Epoch 8/1000\n",
            "321/321 [==============================] - 2s 5ms/step - loss: 0.0088 - acc: 0.0077 - val_loss: 0.0151 - val_acc: 0.0000e+00\n",
            "\n",
            "Epoch 00008: val_acc did not improve from 0.00000\n",
            "Epoch 9/1000\n",
            "321/321 [==============================] - 2s 5ms/step - loss: 0.0097 - acc: 0.0067 - val_loss: 0.0112 - val_acc: 0.0000e+00\n",
            "\n",
            "Epoch 00009: val_acc did not improve from 0.00000\n",
            "Epoch 10/1000\n",
            "321/321 [==============================] - 2s 5ms/step - loss: 0.0085 - acc: 0.0075 - val_loss: 0.0083 - val_acc: 0.0000e+00\n",
            "\n",
            "Epoch 00010: val_acc did not improve from 0.00000\n",
            "Epoch 11/1000\n",
            "321/321 [==============================] - 2s 5ms/step - loss: 0.0069 - acc: 0.0116 - val_loss: 0.0085 - val_acc: 0.0000e+00\n",
            "\n",
            "Epoch 00011: val_acc did not improve from 0.00000\n",
            "Epoch 12/1000\n",
            "321/321 [==============================] - 2s 5ms/step - loss: 0.0084 - acc: 0.0061 - val_loss: 0.0113 - val_acc: 0.0000e+00\n",
            "\n",
            "Epoch 00012: val_acc did not improve from 0.00000\n",
            "Epoch 13/1000\n",
            "321/321 [==============================] - 2s 5ms/step - loss: 0.0066 - acc: 0.0087 - val_loss: 0.0089 - val_acc: 0.0000e+00\n",
            "\n",
            "Epoch 00013: val_acc did not improve from 0.00000\n",
            "Epoch 14/1000\n",
            "321/321 [==============================] - 2s 5ms/step - loss: 0.0055 - acc: 0.0047 - val_loss: 0.0069 - val_acc: 0.0000e+00\n",
            "\n",
            "Epoch 00014: val_acc did not improve from 0.00000\n",
            "Epoch 15/1000\n",
            "321/321 [==============================] - 2s 5ms/step - loss: 0.0063 - acc: 0.0129 - val_loss: 0.0070 - val_acc: 0.0000e+00\n",
            "\n",
            "Epoch 00015: val_acc did not improve from 0.00000\n",
            "Epoch 16/1000\n",
            "321/321 [==============================] - 2s 5ms/step - loss: 0.0081 - acc: 0.0149 - val_loss: 0.0076 - val_acc: 0.0000e+00\n",
            "\n",
            "Epoch 00016: val_acc did not improve from 0.00000\n",
            "Epoch 17/1000\n",
            "321/321 [==============================] - 2s 5ms/step - loss: 0.0076 - acc: 0.0100 - val_loss: 0.0081 - val_acc: 0.0000e+00\n",
            "\n",
            "Epoch 00017: val_acc did not improve from 0.00000\n",
            "Epoch 18/1000\n",
            "321/321 [==============================] - 2s 5ms/step - loss: 0.0065 - acc: 6.2141e-04 - val_loss: 0.0121 - val_acc: 0.0000e+00\n",
            "\n",
            "Epoch 00018: val_acc did not improve from 0.00000\n",
            "Epoch 19/1000\n",
            "321/321 [==============================] - 2s 5ms/step - loss: 0.0070 - acc: 0.0046 - val_loss: 0.0098 - val_acc: 0.0000e+00\n",
            "\n",
            "Epoch 00019: val_acc did not improve from 0.00000\n",
            "Epoch 20/1000\n",
            "321/321 [==============================] - 2s 5ms/step - loss: 0.0055 - acc: 0.0033 - val_loss: 0.0068 - val_acc: 0.0000e+00\n",
            "\n",
            "Epoch 00020: val_acc did not improve from 0.00000\n",
            "Epoch 21/1000\n",
            "321/321 [==============================] - 2s 5ms/step - loss: 0.0062 - acc: 0.0294 - val_loss: 0.0071 - val_acc: 0.0000e+00\n",
            "\n",
            "Epoch 00021: val_acc did not improve from 0.00000\n",
            "Epoch 22/1000\n",
            "321/321 [==============================] - 2s 5ms/step - loss: 0.0052 - acc: 0.0050 - val_loss: 0.0087 - val_acc: 0.0000e+00\n",
            "\n",
            "Epoch 00022: val_acc did not improve from 0.00000\n",
            "Epoch 23/1000\n",
            "321/321 [==============================] - 2s 5ms/step - loss: 0.0058 - acc: 0.0058 - val_loss: 0.0071 - val_acc: 0.0000e+00\n",
            "\n",
            "Epoch 00023: val_acc did not improve from 0.00000\n",
            "Epoch 24/1000\n",
            "321/321 [==============================] - 2s 5ms/step - loss: 0.0057 - acc: 0.0046 - val_loss: 0.0072 - val_acc: 0.0000e+00\n",
            "\n",
            "Epoch 00024: val_acc did not improve from 0.00000\n",
            "Epoch 25/1000\n",
            "321/321 [==============================] - 2s 5ms/step - loss: 0.0067 - acc: 0.0049 - val_loss: 0.0066 - val_acc: 0.0000e+00\n",
            "\n",
            "Epoch 00025: val_acc did not improve from 0.00000\n",
            "Epoch 26/1000\n",
            "321/321 [==============================] - 1s 5ms/step - loss: 0.0063 - acc: 0.0015 - val_loss: 0.0056 - val_acc: 0.0000e+00\n",
            "\n",
            "Epoch 00026: val_acc did not improve from 0.00000\n",
            "Epoch 27/1000\n",
            "321/321 [==============================] - 2s 5ms/step - loss: 0.0081 - acc: 0.0057 - val_loss: 0.0085 - val_acc: 0.0000e+00\n",
            "\n",
            "Epoch 00027: val_acc did not improve from 0.00000\n",
            "Epoch 28/1000\n",
            "321/321 [==============================] - 2s 5ms/step - loss: 0.0051 - acc: 0.0029 - val_loss: 0.0079 - val_acc: 0.0000e+00\n",
            "\n",
            "Epoch 00028: val_acc did not improve from 0.00000\n",
            "Epoch 29/1000\n",
            "321/321 [==============================] - 2s 5ms/step - loss: 0.0068 - acc: 0.0133 - val_loss: 0.0057 - val_acc: 0.0000e+00\n",
            "\n",
            "Epoch 00029: val_acc did not improve from 0.00000\n",
            "Epoch 30/1000\n",
            "321/321 [==============================] - 2s 5ms/step - loss: 0.0044 - acc: 0.0122 - val_loss: 0.0049 - val_acc: 0.0000e+00\n",
            "\n",
            "Epoch 00030: val_acc did not improve from 0.00000\n",
            "Epoch 31/1000\n",
            "321/321 [==============================] - 2s 5ms/step - loss: 0.0048 - acc: 0.0029 - val_loss: 0.0072 - val_acc: 0.0000e+00\n",
            "\n",
            "Epoch 00031: val_acc did not improve from 0.00000\n",
            "Epoch 32/1000\n",
            "321/321 [==============================] - 2s 5ms/step - loss: 0.0051 - acc: 0.0182 - val_loss: 0.0063 - val_acc: 0.0000e+00\n",
            "\n",
            "Epoch 00032: val_acc did not improve from 0.00000\n",
            "Epoch 33/1000\n",
            "321/321 [==============================] - 2s 5ms/step - loss: 0.0069 - acc: 0.0046 - val_loss: 0.0104 - val_acc: 0.0000e+00\n",
            "\n",
            "Epoch 00033: val_acc did not improve from 0.00000\n",
            "Epoch 34/1000\n",
            "321/321 [==============================] - 2s 5ms/step - loss: 0.0047 - acc: 0.0028 - val_loss: 0.0069 - val_acc: 0.0000e+00\n",
            "\n",
            "Epoch 00034: val_acc did not improve from 0.00000\n",
            "Epoch 35/1000\n",
            "321/321 [==============================] - 2s 5ms/step - loss: 0.0064 - acc: 0.0060 - val_loss: 0.0062 - val_acc: 0.0000e+00\n",
            "\n",
            "Epoch 00035: val_acc did not improve from 0.00000\n",
            "Epoch 36/1000\n",
            "321/321 [==============================] - 2s 5ms/step - loss: 0.0048 - acc: 0.0092 - val_loss: 0.0071 - val_acc: 0.0000e+00\n",
            "\n",
            "Epoch 00036: val_acc did not improve from 0.00000\n",
            "Epoch 37/1000\n",
            "321/321 [==============================] - 2s 5ms/step - loss: 0.0050 - acc: 0.0019 - val_loss: 0.0081 - val_acc: 0.0000e+00\n",
            "\n",
            "Epoch 00037: val_acc did not improve from 0.00000\n",
            "Epoch 38/1000\n",
            "321/321 [==============================] - 2s 5ms/step - loss: 0.0049 - acc: 0.0111 - val_loss: 0.0070 - val_acc: 0.0000e+00\n",
            "\n",
            "Epoch 00038: val_acc did not improve from 0.00000\n",
            "Epoch 39/1000\n",
            "321/321 [==============================] - 2s 5ms/step - loss: 0.0057 - acc: 0.0177 - val_loss: 0.0053 - val_acc: 0.0000e+00\n",
            "\n",
            "Epoch 00039: val_acc did not improve from 0.00000\n",
            "Epoch 40/1000\n",
            "321/321 [==============================] - 2s 5ms/step - loss: 0.0044 - acc: 0.0048 - val_loss: 0.0060 - val_acc: 0.0000e+00\n",
            "\n",
            "Epoch 00040: val_acc did not improve from 0.00000\n",
            "Epoch 00040: early stopping\n"
          ],
          "name": "stdout"
        }
      ]
    },
    {
      "cell_type": "code",
      "metadata": {
        "colab": {
          "base_uri": "https://localhost:8080/",
          "height": 537
        },
        "id": "2HbH7yeK_mU0",
        "outputId": "2ff28557-07ec-46b1-9c46-0f68678e2c13"
      },
      "source": [
        "import matplotlib.pyplot as plt\n",
        "\n",
        "# loading weight\n",
        "model.load_weights('check.h5')\n",
        "\n",
        "# prediction\n",
        "pred_all = model.predict(test_feature_all)\n",
        "\n",
        "inverse_test_label_all = scaler_test.inverse_transform(test_label_all)\n",
        "inverse_test_label_all = pd.DataFrame(inverse_test_label_all)\n",
        "\n",
        "inverse_pred_all = scaler_test.inverse_transform(pred_all)\n",
        "inverse_pred_all = pd.DataFrame(inverse_pred_all)\n",
        "\n",
        "plt.figure(figsize = (27, 9))\n",
        "plt.plot(inverse_test_label_all, label = 'actual')\n",
        "plt.plot(inverse_pred_all, label = 'prediction')\n",
        "plt.legend()\n",
        "plt.show()"
      ],
      "execution_count": null,
      "outputs": [
        {
          "output_type": "display_data",
          "data": {
            "image/png": "[encoded data removed]",
            "text/plain": [
              "<Figure size 1944x648 with 1 Axes>"
            ]
          },
          "metadata": {
            "tags": [],
            "needs_background": "light"
          }
        }
      ]
    },
    {
      "cell_type": "code",
      "metadata": {
        "colab": {
          "base_uri": "https://localhost:8080/",
          "height": 537
        },
        "id": "euIqoGt5PE36",
        "outputId": "1e0eda18-b9ab-4c91-96e0-717cec3d6b41"
      },
      "source": [
        "plt.figure(figsize = (33, 9))\n",
        "plt.plot(inverse_test_label_all[len(inverse_test_label_all) - 7:], label = 'actual')\n",
        "plt.plot(inverse_pred_all[len(inverse_pred_all) - 7:], label = 'prediction')\n",
        "plt.legend()\n",
        "plt.show()"
      ],
      "execution_count": null,
      "outputs": [
        {
          "output_type": "display_data",
          "data": {
            "image/png": "[encoded data removed]",
            "text/plain": [
              "<Figure size 2376x648 with 1 Axes>"
            ]
          },
          "metadata": {
            "tags": [],
            "needs_background": "light"
          }
        }
      ]
    },
    {
      "cell_type": "markdown",
      "metadata": {
        "id": "tbe7qfY7rKEr"
      },
      "source": [
        "# 도별 데이터를 하나씩 분리해서 3차원 배열 구성\n",
        "# 감염자 요소 하나만으로 학습할 시 데이터 양: 약 3200개(1*400*8)\n",
        "# 여러가지 요소로 학습할 시 데이터 양: 16000개(5*400*8)\n",
        "# 데이터 부족으로 인한 낮은 적중률 해결"
      ]
    },
    {
      "cell_type": "code",
      "metadata": {
        "id": "kzON5pnXDveB"
      },
      "source": [
        "data_all_origin = pd.read_csv(cp + '/all/covid19_20210524_all.csv')\n",
        "data_part_origin = pd.read_csv(cp + '/part/covid19_20210524_part.csv')\n",
        "\n",
        "data_all = data_all_origin.drop(['Unnamed: 0'], axis = 1)\n",
        "data_part = data_part_origin.drop(['Unnamed: 0'], axis = 1)"
      ],
      "execution_count": 203,
      "outputs": []
    },
    {
      "cell_type": "code",
      "metadata": {
        "colab": {
          "base_uri": "https://localhost:8080/"
        },
        "id": "3RqdpyDxApBK",
        "outputId": "6043dd26-c8b7-42f8-dc2b-ad04d904e80f"
      },
      "source": [
        "data_part.isnull().sum()"
      ],
      "execution_count": 204,
      "outputs": [
        {
          "output_type": "execute_result",
          "data": {
            "text/plain": [
              "createDt           0\n",
              "deathCnt           0\n",
              "defCnt            19\n",
              "gubun              0\n",
              "gubunCn          293\n",
              "gubunEn          292\n",
              "incDec             0\n",
              "isolClearCnt     109\n",
              "isolIngCnt       691\n",
              "localOccCnt      691\n",
              "overFlowCnt      691\n",
              "qurRate           19\n",
              "seq                0\n",
              "stdDay             0\n",
              "updateDt        8237\n",
              "dtype: int64"
            ]
          },
          "metadata": {
            "tags": []
          },
          "execution_count": 204
        }
      ]
    },
    {
      "cell_type": "code",
      "metadata": {
        "colab": {
          "base_uri": "https://localhost:8080/"
        },
        "id": "9GihpyxKBNtA",
        "outputId": "fec9831e-8bf3-4779-a2cb-f6a989407e79"
      },
      "source": [
        "data_part = data_part.drop(['updateDt', 'createDt', 'gubunCn', 'deathCnt',\n",
        "                            'seq','incDec', 'qurRate', 'overFlowCnt', 'localOccCnt'], axis = 1)\n",
        "data_part = data_part.dropna(axis = 0)\n",
        "\n",
        "data_part.isnull().sum()"
      ],
      "execution_count": 205,
      "outputs": [
        {
          "output_type": "execute_result",
          "data": {
            "text/plain": [
              "defCnt          0\n",
              "gubun           0\n",
              "gubunEn         0\n",
              "isolClearCnt    0\n",
              "isolIngCnt      0\n",
              "stdDay          0\n",
              "dtype: int64"
            ]
          },
          "metadata": {
            "tags": []
          },
          "execution_count": 205
        }
      ]
    },
    {
      "cell_type": "code",
      "metadata": {
        "id": "enmh1sF3B-hQ"
      },
      "source": [
        "GSND = data_part.loc[(data_part['gubunEn'] == 'Gyeongsangnam-do')].reset_index(drop = True)\n",
        "GSBD = data_part.loc[(data_part['gubunEn'] == 'Gyeongsangbuk-do')].reset_index(drop = True)\n",
        "JLND = data_part.loc[(data_part['gubunEn'] == 'Jeollanam-do')].reset_index(drop = True)\n",
        "JLBD = data_part.loc[(data_part['gubunEn'] == 'Jeollabuk-do')].reset_index(drop = True)\n",
        "CCND = data_part.loc[(data_part['gubunEn'] == 'Chungcheongnam-do')].reset_index(drop = True)\n",
        "CCBD = data_part.loc[(data_part['gubunEn'] == 'Chungcheongbuk-do')].reset_index(drop = True)\n",
        "Gangwon = data_part.loc[(data_part['gubunEn'] == 'Gangwon-do')].reset_index(drop = True)\n",
        "Gyeonggi = data_part.loc[(data_part['gubunEn'] == 'Gyeonggi-do')].reset_index(drop = True)\n",
        "Incheon = data_part.loc[(data_part['gubunEn'] == 'Incheon')].reset_index(drop = True)\n",
        "Daegu = data_part.loc[(data_part['gubunEn'] == 'Daegu')].reset_index(drop = True)\n",
        "Busan = data_part.loc[(data_part['gubunEn'] == 'Busan')].reset_index(drop = True)\n",
        "Seoul = data_part.loc[(data_part['gubunEn'] == 'Seoul')].reset_index(drop = True)"
      ],
      "execution_count": 206,
      "outputs": []
    },
    {
      "cell_type": "code",
      "metadata": {
        "id": "Fg-0ZWSJOKlV"
      },
      "source": [
        "# 데이터셋을 합치기 위해 shape맞추기\n",
        "# shape가 다른 데이터셋 목록\n",
        "# JLBD, CCND, CCBD\n",
        "GSND = GSND.drop([0], axis = 0).reset_index(drop = True)\n",
        "GSBD = GSBD.drop([0], axis = 0).reset_index(drop = True)\n",
        "JLND = JLND.drop([0], axis = 0).reset_index(drop = True)\n",
        "JLBD = JLBD.drop([0], axis = 0).reset_index(drop = True)\n",
        "Gangwon = Gangwon.drop([0], axis = 0).reset_index(drop = True)\n",
        "Gyeonggi = Gyeonggi.drop([0], axis = 0).reset_index(drop = True)\n",
        "Incheon = Incheon.drop([0], axis = 0).reset_index(drop = True)\n",
        "Daegu = Daegu.drop([0], axis = 0).reset_index(drop = True)\n",
        "Busan = Busan.drop([0], axis = 0).reset_index(drop = True)\n",
        "Seoul = Seoul.drop([0], axis = 0).reset_index(drop = True)"
      ],
      "execution_count": 207,
      "outputs": []
    },
    {
      "cell_type": "code",
      "metadata": {
        "id": "wzGq1DSbO0q_"
      },
      "source": [
        "infector_GSND = []\n",
        "infector_GSND.append(0)\n",
        "infector_GSBD = []\n",
        "infector_GSBD.append(0)\n",
        "infector_JLND = []\n",
        "infector_JLND.append(0)\n",
        "infector_JLBD = []\n",
        "infector_JLBD.append(0)\n",
        "infector_Gangwon = []\n",
        "infector_Gangwon.append(0)\n",
        "infector_Gyeonggi = []\n",
        "infector_Gyeonggi.append(0)\n",
        "infector_Incheon = []\n",
        "infector_Incheon.append(0)\n",
        "infector_Daegu = []\n",
        "infector_Daegu.append(0)\n",
        "infector_Busan = []\n",
        "infector_Busan.append(0)\n",
        "infector_Seoul = []\n",
        "infector_Seoul.append(0)\n",
        "\n",
        "for i in range(len(GSND) - 1):\n",
        "    infector_GSND.append(GSND['defCnt'][i + 1] - GSND['defCnt'][i])\n",
        "for i in range(len(GSBD) - 1):\n",
        "    infector_GSBD.append(GSBD['defCnt'][i + 1] - GSBD['defCnt'][i])\n",
        "for i in range(len(JLND) - 1):\n",
        "    infector_JLND.append(JLND['defCnt'][i + 1] - JLND['defCnt'][i])\n",
        "for i in range(len(JLBD) - 1):\n",
        "    infector_JLBD.append(JLBD['defCnt'][i + 1] - JLBD['defCnt'][i])\n",
        "for i in range(len(Gangwon) - 1):\n",
        "    infector_Gangwon.append(Gangwon['defCnt'][i + 1] - Gangwon['defCnt'][i])\n",
        "for i in range(len(Gyeonggi) - 1):\n",
        "    infector_Gyeonggi.append(Gyeonggi['defCnt'][i + 1] - Gyeonggi['defCnt'][i])\n",
        "for i in range(len(Incheon) - 1):\n",
        "    infector_Incheon.append(Incheon['defCnt'][i + 1] - Incheon['defCnt'][i])\n",
        "for i in range(len(Daegu) - 1):\n",
        "    infector_Daegu.append(Daegu['defCnt'][i + 1] - Daegu['defCnt'][i])\n",
        "for i in range(len(Busan) - 1):\n",
        "    infector_Busan.append(Busan['defCnt'][i + 1] - Busan['defCnt'][i])\n",
        "for i in range(len(Seoul) - 1):\n",
        "    infector_Seoul.append(Seoul['defCnt'][i + 1] - Seoul['defCnt'][i])\n",
        "\n",
        "infector_GSND = np.array(infector_GSND)\n",
        "infector_GSND = pd.DataFrame(infector_GSND)\n",
        "infector_GSND.columns = ['infector']\n",
        "infector_GSBD = np.array(infector_GSBD)\n",
        "infector_GSBD = pd.DataFrame(infector_GSBD)\n",
        "infector_GSBD.columns = ['infector']\n",
        "infector_JLND = np.array(infector_JLND)\n",
        "infector_JLND = pd.DataFrame(infector_JLND)\n",
        "infector_JLND.columns = ['infector']\n",
        "infector_JLBD = np.array(infector_JLBD)\n",
        "infector_JLBD = pd.DataFrame(infector_JLBD)\n",
        "infector_JLBD.columns = ['infector']\n",
        "infector_Gangwon = np.array(infector_Gangwon)\n",
        "infector_Gangwon = pd.DataFrame(infector_Gangwon)\n",
        "infector_Gangwon.columns = ['infector']\n",
        "infector_Gyeonggi = np.array(infector_Gyeonggi)\n",
        "infector_Gyeonggi = pd.DataFrame(infector_Gyeonggi)\n",
        "infector_Gyeonggi.columns = ['infector']\n",
        "infector_Incheon = np.array(infector_Incheon)\n",
        "infector_Incheon = pd.DataFrame(infector_Incheon)\n",
        "infector_Incheon.columns = ['infector']\n",
        "infector_Daegu = np.array(infector_Daegu)\n",
        "infector_Daegu = pd.DataFrame(infector_Daegu)\n",
        "infector_Daegu.columns = ['infector']\n",
        "infector_Busan = np.array(infector_Busan)\n",
        "infector_Busan = pd.DataFrame(infector_Busan)\n",
        "infector_Busan.columns = ['infector']\n",
        "infector_Seoul = np.array(infector_Seoul)\n",
        "infector_Seoul = pd.DataFrame(infector_Seoul)\n",
        "infector_Seoul.columns = ['infector']\n",
        "\n",
        "GSND = GSND.assign(infector = infector_GSND)\n",
        "GSBD = GSBD.assign(infector = infector_GSBD)\n",
        "JLND = JLND.assign(infector = infector_JLND)\n",
        "JLBD = JLBD.assign(infector = infector_JLBD)\n",
        "Gangwon = Gangwon.assign(infector = infector_Gangwon)\n",
        "Gyeonggi = Gyeonggi.assign(infector = infector_Gyeonggi)\n",
        "Incheon = Incheon.assign(infector = infector_Incheon)\n",
        "Daegu = Daegu.assign(infector = infector_Daegu)\n",
        "Busan = Busan.assign(infector = infector_Busan)\n",
        "Seoul = Seoul.assign(infector = infector_Seoul)"
      ],
      "execution_count": 208,
      "outputs": []
    },
    {
      "cell_type": "code",
      "metadata": {
        "colab": {
          "base_uri": "https://localhost:8080/"
        },
        "id": "hvwHiclYHTNc",
        "outputId": "79efd1a1-b592-43b7-8bf8-b5178ab5cdeb"
      },
      "source": [
        "data_part_stack = np.stack((GSND, GSBD, JLND, JLBD, Gangwon, Gyeonggi, Incheon, Daegu, Busan, Seoul))\n",
        "data_part_stack.shape"
      ],
      "execution_count": 221,
      "outputs": [
        {
          "output_type": "execute_result",
          "data": {
            "text/plain": [
              "(10, 411, 7)"
            ]
          },
          "metadata": {
            "tags": []
          },
          "execution_count": 221
        }
      ]
    },
    {
      "cell_type": "code",
      "metadata": {
        "id": "HI607JEDXWWz"
      },
      "source": [
        ""
      ],
      "execution_count": null,
      "outputs": []
    }
  ]
}