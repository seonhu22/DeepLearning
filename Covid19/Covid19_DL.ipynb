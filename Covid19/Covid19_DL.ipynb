{
 "nbformat": 4,
 "nbformat_minor": 0,
 "metadata": {
  "colab": {
   "name": "Covid19_DL.ipynb",
   "provenance": [],
   "collapsed_sections": []
  },
  "kernelspec": {
   "display_name": "Python 3",
   "name": "python3"
  },
  "language_info": {
   "name": "python"
  }
 },
 "cells": [
  {
   "cell_type": "code",
   "metadata": {
    "colab": {
     "base_uri": "https://localhost:8080/"
    },
    "id": "OETRTIdxk0Qd",
    "outputId": "426afa9a-4bb2-4faa-c37f-34a18a47f709"
   },
   "source": [
    "from google.colab import drive\n",
    "drive.mount('/content/gdrive')"
   ],
   "execution_count": 1,
   "outputs": [
    {
     "output_type": "stream",
     "text": [
      "Mounted at /content/gdrive\n"
     ],
     "name": "stdout"
    }
   ]
  },
  {
   "cell_type": "code",
   "metadata": {
    "colab": {
     "base_uri": "https://localhost:8080/"
    },
    "id": "ZAt67kgklPbf",
    "outputId": "e0bb1bf3-5a7d-4cc4-b7e9-aa362b4c7fcc"
   },
   "source": [
    "!ls /content/gdrive/MyDrive/DeepLearning/Covid19/dataset\n",
    "cp = '/content/gdrive/MyDrive/DeepLearning/Covid19/dataset'"
   ],
   "execution_count": 2,
   "outputs": [
    {
     "output_type": "stream",
     "text": [
      "all  part\n"
     ],
     "name": "stdout"
    }
   ]
  },
  {
   "cell_type": "code",
   "metadata": {
    "id": "PlbEvcqh2X84"
   },
   "source": [
    "import pandas as pd\n",
    "import numpy as np"
   ],
   "execution_count": 3,
   "outputs": []
  },
  {
   "cell_type": "code",
   "metadata": {
    "id": "elX3vPXb1F9C"
   },
   "source": [
    "data_all_origin = pd.read_csv(cp + '/all/covid19_20210531_all.csv')\n",
    "data_part_origin = pd.read_csv(cp + '/part/covid19_20210531_part.csv')"
   ],
   "execution_count": 4,
   "outputs": []
  },
  {
   "cell_type": "code",
   "metadata": {
    "id": "0-eS2s3f6GJv"
   },
   "source": [
    "data_all = data_all_origin.drop(['Unnamed: 0'], axis = 1)\n",
    "data_part = data_part_origin.drop(['Unnamed: 0'], axis = 1)"
   ],
   "execution_count": 5,
   "outputs": []
  },
  {
   "cell_type": "markdown",
   "metadata": {
    "id": "jql1GPwOq8jG"
   },
   "source": [
    "# 전국 데이터만으로 예측\n",
    "# 데이터 갯수가 매우 적음"
   ]
  },
  {
   "cell_type": "code",
   "metadata": {
    "colab": {
     "base_uri": "https://localhost:8080/",
     "height": 402
    },
    "id": "LsGrK6wh218v",
    "outputId": "7879b35e-e180-468c-eba3-e50794abff95"
   },
   "source": [
    "data_all\n",
    "\n",
    "#   속성 설명(all)\n",
    "#   DECIDE_CNT          누적 확진자수\n",
    "#   CLEAR_CNT           누적 격리해제 수\n",
    "#   EXAM_CNT            검사진행 수\n",
    "#   DEATH_CNT           누적 사망자 수\n",
    "#   CARE_CNT            치료중 환자 수\n",
    "#   RESULT_NEG_CNT      결과 음성 수\n",
    "#   ACC_EXAM_CNT        누적 검사 수\n",
    "#   ACC_EXAM_COMP_CNT   누적 검사 완료 수\n",
    "#   ACC_DEF_RATE        누적 확진률\n",
    "#   CREATE_DT           등록일시분초\n",
    "#   UPDATE_DT           수정일시분"
   ],
   "execution_count": 6,
   "outputs": [
    {
     "output_type": "execute_result",
     "data": {
      "text/html": [
       "<div>\n",
       "<style scoped>\n",
       "    .dataframe tbody tr th:only-of-type {\n",
       "        vertical-align: middle;\n",
       "    }\n",
       "\n",
       "    .dataframe tbody tr th {\n",
       "        vertical-align: top;\n",
       "    }\n",
       "\n",
       "    .dataframe thead th {\n",
       "        text-align: right;\n",
       "    }\n",
       "</style>\n",
       "<table border=\"1\" class=\"dataframe\">\n",
       "  <thead>\n",
       "    <tr style=\"text-align: right;\">\n",
       "      <th></th>\n",
       "      <th>accDefRate</th>\n",
       "      <th>accExamCnt</th>\n",
       "      <th>accExamCompCnt</th>\n",
       "      <th>careCnt</th>\n",
       "      <th>clearCnt</th>\n",
       "      <th>createDt</th>\n",
       "      <th>deathCnt</th>\n",
       "      <th>decideCnt</th>\n",
       "      <th>examCnt</th>\n",
       "      <th>resutlNegCnt</th>\n",
       "      <th>seq</th>\n",
       "      <th>stateDt</th>\n",
       "      <th>stateTime</th>\n",
       "      <th>updateDt</th>\n",
       "    </tr>\n",
       "  </thead>\n",
       "  <tbody>\n",
       "    <tr>\n",
       "      <th>0</th>\n",
       "      <td>NaN</td>\n",
       "      <td>NaN</td>\n",
       "      <td>NaN</td>\n",
       "      <td>NaN</td>\n",
       "      <td>1</td>\n",
       "      <td>47:33.3</td>\n",
       "      <td>0</td>\n",
       "      <td>0</td>\n",
       "      <td>1</td>\n",
       "      <td>NaN</td>\n",
       "      <td>1</td>\n",
       "      <td>20200101</td>\n",
       "      <td>18:00</td>\n",
       "      <td>21:56.6</td>\n",
       "    </tr>\n",
       "    <tr>\n",
       "      <th>1</th>\n",
       "      <td>NaN</td>\n",
       "      <td>NaN</td>\n",
       "      <td>NaN</td>\n",
       "      <td>NaN</td>\n",
       "      <td>1</td>\n",
       "      <td>47:33.3</td>\n",
       "      <td>0</td>\n",
       "      <td>0</td>\n",
       "      <td>1</td>\n",
       "      <td>NaN</td>\n",
       "      <td>1</td>\n",
       "      <td>20200201</td>\n",
       "      <td>18:00</td>\n",
       "      <td>47:33.3</td>\n",
       "    </tr>\n",
       "    <tr>\n",
       "      <th>2</th>\n",
       "      <td>NaN</td>\n",
       "      <td>NaN</td>\n",
       "      <td>NaN</td>\n",
       "      <td>NaN</td>\n",
       "      <td>2</td>\n",
       "      <td>22:49.5</td>\n",
       "      <td>2</td>\n",
       "      <td>2</td>\n",
       "      <td>2</td>\n",
       "      <td>NaN</td>\n",
       "      <td>2</td>\n",
       "      <td>20200202</td>\n",
       "      <td>9:00</td>\n",
       "      <td>22:49.5</td>\n",
       "    </tr>\n",
       "    <tr>\n",
       "      <th>3</th>\n",
       "      <td>NaN</td>\n",
       "      <td>NaN</td>\n",
       "      <td>NaN</td>\n",
       "      <td>NaN</td>\n",
       "      <td>0</td>\n",
       "      <td>41:17.2</td>\n",
       "      <td>0</td>\n",
       "      <td>15</td>\n",
       "      <td>0</td>\n",
       "      <td>NaN</td>\n",
       "      <td>3</td>\n",
       "      <td>20200203</td>\n",
       "      <td>9:00</td>\n",
       "      <td>41:17.2</td>\n",
       "    </tr>\n",
       "    <tr>\n",
       "      <th>4</th>\n",
       "      <td>NaN</td>\n",
       "      <td>NaN</td>\n",
       "      <td>NaN</td>\n",
       "      <td>NaN</td>\n",
       "      <td>0</td>\n",
       "      <td>26:59.6</td>\n",
       "      <td>0</td>\n",
       "      <td>0</td>\n",
       "      <td>0</td>\n",
       "      <td>NaN</td>\n",
       "      <td>4</td>\n",
       "      <td>20200204</td>\n",
       "      <td>0:00</td>\n",
       "      <td>26:59.6</td>\n",
       "    </tr>\n",
       "    <tr>\n",
       "      <th>...</th>\n",
       "      <td>...</td>\n",
       "      <td>...</td>\n",
       "      <td>...</td>\n",
       "      <td>...</td>\n",
       "      <td>...</td>\n",
       "      <td>...</td>\n",
       "      <td>...</td>\n",
       "      <td>...</td>\n",
       "      <td>...</td>\n",
       "      <td>...</td>\n",
       "      <td>...</td>\n",
       "      <td>...</td>\n",
       "      <td>...</td>\n",
       "      <td>...</td>\n",
       "    </tr>\n",
       "    <tr>\n",
       "      <th>482</th>\n",
       "      <td>1.449340</td>\n",
       "      <td>9665693.0</td>\n",
       "      <td>9543034.0</td>\n",
       "      <td>8188.0</td>\n",
       "      <td>128180</td>\n",
       "      <td>2021-05-27 09:39:43.099</td>\n",
       "      <td>1943</td>\n",
       "      <td>138311</td>\n",
       "      <td>122659</td>\n",
       "      <td>9404723.0</td>\n",
       "      <td>524</td>\n",
       "      <td>20210527</td>\n",
       "      <td>00:00</td>\n",
       "      <td>NaN</td>\n",
       "    </tr>\n",
       "    <tr>\n",
       "      <th>483</th>\n",
       "      <td>1.449938</td>\n",
       "      <td>9702456.0</td>\n",
       "      <td>9579584.0</td>\n",
       "      <td>8193.0</td>\n",
       "      <td>128759</td>\n",
       "      <td>2021-05-28 09:34:29.553</td>\n",
       "      <td>1946</td>\n",
       "      <td>138898</td>\n",
       "      <td>122872</td>\n",
       "      <td>9440686.0</td>\n",
       "      <td>525</td>\n",
       "      <td>20210528</td>\n",
       "      <td>00:00</td>\n",
       "      <td>2021-05-29 09:47:35.466</td>\n",
       "    </tr>\n",
       "    <tr>\n",
       "      <th>484</th>\n",
       "      <td>1.450925</td>\n",
       "      <td>9733591.0</td>\n",
       "      <td>9609801.0</td>\n",
       "      <td>7741.0</td>\n",
       "      <td>129739</td>\n",
       "      <td>2021-05-29 09:45:26.765</td>\n",
       "      <td>1951</td>\n",
       "      <td>139431</td>\n",
       "      <td>123790</td>\n",
       "      <td>9470370.0</td>\n",
       "      <td>526</td>\n",
       "      <td>20210529</td>\n",
       "      <td>00:00</td>\n",
       "      <td>NaN</td>\n",
       "    </tr>\n",
       "    <tr>\n",
       "      <th>485</th>\n",
       "      <td>1.454196</td>\n",
       "      <td>9747614.0</td>\n",
       "      <td>9621121.0</td>\n",
       "      <td>7572.0</td>\n",
       "      <td>130381</td>\n",
       "      <td>2021-05-30 09:24:39.384</td>\n",
       "      <td>1957</td>\n",
       "      <td>139910</td>\n",
       "      <td>126493</td>\n",
       "      <td>9481211.0</td>\n",
       "      <td>527</td>\n",
       "      <td>20210530</td>\n",
       "      <td>00:00</td>\n",
       "      <td>NaN</td>\n",
       "    </tr>\n",
       "    <tr>\n",
       "      <th>486</th>\n",
       "      <td>1.456836</td>\n",
       "      <td>9761158.0</td>\n",
       "      <td>9633205.0</td>\n",
       "      <td>7558.0</td>\n",
       "      <td>130823</td>\n",
       "      <td>2021-05-31 09:34:29.254</td>\n",
       "      <td>1959</td>\n",
       "      <td>140340</td>\n",
       "      <td>127953</td>\n",
       "      <td>9492865.0</td>\n",
       "      <td>528</td>\n",
       "      <td>20210531</td>\n",
       "      <td>00:00</td>\n",
       "      <td>NaN</td>\n",
       "    </tr>\n",
       "  </tbody>\n",
       "</table>\n",
       "<p>487 rows × 14 columns</p>\n",
       "</div>"
      ],
      "text/plain": [
       "     accDefRate  accExamCnt  ...  stateTime                 updateDt\n",
       "0           NaN         NaN  ...      18:00                  21:56.6\n",
       "1           NaN         NaN  ...      18:00                  47:33.3\n",
       "2           NaN         NaN  ...       9:00                  22:49.5\n",
       "3           NaN         NaN  ...       9:00                  41:17.2\n",
       "4           NaN         NaN  ...       0:00                  26:59.6\n",
       "..          ...         ...  ...        ...                      ...\n",
       "482    1.449340   9665693.0  ...      00:00                      NaN\n",
       "483    1.449938   9702456.0  ...      00:00  2021-05-29 09:47:35.466\n",
       "484    1.450925   9733591.0  ...      00:00                      NaN\n",
       "485    1.454196   9747614.0  ...      00:00                      NaN\n",
       "486    1.456836   9761158.0  ...      00:00                      NaN\n",
       "\n",
       "[487 rows x 14 columns]"
      ]
     },
     "metadata": {
      "tags": []
     },
     "execution_count": 6
    }
   ]
  },
  {
   "cell_type": "code",
   "metadata": {
    "colab": {
     "base_uri": "https://localhost:8080/",
     "height": 402
    },
    "id": "t12iZXaB5EBO",
    "outputId": "5c1d84bd-8c1e-4aaf-eff9-ff2fb81a59ee"
   },
   "source": [
    "data_all = data_all.drop(['createDt', 'updateDt', 'seq', 'stateTime'], axis = 1)\n",
    "\n",
    "infector = []\n",
    "clear = []\n",
    "infector.append(0)\n",
    "clear.append(0)\n",
    "\n",
    "for i in range(len(data_all) - 1):\n",
    "    infector.append(data_all['decideCnt'][i + 1] - data_all['decideCnt'][i])\n",
    "    clear.append(data_all['clearCnt'][i + 1] - data_all['clearCnt'][i])\n",
    "\n",
    "infector = np.array(infector)\n",
    "clear = np.array(clear)\n",
    "infector = pd.DataFrame(infector)\n",
    "clear = pd.DataFrame(clear)\n",
    "infector.columns = ['infector']\n",
    "clear.columns = ['clear']\n",
    "\n",
    "data_all = data_all.assign(infector = infector)\n",
    "data_all = data_all.assign(clear = clear)\n",
    "data_all = data_all.dropna()\n",
    "data_all = data_all.reset_index(drop = True)\n",
    "\n",
    "data_all"
   ],
   "execution_count": 7,
   "outputs": [
    {
     "output_type": "execute_result",
     "data": {
      "text/html": [
       "<div>\n",
       "<style scoped>\n",
       "    .dataframe tbody tr th:only-of-type {\n",
       "        vertical-align: middle;\n",
       "    }\n",
       "\n",
       "    .dataframe tbody tr th {\n",
       "        vertical-align: top;\n",
       "    }\n",
       "\n",
       "    .dataframe thead th {\n",
       "        text-align: right;\n",
       "    }\n",
       "</style>\n",
       "<table border=\"1\" class=\"dataframe\">\n",
       "  <thead>\n",
       "    <tr style=\"text-align: right;\">\n",
       "      <th></th>\n",
       "      <th>accDefRate</th>\n",
       "      <th>accExamCnt</th>\n",
       "      <th>accExamCompCnt</th>\n",
       "      <th>careCnt</th>\n",
       "      <th>clearCnt</th>\n",
       "      <th>deathCnt</th>\n",
       "      <th>decideCnt</th>\n",
       "      <th>examCnt</th>\n",
       "      <th>resutlNegCnt</th>\n",
       "      <th>stateDt</th>\n",
       "      <th>infector</th>\n",
       "      <th>clear</th>\n",
       "    </tr>\n",
       "  </thead>\n",
       "  <tbody>\n",
       "    <tr>\n",
       "      <th>0</th>\n",
       "      <td>5.329140</td>\n",
       "      <td>125851.0</td>\n",
       "      <td>90296.0</td>\n",
       "      <td>4159.0</td>\n",
       "      <td>34</td>\n",
       "      <td>28</td>\n",
       "      <td>4812</td>\n",
       "      <td>35555</td>\n",
       "      <td>85484.0</td>\n",
       "      <td>20200303</td>\n",
       "      <td>600</td>\n",
       "      <td>3</td>\n",
       "    </tr>\n",
       "    <tr>\n",
       "      <th>1</th>\n",
       "      <td>4.919986</td>\n",
       "      <td>136707.0</td>\n",
       "      <td>108293.0</td>\n",
       "      <td>4750.0</td>\n",
       "      <td>41</td>\n",
       "      <td>32</td>\n",
       "      <td>5328</td>\n",
       "      <td>28414</td>\n",
       "      <td>102965.0</td>\n",
       "      <td>20200304</td>\n",
       "      <td>516</td>\n",
       "      <td>7</td>\n",
       "    </tr>\n",
       "    <tr>\n",
       "      <th>2</th>\n",
       "      <td>4.622748</td>\n",
       "      <td>146541.0</td>\n",
       "      <td>124731.0</td>\n",
       "      <td>5255.0</td>\n",
       "      <td>88</td>\n",
       "      <td>35</td>\n",
       "      <td>5766</td>\n",
       "      <td>21810</td>\n",
       "      <td>118965.0</td>\n",
       "      <td>20200305</td>\n",
       "      <td>438</td>\n",
       "      <td>47</td>\n",
       "    </tr>\n",
       "    <tr>\n",
       "      <th>3</th>\n",
       "      <td>4.397235</td>\n",
       "      <td>164740.0</td>\n",
       "      <td>142908.0</td>\n",
       "      <td>5643.0</td>\n",
       "      <td>108</td>\n",
       "      <td>42</td>\n",
       "      <td>6284</td>\n",
       "      <td>21832</td>\n",
       "      <td>136624.0</td>\n",
       "      <td>20200306</td>\n",
       "      <td>518</td>\n",
       "      <td>20</td>\n",
       "    </tr>\n",
       "    <tr>\n",
       "      <th>4</th>\n",
       "      <td>4.267543</td>\n",
       "      <td>178189.0</td>\n",
       "      <td>158569.0</td>\n",
       "      <td>6134.0</td>\n",
       "      <td>118</td>\n",
       "      <td>44</td>\n",
       "      <td>6767</td>\n",
       "      <td>19620</td>\n",
       "      <td>151802.0</td>\n",
       "      <td>20200307</td>\n",
       "      <td>483</td>\n",
       "      <td>10</td>\n",
       "    </tr>\n",
       "    <tr>\n",
       "      <th>...</th>\n",
       "      <td>...</td>\n",
       "      <td>...</td>\n",
       "      <td>...</td>\n",
       "      <td>...</td>\n",
       "      <td>...</td>\n",
       "      <td>...</td>\n",
       "      <td>...</td>\n",
       "      <td>...</td>\n",
       "      <td>...</td>\n",
       "      <td>...</td>\n",
       "      <td>...</td>\n",
       "      <td>...</td>\n",
       "    </tr>\n",
       "    <tr>\n",
       "      <th>450</th>\n",
       "      <td>1.449340</td>\n",
       "      <td>9665693.0</td>\n",
       "      <td>9543034.0</td>\n",
       "      <td>8188.0</td>\n",
       "      <td>128180</td>\n",
       "      <td>1943</td>\n",
       "      <td>138311</td>\n",
       "      <td>122659</td>\n",
       "      <td>9404723.0</td>\n",
       "      <td>20210527</td>\n",
       "      <td>637</td>\n",
       "      <td>606</td>\n",
       "    </tr>\n",
       "    <tr>\n",
       "      <th>451</th>\n",
       "      <td>1.449938</td>\n",
       "      <td>9702456.0</td>\n",
       "      <td>9579584.0</td>\n",
       "      <td>8193.0</td>\n",
       "      <td>128759</td>\n",
       "      <td>1946</td>\n",
       "      <td>138898</td>\n",
       "      <td>122872</td>\n",
       "      <td>9440686.0</td>\n",
       "      <td>20210528</td>\n",
       "      <td>587</td>\n",
       "      <td>579</td>\n",
       "    </tr>\n",
       "    <tr>\n",
       "      <th>452</th>\n",
       "      <td>1.450925</td>\n",
       "      <td>9733591.0</td>\n",
       "      <td>9609801.0</td>\n",
       "      <td>7741.0</td>\n",
       "      <td>129739</td>\n",
       "      <td>1951</td>\n",
       "      <td>139431</td>\n",
       "      <td>123790</td>\n",
       "      <td>9470370.0</td>\n",
       "      <td>20210529</td>\n",
       "      <td>533</td>\n",
       "      <td>980</td>\n",
       "    </tr>\n",
       "    <tr>\n",
       "      <th>453</th>\n",
       "      <td>1.454196</td>\n",
       "      <td>9747614.0</td>\n",
       "      <td>9621121.0</td>\n",
       "      <td>7572.0</td>\n",
       "      <td>130381</td>\n",
       "      <td>1957</td>\n",
       "      <td>139910</td>\n",
       "      <td>126493</td>\n",
       "      <td>9481211.0</td>\n",
       "      <td>20210530</td>\n",
       "      <td>479</td>\n",
       "      <td>642</td>\n",
       "    </tr>\n",
       "    <tr>\n",
       "      <th>454</th>\n",
       "      <td>1.456836</td>\n",
       "      <td>9761158.0</td>\n",
       "      <td>9633205.0</td>\n",
       "      <td>7558.0</td>\n",
       "      <td>130823</td>\n",
       "      <td>1959</td>\n",
       "      <td>140340</td>\n",
       "      <td>127953</td>\n",
       "      <td>9492865.0</td>\n",
       "      <td>20210531</td>\n",
       "      <td>430</td>\n",
       "      <td>442</td>\n",
       "    </tr>\n",
       "  </tbody>\n",
       "</table>\n",
       "<p>455 rows × 12 columns</p>\n",
       "</div>"
      ],
      "text/plain": [
       "     accDefRate  accExamCnt  accExamCompCnt  ...   stateDt  infector  clear\n",
       "0      5.329140    125851.0         90296.0  ...  20200303       600      3\n",
       "1      4.919986    136707.0        108293.0  ...  20200304       516      7\n",
       "2      4.622748    146541.0        124731.0  ...  20200305       438     47\n",
       "3      4.397235    164740.0        142908.0  ...  20200306       518     20\n",
       "4      4.267543    178189.0        158569.0  ...  20200307       483     10\n",
       "..          ...         ...             ...  ...       ...       ...    ...\n",
       "450    1.449340   9665693.0       9543034.0  ...  20210527       637    606\n",
       "451    1.449938   9702456.0       9579584.0  ...  20210528       587    579\n",
       "452    1.450925   9733591.0       9609801.0  ...  20210529       533    980\n",
       "453    1.454196   9747614.0       9621121.0  ...  20210530       479    642\n",
       "454    1.456836   9761158.0       9633205.0  ...  20210531       430    442\n",
       "\n",
       "[455 rows x 12 columns]"
      ]
     },
     "metadata": {
      "tags": []
     },
     "execution_count": 7
    }
   ]
  },
  {
   "cell_type": "code",
   "metadata": {
    "id": "1VMQoCP_MZsL"
   },
   "source": [
    "from sklearn.preprocessing import MinMaxScaler\n",
    "\n",
    "scaler_combine = MinMaxScaler()\n",
    "scaler_train = MinMaxScaler()\n",
    "scaler_test = MinMaxScaler()\n",
    "\n",
    "scale_combine_all = ['careCnt', 'examCnt', 'resutlNegCnt', 'clearCnt', 'infector']\n",
    "scale_train_all = ['careCnt', 'examCnt', 'resutlNegCnt', 'clearCnt']\n",
    "scale_test_all = ['infector']\n",
    "\n",
    "scaled_combine_all = scaler_combine.fit_transform(data_all[scale_combine_all])\n",
    "scaled_train_all = scaler_train.fit_transform(data_all[scale_train_all])\n",
    "scaled_test_all = scaler_test.fit_transform(data_all[scale_test_all])\n",
    "\n",
    "scaled_combine_all = pd.DataFrame(scaled_combine_all)\n",
    "scaled_train_all = pd.DataFrame(scaled_train_all)\n",
    "scaled_test_all = pd.DataFrame(scaled_test_all)\n",
    "\n",
    "scaled_combine_all.columns = scale_combine_all\n",
    "scaled_train_all.columns = scale_train_all\n",
    "scaled_test_all.columns = scale_test_all"
   ],
   "execution_count": 8,
   "outputs": []
  },
  {
   "cell_type": "code",
   "metadata": {
    "id": "UqNXB1Rt8_WE"
   },
   "source": [
    "#train_all = scaled_combine_all[:len(scaled_combine_all) - 30]\n",
    "#test_all = scaled_combine_all[len(scaled_combine_all) - 30:]\n",
    "train_all = scaled_combine_all\n",
    "test_all = scaled_combine_all"
   ],
   "execution_count": 9,
   "outputs": []
  },
  {
   "cell_type": "code",
   "metadata": {
    "id": "x9sFiQjm9NTb"
   },
   "source": [
    "# make dataset\n",
    "# find next 'end' data \n",
    "def make_dataset(data, label, window_size = 10):\n",
    "    feature_list = []\n",
    "    label_list = []\n",
    "    for i in range(len(data) - window_size):\n",
    "        feature_list.append(np.array(data.iloc[i:i + window_size]))\n",
    "        label_list.append(np.array(label.iloc[i + window_size]))\n",
    "    return np.array(feature_list), np.array(label_list)\n",
    "# dataset: (i ~ i + window_size)days feature_list and (i + window_size) label_list\n",
    "# 10개의 데이터에 그 다음날 결과 값이 한 세트"
   ],
   "execution_count": 10,
   "outputs": []
  },
  {
   "cell_type": "code",
   "metadata": {
    "id": "lDN8TVWF9SHJ"
   },
   "source": [
    "train_feature_all = train_all[['careCnt', 'examCnt', 'resutlNegCnt', 'clearCnt']]\n",
    "train_label_all = train_all[['infector']]\n",
    "test_feature_all = test_all[['careCnt', 'examCnt', 'resutlNegCnt', 'clearCnt']]\n",
    "test_label_all = test_all[['infector']]"
   ],
   "execution_count": 11,
   "outputs": []
  },
  {
   "cell_type": "code",
   "metadata": {
    "colab": {
     "base_uri": "https://localhost:8080/"
    },
    "id": "dzKsq7EmFHZH",
    "outputId": "2f4c8238-cfc1-4871-ddc0-419d7c581c24"
   },
   "source": [
    "train_label_all.shape"
   ],
   "execution_count": 12,
   "outputs": [
    {
     "output_type": "execute_result",
     "data": {
      "text/plain": [
       "(455, 1)"
      ]
     },
     "metadata": {
      "tags": []
     },
     "execution_count": 12
    }
   ]
  },
  {
   "cell_type": "code",
   "metadata": {
    "colab": {
     "base_uri": "https://localhost:8080/"
    },
    "id": "2SwHNU5o-IKU",
    "outputId": "08e10edd-df94-4b9d-a7bc-1909bda20aba"
   },
   "source": [
    "# train dataset\n",
    "train_feature_all, train_label_all = make_dataset(train_feature_all, train_label_all, 10)\n",
    "\n",
    "train_feature_all.shape, train_label_all.shape"
   ],
   "execution_count": 13,
   "outputs": [
    {
     "output_type": "execute_result",
     "data": {
      "text/plain": [
       "((445, 10, 4), (445, 1))"
      ]
     },
     "metadata": {
      "tags": []
     },
     "execution_count": 13
    }
   ]
  },
  {
   "cell_type": "code",
   "metadata": {
    "colab": {
     "base_uri": "https://localhost:8080/"
    },
    "id": "VJZ30YPx-hfs",
    "outputId": "ff2e3dca-bcb2-4ac1-b599-fd60ecb0753a"
   },
   "source": [
    "# test dataset\n",
    "test_feature_all, test_label_all = make_dataset(test_feature_all, test_label_all, 10)\n",
    "\n",
    "test_feature_all.shape, test_label_all.shape"
   ],
   "execution_count": 14,
   "outputs": [
    {
     "output_type": "execute_result",
     "data": {
      "text/plain": [
       "((445, 10, 4), (445, 1))"
      ]
     },
     "metadata": {
      "tags": []
     },
     "execution_count": 14
    }
   ]
  },
  {
   "cell_type": "code",
   "metadata": {
    "colab": {
     "base_uri": "https://localhost:8080/"
    },
    "id": "1yA5NRUj-qXy",
    "outputId": "69b52a13-e055-43c8-8038-d42477201648"
   },
   "source": [
    "from sklearn.model_selection import train_test_split\n",
    "\n",
    "# build train, validation set\n",
    "x_train, x_valid, y_train, y_valid = train_test_split(train_feature_all, train_label_all, test_size = 0.2)\n",
    "\n",
    "x_train.shape, x_valid.shape"
   ],
   "execution_count": 15,
   "outputs": [
    {
     "output_type": "execute_result",
     "data": {
      "text/plain": [
       "((356, 10, 4), (89, 10, 4))"
      ]
     },
     "metadata": {
      "tags": []
     },
     "execution_count": 15
    }
   ]
  },
  {
   "cell_type": "code",
   "metadata": {
    "colab": {
     "base_uri": "https://localhost:8080/"
    },
    "id": "QDeoyzuu_Y4i",
    "outputId": "5b2c099d-30ad-410f-e837-5fbe3719f51e"
   },
   "source": [
    "from keras.models import *\n",
    "from keras.layers import *\n",
    "from keras.callbacks import EarlyStopping, ModelCheckpoint\n",
    "\n",
    "\n",
    "def build_model():\n",
    "    model = Sequential()\n",
    "    \n",
    "\n",
    "    model.add(Bidirectional(LSTM(50, return_sequences = False), input_shape=(train_feature_all.shape[1], train_feature_all.shape[2])))\n",
    "    model.add(Dropout(0.2))\n",
    "    model.add(Dense(64, activation = 'sigmoid'))\n",
    "    model.add(Dense(1, activation = 'linear'))\n",
    "    #model.add(Bidirectional(LSTM(64, return_sequences = True), input_shape=(train_feature_all.shape[1], train_feature_all.shape[2])))\n",
    "    #model.add(Bidirectional(LSTM(32, return_sequences = False)))\n",
    "    #model.add(Dense(1, activation = 'linear'))\n",
    "\n",
    "    return model\n",
    "\n",
    "model = build_model()\n",
    "model.summary()"
   ],
   "execution_count": 16,
   "outputs": [
    {
     "output_type": "stream",
     "text": [
      "Model: \"sequential\"\n",
      "_________________________________________________________________\n",
      "Layer (type)                 Output Shape              Param #   \n",
      "=================================================================\n",
      "bidirectional (Bidirectional (None, 100)               22000     \n",
      "_________________________________________________________________\n",
      "dropout (Dropout)            (None, 100)               0         \n",
      "_________________________________________________________________\n",
      "dense (Dense)                (None, 64)                6464      \n",
      "_________________________________________________________________\n",
      "dense_1 (Dense)              (None, 1)                 65        \n",
      "=================================================================\n",
      "Total params: 28,529\n",
      "Trainable params: 28,529\n",
      "Non-trainable params: 0\n",
      "_________________________________________________________________\n"
     ],
     "name": "stdout"
    }
   ]
  },
  {
   "cell_type": "code",
   "metadata": {
    "id": "vyDqiZtg_gBP"
   },
   "source": [
    "# if val_loss will not imporve consecutive 10 times(patience = 10), epochs will be stopped\n",
    "es = EarlyStopping(monitor = 'val_loss', mode = 'min', verbose = 1, patience = 10)\n",
    "mc = ModelCheckpoint('check.h5', monitor = 'val_acc', mode = 'max', verbose = 1, save_best_only=True)"
   ],
   "execution_count": 17,
   "outputs": []
  },
  {
   "cell_type": "code",
   "metadata": {
    "colab": {
     "base_uri": "https://localhost:8080/"
    },
    "id": "Q_ohuQ5b_iVA",
    "outputId": "0da69513-4812-4508-b46a-e1494e827121"
   },
   "source": [
    "from keras.optimizers import SGD, Adam, RMSprop, Adagrad, Adadelta, Adamax\n",
    "\n",
    "model.compile(loss = 'mean_squared_error', optimizer = Adam(learning_rate = 0.0005), metrics = ['acc'])\n",
    "history = model.fit(x_train, y_train, epochs = 1000, batch_size = 1, validation_data = (x_valid, y_valid), callbacks = [es, mc])"
   ],
   "execution_count": 19,
   "outputs": [
    {
     "output_type": "stream",
     "text": [
      "Epoch 1/1000\n",
      "356/356 [==============================] - 7s 9ms/step - loss: 0.0209 - acc: 2.8863e-04 - val_loss: 0.0138 - val_acc: 0.0000e+00\n",
      "\n",
      "Epoch 00001: val_acc improved from -inf to 0.00000, saving model to check.h5\n",
      "Epoch 2/1000\n",
      "356/356 [==============================] - 2s 5ms/step - loss: 0.0203 - acc: 0.0043 - val_loss: 0.0104 - val_acc: 0.0000e+00\n",
      "\n",
      "Epoch 00002: val_acc did not improve from 0.00000\n",
      "Epoch 3/1000\n",
      "356/356 [==============================] - 2s 6ms/step - loss: 0.0145 - acc: 9.3001e-04 - val_loss: 0.0111 - val_acc: 0.0000e+00\n",
      "\n",
      "Epoch 00003: val_acc did not improve from 0.00000\n",
      "Epoch 4/1000\n",
      "356/356 [==============================] - 2s 6ms/step - loss: 0.0117 - acc: 0.0027 - val_loss: 0.0072 - val_acc: 0.0000e+00\n",
      "\n",
      "Epoch 00004: val_acc did not improve from 0.00000\n",
      "Epoch 5/1000\n",
      "356/356 [==============================] - 2s 5ms/step - loss: 0.0127 - acc: 0.0117 - val_loss: 0.0083 - val_acc: 0.0000e+00\n",
      "\n",
      "Epoch 00005: val_acc did not improve from 0.00000\n",
      "Epoch 6/1000\n",
      "356/356 [==============================] - 2s 5ms/step - loss: 0.0110 - acc: 0.0024 - val_loss: 0.0065 - val_acc: 0.0000e+00\n",
      "\n",
      "Epoch 00006: val_acc did not improve from 0.00000\n",
      "Epoch 7/1000\n",
      "356/356 [==============================] - 2s 5ms/step - loss: 0.0107 - acc: 0.0140 - val_loss: 0.0043 - val_acc: 0.0000e+00\n",
      "\n",
      "Epoch 00007: val_acc did not improve from 0.00000\n",
      "Epoch 8/1000\n",
      "356/356 [==============================] - 2s 5ms/step - loss: 0.0118 - acc: 0.0040 - val_loss: 0.0058 - val_acc: 0.0000e+00\n",
      "\n",
      "Epoch 00008: val_acc did not improve from 0.00000\n",
      "Epoch 9/1000\n",
      "356/356 [==============================] - 2s 5ms/step - loss: 0.0108 - acc: 0.0058 - val_loss: 0.0044 - val_acc: 0.0000e+00\n",
      "\n",
      "Epoch 00009: val_acc did not improve from 0.00000\n",
      "Epoch 10/1000\n",
      "356/356 [==============================] - 2s 5ms/step - loss: 0.0086 - acc: 0.0038 - val_loss: 0.0070 - val_acc: 0.0000e+00\n",
      "\n",
      "Epoch 00010: val_acc did not improve from 0.00000\n",
      "Epoch 11/1000\n",
      "356/356 [==============================] - 2s 5ms/step - loss: 0.0105 - acc: 0.0043 - val_loss: 0.0049 - val_acc: 0.0000e+00\n",
      "\n",
      "Epoch 00011: val_acc did not improve from 0.00000\n",
      "Epoch 12/1000\n",
      "356/356 [==============================] - 2s 5ms/step - loss: 0.0074 - acc: 0.0062 - val_loss: 0.0082 - val_acc: 0.0000e+00\n",
      "\n",
      "Epoch 00012: val_acc did not improve from 0.00000\n",
      "Epoch 13/1000\n",
      "356/356 [==============================] - 2s 5ms/step - loss: 0.0081 - acc: 0.0056 - val_loss: 0.0044 - val_acc: 0.0000e+00\n",
      "\n",
      "Epoch 00013: val_acc did not improve from 0.00000\n",
      "Epoch 14/1000\n",
      "356/356 [==============================] - 2s 5ms/step - loss: 0.0076 - acc: 0.0035 - val_loss: 0.0054 - val_acc: 0.0000e+00\n",
      "\n",
      "Epoch 00014: val_acc did not improve from 0.00000\n",
      "Epoch 15/1000\n",
      "356/356 [==============================] - 2s 5ms/step - loss: 0.0070 - acc: 0.0043 - val_loss: 0.0056 - val_acc: 0.0000e+00\n",
      "\n",
      "Epoch 00015: val_acc did not improve from 0.00000\n",
      "Epoch 16/1000\n",
      "356/356 [==============================] - 2s 5ms/step - loss: 0.0093 - acc: 0.0088 - val_loss: 0.0069 - val_acc: 0.0000e+00\n",
      "\n",
      "Epoch 00016: val_acc did not improve from 0.00000\n",
      "Epoch 17/1000\n",
      "356/356 [==============================] - 2s 5ms/step - loss: 0.0080 - acc: 0.0022 - val_loss: 0.0067 - val_acc: 0.0000e+00\n",
      "\n",
      "Epoch 00017: val_acc did not improve from 0.00000\n",
      "Epoch 00017: early stopping\n"
     ],
     "name": "stdout"
    }
   ]
  },
  {
   "cell_type": "code",
   "metadata": {
    "colab": {
     "base_uri": "https://localhost:8080/",
     "height": 537
    },
    "id": "2HbH7yeK_mU0",
    "outputId": "d8b1a23e-7b99-4f62-b861-142e7d41364d"
   },
   "source": [
    "import matplotlib.pyplot as plt\n",
    "\n",
    "# loading weight\n",
    "model.load_weights('check.h5')\n",
    "\n",
    "# prediction\n",
    "pred_all = model.predict(test_feature_all)\n",
    "\n",
    "inverse_test_label_all = scaler_test.inverse_transform(test_label_all)\n",
    "inverse_test_label_all = pd.DataFrame(inverse_test_label_all)\n",
    "\n",
    "inverse_pred_all = scaler_test.inverse_transform(pred_all)\n",
    "inverse_pred_all = pd.DataFrame(inverse_pred_all)\n",
    "\n",
    "plt.figure(figsize = (27, 9))\n",
    "plt.plot(inverse_test_label_all, label = 'actual')\n",
    "plt.plot(inverse_pred_all, label = 'prediction')\n",
    "plt.legend()\n",
    "plt.show()"
   ],
   "execution_count": 20,
   "outputs": [
    {
     "output_type": "display_data",
     "data": {
      "image/png": "[encoded data removed]",
      "text/plain": [
       "<Figure size 1944x648 with 1 Axes>"
      ]
     },
     "metadata": {
      "tags": [],
      "needs_background": "light"
     }
    }
   ]
  },
  {
   "cell_type": "code",
   "metadata": {
    "colab": {
     "base_uri": "https://localhost:8080/",
     "height": 538
    },
    "id": "euIqoGt5PE36",
    "outputId": "337a2dc2-3581-4609-a31f-2039f74b16e1"
   },
   "source": [
    "plt.figure(figsize = (33, 9))\n",
    "plt.plot(inverse_test_label_all[len(inverse_test_label_all) - 7:], label = 'actual')\n",
    "plt.plot(inverse_pred_all[len(inverse_pred_all) - 7:], label = 'prediction')\n",
    "plt.legend()\n",
    "plt.show()"
   ],
   "execution_count": 21,
   "outputs": [
    {
     "output_type": "display_data",
     "data": {
      "image/png": "[encoded data removed]",
      "text/plain": [
       "<Figure size 2376x648 with 1 Axes>"
      ]
     },
     "metadata": {
      "tags": [],
      "needs_background": "light"
     }
    }
   ]
  },
  {
   "cell_type": "markdown",
   "metadata": {
    "id": "tbe7qfY7rKEr"
   },
   "source": [
    "# 도별 데이터를 하나씩 분리해서 3차원 배열 구성\n",
    "# 감염자 요소 하나만으로 학습할 시 데이터 양: 약 4000개(1x400x10)\n",
    "# 여러가지 요소로 학습할 시 데이터 양: 20000개(5x400x10)\n",
    "# 데이터 부족으로 인한 낮은 적중률 해결"
   ]
  },
  {
   "cell_type": "code",
   "metadata": {
    "id": "kzON5pnXDveB"
   },
   "source": [
    "data_all_origin = pd.read_csv(cp + '/all/covid19_20210524_all.csv')\n",
    "data_part_origin = pd.read_csv(cp + '/part/covid19_20210524_part.csv')\n",
    "\n",
    "data_all = data_all_origin.drop(['Unnamed: 0'], axis = 1)\n",
    "data_part = data_part_origin.drop(['Unnamed: 0'], axis = 1)"
   ],
   "execution_count": 22,
   "outputs": []
  },
  {
   "cell_type": "code",
   "metadata": {
    "colab": {
     "base_uri": "https://localhost:8080/"
    },
    "id": "3RqdpyDxApBK",
    "outputId": "55beedb2-d5c1-4680-a9a9-da349ffdb5c3"
   },
   "source": [
    "data_part.isnull().sum()"
   ],
   "execution_count": 23,
   "outputs": [
    {
     "output_type": "execute_result",
     "data": {
      "text/plain": [
       "createDt           0\n",
       "deathCnt           0\n",
       "defCnt            19\n",
       "gubun              0\n",
       "gubunCn          293\n",
       "gubunEn          292\n",
       "incDec             0\n",
       "isolClearCnt     109\n",
       "isolIngCnt       691\n",
       "localOccCnt      691\n",
       "overFlowCnt      691\n",
       "qurRate           19\n",
       "seq                0\n",
       "stdDay             0\n",
       "updateDt        8237\n",
       "dtype: int64"
      ]
     },
     "metadata": {
      "tags": []
     },
     "execution_count": 23
    }
   ]
  },
  {
   "cell_type": "code",
   "metadata": {
    "colab": {
     "base_uri": "https://localhost:8080/",
     "height": 402
    },
    "id": "-Ykf64uuTe2D",
    "outputId": "683e626e-4b36-4569-b59d-8345f1f9e578"
   },
   "source": [
    "data_part"
   ],
   "execution_count": 24,
   "outputs": [
    {
     "output_type": "execute_result",
     "data": {
      "text/html": [
       "<div>\n",
       "<style scoped>\n",
       "    .dataframe tbody tr th:only-of-type {\n",
       "        vertical-align: middle;\n",
       "    }\n",
       "\n",
       "    .dataframe tbody tr th {\n",
       "        vertical-align: top;\n",
       "    }\n",
       "\n",
       "    .dataframe thead th {\n",
       "        text-align: right;\n",
       "    }\n",
       "</style>\n",
       "<table border=\"1\" class=\"dataframe\">\n",
       "  <thead>\n",
       "    <tr style=\"text-align: right;\">\n",
       "      <th></th>\n",
       "      <th>createDt</th>\n",
       "      <th>deathCnt</th>\n",
       "      <th>defCnt</th>\n",
       "      <th>gubun</th>\n",
       "      <th>gubunCn</th>\n",
       "      <th>gubunEn</th>\n",
       "      <th>incDec</th>\n",
       "      <th>isolClearCnt</th>\n",
       "      <th>isolIngCnt</th>\n",
       "      <th>localOccCnt</th>\n",
       "      <th>overFlowCnt</th>\n",
       "      <th>qurRate</th>\n",
       "      <th>seq</th>\n",
       "      <th>stdDay</th>\n",
       "      <th>updateDt</th>\n",
       "    </tr>\n",
       "  </thead>\n",
       "  <tbody>\n",
       "    <tr>\n",
       "      <th>0</th>\n",
       "      <td>27:57.6</td>\n",
       "      <td>0</td>\n",
       "      <td>NaN</td>\n",
       "      <td>검역</td>\n",
       "      <td>NaN</td>\n",
       "      <td>NaN</td>\n",
       "      <td>0</td>\n",
       "      <td>NaN</td>\n",
       "      <td>NaN</td>\n",
       "      <td>NaN</td>\n",
       "      <td>NaN</td>\n",
       "      <td>NaN</td>\n",
       "      <td>19</td>\n",
       "      <td>20200301</td>\n",
       "      <td>04:50.5</td>\n",
       "    </tr>\n",
       "    <tr>\n",
       "      <th>1</th>\n",
       "      <td>27:57.6</td>\n",
       "      <td>0</td>\n",
       "      <td>NaN</td>\n",
       "      <td>제주</td>\n",
       "      <td>NaN</td>\n",
       "      <td>NaN</td>\n",
       "      <td>0</td>\n",
       "      <td>NaN</td>\n",
       "      <td>NaN</td>\n",
       "      <td>NaN</td>\n",
       "      <td>NaN</td>\n",
       "      <td>NaN</td>\n",
       "      <td>18</td>\n",
       "      <td>20200301</td>\n",
       "      <td>NaN</td>\n",
       "    </tr>\n",
       "    <tr>\n",
       "      <th>2</th>\n",
       "      <td>27:57.6</td>\n",
       "      <td>0</td>\n",
       "      <td>NaN</td>\n",
       "      <td>경남</td>\n",
       "      <td>NaN</td>\n",
       "      <td>NaN</td>\n",
       "      <td>4</td>\n",
       "      <td>NaN</td>\n",
       "      <td>NaN</td>\n",
       "      <td>NaN</td>\n",
       "      <td>NaN</td>\n",
       "      <td>NaN</td>\n",
       "      <td>17</td>\n",
       "      <td>20200301</td>\n",
       "      <td>NaN</td>\n",
       "    </tr>\n",
       "    <tr>\n",
       "      <th>3</th>\n",
       "      <td>27:57.6</td>\n",
       "      <td>8</td>\n",
       "      <td>NaN</td>\n",
       "      <td>경북</td>\n",
       "      <td>NaN</td>\n",
       "      <td>NaN</td>\n",
       "      <td>67</td>\n",
       "      <td>NaN</td>\n",
       "      <td>NaN</td>\n",
       "      <td>NaN</td>\n",
       "      <td>NaN</td>\n",
       "      <td>NaN</td>\n",
       "      <td>16</td>\n",
       "      <td>20200301</td>\n",
       "      <td>NaN</td>\n",
       "    </tr>\n",
       "    <tr>\n",
       "      <th>4</th>\n",
       "      <td>27:57.6</td>\n",
       "      <td>0</td>\n",
       "      <td>NaN</td>\n",
       "      <td>전남</td>\n",
       "      <td>NaN</td>\n",
       "      <td>NaN</td>\n",
       "      <td>0</td>\n",
       "      <td>NaN</td>\n",
       "      <td>NaN</td>\n",
       "      <td>NaN</td>\n",
       "      <td>NaN</td>\n",
       "      <td>NaN</td>\n",
       "      <td>15</td>\n",
       "      <td>20200301</td>\n",
       "      <td>NaN</td>\n",
       "    </tr>\n",
       "    <tr>\n",
       "      <th>...</th>\n",
       "      <td>...</td>\n",
       "      <td>...</td>\n",
       "      <td>...</td>\n",
       "      <td>...</td>\n",
       "      <td>...</td>\n",
       "      <td>...</td>\n",
       "      <td>...</td>\n",
       "      <td>...</td>\n",
       "      <td>...</td>\n",
       "      <td>...</td>\n",
       "      <td>...</td>\n",
       "      <td>...</td>\n",
       "      <td>...</td>\n",
       "      <td>...</td>\n",
       "      <td>...</td>\n",
       "    </tr>\n",
       "    <tr>\n",
       "      <th>8505</th>\n",
       "      <td>2021-05-24 09:46:24.358</td>\n",
       "      <td>124</td>\n",
       "      <td>5555.0</td>\n",
       "      <td>부산</td>\n",
       "      <td>釜山</td>\n",
       "      <td>Busan</td>\n",
       "      <td>15</td>\n",
       "      <td>5169.0</td>\n",
       "      <td>262.0</td>\n",
       "      <td>14.0</td>\n",
       "      <td>1.0</td>\n",
       "      <td>162.82</td>\n",
       "      <td>9700</td>\n",
       "      <td>20210524</td>\n",
       "      <td>NaN</td>\n",
       "    </tr>\n",
       "    <tr>\n",
       "      <th>8506</th>\n",
       "      <td>2021-05-24 09:46:24.358</td>\n",
       "      <td>480</td>\n",
       "      <td>42601.0</td>\n",
       "      <td>서울</td>\n",
       "      <td>首尔</td>\n",
       "      <td>Seoul</td>\n",
       "      <td>139</td>\n",
       "      <td>39276.0</td>\n",
       "      <td>2845.0</td>\n",
       "      <td>136.0</td>\n",
       "      <td>3.0</td>\n",
       "      <td>437.67</td>\n",
       "      <td>9699</td>\n",
       "      <td>20210524</td>\n",
       "      <td>NaN</td>\n",
       "    </tr>\n",
       "    <tr>\n",
       "      <th>8507</th>\n",
       "      <td>2021-05-24 09:46:24.358</td>\n",
       "      <td>1934</td>\n",
       "      <td>136467.0</td>\n",
       "      <td>합계</td>\n",
       "      <td>合计</td>\n",
       "      <td>Total</td>\n",
       "      <td>538</td>\n",
       "      <td>126427.0</td>\n",
       "      <td>8106.0</td>\n",
       "      <td>513.0</td>\n",
       "      <td>25.0</td>\n",
       "      <td>263.21</td>\n",
       "      <td>9698</td>\n",
       "      <td>20210524</td>\n",
       "      <td>NaN</td>\n",
       "    </tr>\n",
       "    <tr>\n",
       "      <th>8508</th>\n",
       "      <td>2021-05-24 09:46:24.36</td>\n",
       "      <td>628</td>\n",
       "      <td>38008.0</td>\n",
       "      <td>경기</td>\n",
       "      <td>京畿</td>\n",
       "      <td>Gyeonggi-do</td>\n",
       "      <td>122</td>\n",
       "      <td>35278.0</td>\n",
       "      <td>2102.0</td>\n",
       "      <td>120.0</td>\n",
       "      <td>2.0</td>\n",
       "      <td>286.84</td>\n",
       "      <td>9707</td>\n",
       "      <td>20210524</td>\n",
       "      <td>NaN</td>\n",
       "    </tr>\n",
       "    <tr>\n",
       "      <th>8509</th>\n",
       "      <td>2021-05-24 09:46:24.361</td>\n",
       "      <td>4</td>\n",
       "      <td>3765.0</td>\n",
       "      <td>검역</td>\n",
       "      <td>隔離區</td>\n",
       "      <td>Lazaretto</td>\n",
       "      <td>11</td>\n",
       "      <td>3538.0</td>\n",
       "      <td>223.0</td>\n",
       "      <td>0.0</td>\n",
       "      <td>11.0</td>\n",
       "      <td>-</td>\n",
       "      <td>9716</td>\n",
       "      <td>20210524</td>\n",
       "      <td>NaN</td>\n",
       "    </tr>\n",
       "  </tbody>\n",
       "</table>\n",
       "<p>8510 rows × 15 columns</p>\n",
       "</div>"
      ],
      "text/plain": [
       "                     createDt  deathCnt    defCnt  ...   seq    stdDay updateDt\n",
       "0                     27:57.6         0       NaN  ...    19  20200301  04:50.5\n",
       "1                     27:57.6         0       NaN  ...    18  20200301      NaN\n",
       "2                     27:57.6         0       NaN  ...    17  20200301      NaN\n",
       "3                     27:57.6         8       NaN  ...    16  20200301      NaN\n",
       "4                     27:57.6         0       NaN  ...    15  20200301      NaN\n",
       "...                       ...       ...       ...  ...   ...       ...      ...\n",
       "8505  2021-05-24 09:46:24.358       124    5555.0  ...  9700  20210524      NaN\n",
       "8506  2021-05-24 09:46:24.358       480   42601.0  ...  9699  20210524      NaN\n",
       "8507  2021-05-24 09:46:24.358      1934  136467.0  ...  9698  20210524      NaN\n",
       "8508   2021-05-24 09:46:24.36       628   38008.0  ...  9707  20210524      NaN\n",
       "8509  2021-05-24 09:46:24.361         4    3765.0  ...  9716  20210524      NaN\n",
       "\n",
       "[8510 rows x 15 columns]"
      ]
     },
     "metadata": {
      "tags": []
     },
     "execution_count": 24
    }
   ]
  },
  {
   "cell_type": "code",
   "metadata": {
    "colab": {
     "base_uri": "https://localhost:8080/"
    },
    "id": "9GihpyxKBNtA",
    "outputId": "a61257e9-1fdc-4887-c483-43bb928ee54d"
   },
   "source": [
    "data_part = data_part.drop(['updateDt', 'createDt', 'gubunCn', 'deathCnt',\n",
    "                            'seq','incDec', 'qurRate', 'overFlowCnt', 'localOccCnt'], axis = 1)\n",
    "data_part = data_part.dropna(axis = 0)\n",
    "\n",
    "data_part.isnull().sum()"
   ],
   "execution_count": 25,
   "outputs": [
    {
     "output_type": "execute_result",
     "data": {
      "text/plain": [
       "defCnt          0\n",
       "gubun           0\n",
       "gubunEn         0\n",
       "isolClearCnt    0\n",
       "isolIngCnt      0\n",
       "stdDay          0\n",
       "dtype: int64"
      ]
     },
     "metadata": {
      "tags": []
     },
     "execution_count": 25
    }
   ]
  },
  {
   "cell_type": "code",
   "metadata": {
    "id": "enmh1sF3B-hQ"
   },
   "source": [
    "GSND = data_part.loc[(data_part['gubunEn'] == 'Gyeongsangnam-do')].reset_index(drop = True)\n",
    "GSBD = data_part.loc[(data_part['gubunEn'] == 'Gyeongsangbuk-do')].reset_index(drop = True)\n",
    "JLND = data_part.loc[(data_part['gubunEn'] == 'Jeollanam-do')].reset_index(drop = True)\n",
    "JLBD = data_part.loc[(data_part['gubunEn'] == 'Jeollabuk-do')].reset_index(drop = True)\n",
    "CCND = data_part.loc[(data_part['gubunEn'] == 'Chungcheongnam-do')].reset_index(drop = True)\n",
    "CCBD = data_part.loc[(data_part['gubunEn'] == 'Chungcheongbuk-do')].reset_index(drop = True)\n",
    "Gangwon = data_part.loc[(data_part['gubunEn'] == 'Gangwon-do')].reset_index(drop = True)\n",
    "Gyeonggi = data_part.loc[(data_part['gubunEn'] == 'Gyeonggi-do')].reset_index(drop = True)\n",
    "Incheon = data_part.loc[(data_part['gubunEn'] == 'Incheon')].reset_index(drop = True)\n",
    "Daegu = data_part.loc[(data_part['gubunEn'] == 'Daegu')].reset_index(drop = True)\n",
    "Busan = data_part.loc[(data_part['gubunEn'] == 'Busan')].reset_index(drop = True)\n",
    "Seoul = data_part.loc[(data_part['gubunEn'] == 'Seoul')].reset_index(drop = True)"
   ],
   "execution_count": 26,
   "outputs": []
  },
  {
   "cell_type": "code",
   "metadata": {
    "id": "jEC-mHnWcDP3"
   },
   "source": [
    "GSND = GSND.drop(['gubun', 'gubunEn', 'isolIngCnt', 'stdDay'], axis = 1)\n",
    "GSBD = GSBD.drop(['gubun', 'gubunEn', 'isolIngCnt', 'stdDay'], axis = 1)\n",
    "JLND = JLND.drop(['gubun', 'gubunEn', 'isolIngCnt', 'stdDay'], axis = 1)\n",
    "JLBD = JLBD.drop(['gubun', 'gubunEn', 'isolIngCnt', 'stdDay'], axis = 1)\n",
    "CCND = CCND.drop(['gubun', 'gubunEn', 'isolIngCnt', 'stdDay'], axis = 1)\n",
    "CCBD = CCBD.drop(['gubun', 'gubunEn', 'isolIngCnt', 'stdDay'], axis = 1)\n",
    "Gangwon = Gangwon.drop(['gubun', 'gubunEn', 'isolIngCnt', 'stdDay'], axis = 1)\n",
    "Gyeonggi = Gyeonggi.drop(['gubun', 'gubunEn', 'isolIngCnt', 'stdDay'], axis = 1)\n",
    "Incheon = Incheon.drop(['gubun', 'gubunEn', 'isolIngCnt', 'stdDay'], axis = 1)\n",
    "Daegu = Daegu.drop(['gubun', 'gubunEn', 'isolIngCnt', 'stdDay'], axis = 1)\n",
    "Busan = Busan.drop(['gubun', 'gubunEn', 'isolIngCnt', 'stdDay'], axis = 1)\n",
    "Seoul = Seoul.drop(['gubun', 'gubunEn', 'isolIngCnt', 'stdDay'], axis = 1)"
   ],
   "execution_count": 27,
   "outputs": []
  },
  {
   "cell_type": "code",
   "metadata": {
    "id": "Fg-0ZWSJOKlV"
   },
   "source": [
    "# 데이터셋을 합치기 위해 shape맞추기\n",
    "# shape가 다른 데이터셋 목록\n",
    "# JLBD, CCND, CCBD\n",
    "GSND = GSND.drop([0], axis = 0).reset_index(drop = True)\n",
    "GSBD = GSBD.drop([0], axis = 0).reset_index(drop = True)\n",
    "JLND = JLND.drop([0], axis = 0).reset_index(drop = True)\n",
    "JLBD = JLBD.drop([0], axis = 0).reset_index(drop = True)\n",
    "Gangwon = Gangwon.drop([0], axis = 0).reset_index(drop = True)\n",
    "Gyeonggi = Gyeonggi.drop([0], axis = 0).reset_index(drop = True)\n",
    "Incheon = Incheon.drop([0], axis = 0).reset_index(drop = True)\n",
    "Daegu = Daegu.drop([0], axis = 0).reset_index(drop = True)\n",
    "Busan = Busan.drop([0], axis = 0).reset_index(drop = True)\n",
    "Seoul = Seoul.drop([0], axis = 0).reset_index(drop = True)"
   ],
   "execution_count": 28,
   "outputs": []
  },
  {
   "cell_type": "code",
   "metadata": {
    "id": "wzGq1DSbO0q_"
   },
   "source": [
    "infector_GSND = []\n",
    "clear_GSND = []\n",
    "infector_GSND.append(0)\n",
    "clear_GSND.append(0)\n",
    "\n",
    "infector_GSBD = []\n",
    "clear_GSBD = []\n",
    "infector_GSBD.append(0)\n",
    "clear_GSBD.append(0)\n",
    "\n",
    "infector_JLND = []\n",
    "clear_JLND = []\n",
    "infector_JLND.append(0)\n",
    "clear_JLND.append(0)\n",
    "\n",
    "infector_JLBD = []\n",
    "clear_JLBD = []\n",
    "infector_JLBD.append(0)\n",
    "clear_JLBD.append(0)\n",
    "\n",
    "infector_Gangwon = []\n",
    "clear_Gangwon = []\n",
    "infector_Gangwon.append(0)\n",
    "clear_Gangwon.append(0)\n",
    "\n",
    "infector_Gyeonggi = []\n",
    "clear_Gyeonggi = []\n",
    "infector_Gyeonggi.append(0)\n",
    "clear_Gyeonggi.append(0)\n",
    "\n",
    "infector_Incheon = []\n",
    "clear_Incheon = []\n",
    "infector_Incheon.append(0)\n",
    "clear_Incheon.append(0)\n",
    "\n",
    "infector_Daegu = []\n",
    "clear_Daegu = []\n",
    "infector_Daegu.append(0)\n",
    "clear_Daegu.append(0)\n",
    "\n",
    "infector_Busan = []\n",
    "clear_Busan = []\n",
    "infector_Busan.append(0)\n",
    "clear_Busan.append(0)\n",
    "\n",
    "infector_Seoul = []\n",
    "clear_Seoul = []\n",
    "infector_Seoul.append(0)\n",
    "clear_Seoul.append(0)\n",
    "\n",
    "for i in range(len(GSND) - 1):\n",
    "    infector_GSND.append(GSND['defCnt'][i + 1] - GSND['defCnt'][i])\n",
    "    clear_GSND.append(GSND['isolClearCnt'][i + 1] - GSND['isolClearCnt'][i])\n",
    "for i in range(len(GSBD) - 1):\n",
    "    infector_GSBD.append(GSBD['defCnt'][i + 1] - GSBD['defCnt'][i])\n",
    "    clear_GSBD.append(GSBD['isolClearCnt'][i + 1] - GSBD['isolClearCnt'][i])\n",
    "for i in range(len(JLND) - 1):\n",
    "    infector_JLND.append(JLND['defCnt'][i + 1] - JLND['defCnt'][i])\n",
    "    clear_JLND.append(JLND['isolClearCnt'][i + 1] - JLND['isolClearCnt'][i])\n",
    "for i in range(len(JLBD) - 1):\n",
    "    infector_JLBD.append(JLBD['defCnt'][i + 1] - JLBD['defCnt'][i])\n",
    "    clear_JLBD.append(JLBD['isolClearCnt'][i + 1] - JLBD['isolClearCnt'][i])\n",
    "for i in range(len(Gangwon) - 1):\n",
    "    infector_Gangwon.append(Gangwon['defCnt'][i + 1] - Gangwon['defCnt'][i])\n",
    "    clear_Gangwon.append(Gangwon['isolClearCnt'][i + 1] - Gangwon['isolClearCnt'][i])\n",
    "for i in range(len(Gyeonggi) - 1):\n",
    "    infector_Gyeonggi.append(Gyeonggi['defCnt'][i + 1] - Gyeonggi['defCnt'][i])\n",
    "    clear_Gyeonggi.append(Gyeonggi['isolClearCnt'][i + 1] - Gyeonggi['isolClearCnt'][i])\n",
    "for i in range(len(Incheon) - 1):\n",
    "    infector_Incheon.append(Incheon['defCnt'][i + 1] - Incheon['defCnt'][i])\n",
    "    clear_Incheon.append(Incheon['isolClearCnt'][i + 1] - Incheon['isolClearCnt'][i])\n",
    "for i in range(len(Daegu) - 1):\n",
    "    infector_Daegu.append(Daegu['defCnt'][i + 1] - Daegu['defCnt'][i])\n",
    "    clear_Daegu.append(Daegu['isolClearCnt'][i + 1] - Daegu['isolClearCnt'][i])\n",
    "for i in range(len(Busan) - 1):\n",
    "    infector_Busan.append(Busan['defCnt'][i + 1] - Busan['defCnt'][i])\n",
    "    clear_Busan.append(Busan['isolClearCnt'][i + 1] - Busan['isolClearCnt'][i])\n",
    "for i in range(len(Seoul) - 1):\n",
    "    infector_Seoul.append(Seoul['defCnt'][i + 1] - Seoul['defCnt'][i])\n",
    "    clear_Seoul.append(Seoul['isolClearCnt'][i + 1] - Seoul['isolClearCnt'][i])\n",
    "\n",
    "infector_GSND = np.array(infector_GSND)\n",
    "infector_GSND = pd.DataFrame(infector_GSND)\n",
    "infector_GSND.columns = ['infector']\n",
    "clear_GSND = np.array(clear_GSND)\n",
    "clear_GSND = pd.DataFrame(clear_GSND)\n",
    "clear_GSND.columns = ['clear']\n",
    "\n",
    "infector_GSBD = np.array(infector_GSBD)\n",
    "infector_GSBD = pd.DataFrame(infector_GSBD)\n",
    "infector_GSBD.columns = ['infector']\n",
    "clear_GSBD = np.array(clear_GSBD)\n",
    "clear_GSBD = pd.DataFrame(clear_GSBD)\n",
    "clear_GSBD.columns = ['clear']\n",
    "\n",
    "infector_JLND = np.array(infector_JLND)\n",
    "infector_JLND = pd.DataFrame(infector_JLND)\n",
    "infector_JLND.columns = ['infector']\n",
    "clear_JLND = np.array(clear_JLND)\n",
    "clear_JLND = pd.DataFrame(clear_JLND)\n",
    "clear_JLND.columns = ['clear']\n",
    "\n",
    "infector_JLBD = np.array(infector_JLBD)\n",
    "infector_JLBD = pd.DataFrame(infector_JLBD)\n",
    "infector_JLBD.columns = ['infector']\n",
    "clear_JLBD = np.array(clear_JLBD)\n",
    "clear_JLBD = pd.DataFrame(clear_JLBD)\n",
    "clear_JLBD.columns = ['clear']\n",
    "\n",
    "infector_Gangwon = np.array(infector_Gangwon)\n",
    "infector_Gangwon = pd.DataFrame(infector_Gangwon)\n",
    "infector_Gangwon.columns = ['infector']\n",
    "clear_Gangwon = np.array(clear_Gangwon)\n",
    "clear_Gangwon = pd.DataFrame(clear_Gangwon)\n",
    "clear_Gangwon.columns = ['clear']\n",
    "\n",
    "infector_Gyeonggi = np.array(infector_Gyeonggi)\n",
    "infector_Gyeonggi = pd.DataFrame(infector_Gyeonggi)\n",
    "infector_Gyeonggi.columns = ['infector']\n",
    "clear_Gyeonggi = np.array(clear_Gyeonggi)\n",
    "clear_Gyeonggi = pd.DataFrame(clear_Gyeonggi)\n",
    "clear_Gyeonggi.columns = ['clear']\n",
    "\n",
    "infector_Incheon = np.array(infector_Incheon)\n",
    "infector_Incheon = pd.DataFrame(infector_Incheon)\n",
    "infector_Incheon.columns = ['infector']\n",
    "clear_Incheon = np.array(clear_Incheon)\n",
    "clear_Incheon = pd.DataFrame(clear_Incheon)\n",
    "clear_Incheon.columns = ['clear']\n",
    "\n",
    "infector_Daegu = np.array(infector_Daegu)\n",
    "infector_Daegu = pd.DataFrame(infector_Daegu)\n",
    "infector_Daegu.columns = ['infector']\n",
    "clear_Daegu = np.array(clear_Daegu)\n",
    "clear_Daegu = pd.DataFrame(clear_Daegu)\n",
    "clear_Daegu.columns = ['clear']\n",
    "\n",
    "infector_Busan = np.array(infector_Busan)\n",
    "infector_Busan = pd.DataFrame(infector_Busan)\n",
    "infector_Busan.columns = ['infector']\n",
    "clear_Busan = np.array(clear_Busan)\n",
    "clear_Busan = pd.DataFrame(clear_Busan)\n",
    "clear_Busan.columns = ['clear']\n",
    "\n",
    "infector_Seoul = np.array(infector_Seoul)\n",
    "infector_Seoul = pd.DataFrame(infector_Seoul)\n",
    "infector_Seoul.columns = ['infector']\n",
    "clear_Seoul = np.array(clear_Seoul)\n",
    "clear_Seoul = pd.DataFrame(clear_Seoul)\n",
    "clear_Seoul.columns = ['clear']\n",
    "\n",
    "GSND = GSND.assign(infector = infector_GSND)\n",
    "GSND = GSND.assign(clear = clear_GSND)\n",
    "GSND = GSND.drop(['defCnt', 'isolClearCnt'], axis = 1)\n",
    "\n",
    "GSBD = GSBD.assign(infector = infector_GSBD)\n",
    "GSBD = GSBD.assign(clear = clear_GSBD)\n",
    "GSBD = GSBD.drop(['defCnt', 'isolClearCnt'], axis = 1)\n",
    "\n",
    "JLND = JLND.assign(infector = infector_JLND)\n",
    "JLND = JLND.assign(clear = clear_JLND)\n",
    "JLND = JLND.drop(['defCnt', 'isolClearCnt'], axis = 1)\n",
    "\n",
    "JLBD = JLBD.assign(infector = infector_JLBD)\n",
    "JLBD = JLBD.assign(clear = clear_JLBD)\n",
    "JLBD = JLBD.drop(['defCnt', 'isolClearCnt'], axis = 1)\n",
    "\n",
    "Gangwon = Gangwon.assign(infector = infector_Gangwon)\n",
    "Gangwon = Gangwon.assign(clear = clear_Gangwon)\n",
    "Gangwon = Gangwon.drop(['defCnt', 'isolClearCnt'], axis = 1)\n",
    "\n",
    "Gyeonggi = Gyeonggi.assign(infector = infector_Gyeonggi)\n",
    "Gyeonggi = Gyeonggi.assign(clear = clear_Gyeonggi)\n",
    "Gyeonggi = Gyeonggi.drop(['defCnt', 'isolClearCnt'], axis = 1)\n",
    "\n",
    "Incheon = Incheon.assign(infector = infector_Incheon)\n",
    "Incheon = Incheon.assign(clear = clear_Incheon)\n",
    "Incheon = Incheon.drop(['defCnt', 'isolClearCnt'], axis = 1)\n",
    "\n",
    "Daegu = Daegu.assign(infector = infector_Daegu)\n",
    "Daegu = Daegu.assign(clear = clear_Daegu)\n",
    "Daegu = Daegu.drop(['defCnt', 'isolClearCnt'], axis = 1)\n",
    "\n",
    "Busan = Busan.assign(infector = infector_Busan)\n",
    "Busan = Busan.assign(clear = clear_Busan)\n",
    "Busan = Busan.drop(['defCnt', 'isolClearCnt'], axis = 1)\n",
    "\n",
    "Seoul = Seoul.assign(infector = infector_Seoul)\n",
    "Seoul = Seoul.assign(clear = clear_Seoul)\n",
    "Seoul = Seoul.drop(['defCnt', 'isolClearCnt'], axis = 1)"
   ],
   "execution_count": 29,
   "outputs": []
  },
  {
   "cell_type": "code",
   "metadata": {
    "colab": {
     "base_uri": "https://localhost:8080/"
    },
    "id": "hvwHiclYHTNc",
    "outputId": "d8dc9c0a-d130-44a6-f0ab-3b9c4b21973e"
   },
   "source": [
    "data_part_stack = np.stack((GSND, GSBD, JLND, JLBD, Gangwon, Gyeonggi, Incheon, Daegu, Busan, Seoul))\n",
    "data_sample = data_part_stack.shape[0] # 샘플 데이터 수(z축)\n",
    "data_sequence = data_part_stack.shape[1] # 데이터 수(y축)\n",
    "data_feature = data_part_stack.shape[2] # 속성 수(x축)\n",
    "data_sample, data_sequence, data_feature"
   ],
   "execution_count": 30,
   "outputs": [
    {
     "output_type": "execute_result",
     "data": {
      "text/plain": [
       "(10, 411, 2)"
      ]
     },
     "metadata": {
      "tags": []
     },
     "execution_count": 30
    }
   ]
  },
  {
   "cell_type": "code",
   "metadata": {
    "id": "FCi8mq66ZYeM"
   },
   "source": [
    "from sklearn.preprocessing import MinMaxScaler\n",
    "\n",
    "scaler = MinMaxScaler()\n",
    "\n",
    "for i in range(data_sequence):\n",
    "    s = scaler.partial_fit(data_part_stack[:, i, :])\n",
    "\n",
    "results = []\n",
    "for i in range(data_sequence):\n",
    "    results.append(scaler.transform(data_part_stack[:, i, :]).reshape(data_sample, 1, data_feature))\n",
    "scaled_data_part_stack = np.concatenate(results, axis = 1)\n",
    "\n",
    "train_label = data_part_stack[:, :, 1]\n",
    "train_label = scaler.fit_transform(train_label)\n",
    "train_label = np.array(train_label)"
   ],
   "execution_count": 31,
   "outputs": []
  },
  {
   "cell_type": "code",
   "metadata": {
    "colab": {
     "base_uri": "https://localhost:8080/"
    },
    "id": "bdd5EgQmZKRw",
    "outputId": "bcfdd9de-2e2a-4b92-ca9c-978503ce3365"
   },
   "source": [
    "train_feature = scaled_data_part_stack\n",
    "train_feature.shape, train_label.shape"
   ],
   "execution_count": 32,
   "outputs": [
    {
     "output_type": "execute_result",
     "data": {
      "text/plain": [
       "((10, 411, 2), (10, 411))"
      ]
     },
     "metadata": {
      "tags": []
     },
     "execution_count": 32
    }
   ]
  },
  {
   "cell_type": "code",
   "metadata": {
    "id": "gDIFujWtXJWI"
   },
   "source": [
    "# make dataset\n",
    "# find next 'end' data \n",
    "def make_dataset(data, label, window_size = 10):\n",
    "    feature_list = []\n",
    "    label_list = []\n",
    "    for i in range(len(data) - window_size):\n",
    "        feature_list.append(np.array(data.iloc[i:i + window_size]))\n",
    "        label_list.append(np.array(label.iloc[i + window_size]))\n",
    "    return np.array(feature_list), np.array(label_list)\n",
    "# dataset: (i ~ i + window_size)days feature_list and (i + window_size) label_list\n",
    "# 10개의 데이터에 그 다음날 결과 값이 한 세트"
   ],
   "execution_count": 33,
   "outputs": []
  },
  {
   "cell_type": "code",
   "metadata": {
    "id": "eDE3SwC2BW0Y"
   },
   "source": [
    "# make dataset\n",
    "# find next 'end' data \n",
    "def make_feature_dataset(data, window_size = 10):\n",
    "    feature_list = []\n",
    "    for i in range(len(data) - window_size):\n",
    "        feature_list.append(np.array(data[i:i + window_size]))\n",
    "    return np.array(feature_list)\n",
    "# dataset: (i ~ i + window_size)days feature_list and (i + window_size) label_list\n",
    "# 10개의 데이터에 그 다음날 결과 값이 한 세트"
   ],
   "execution_count": 34,
   "outputs": []
  },
  {
   "cell_type": "code",
   "metadata": {
    "id": "WwF8nbGXiSdN"
   },
   "source": [
    "# make dataset\n",
    "# find next 'end' data \n",
    "def make_label_dataset(label, window_size = 10):\n",
    "    label_list = []\n",
    "    for i in range(len(label) - window_size):\n",
    "        label_list.append(np.array(label[i + window_size]))\n",
    "    return np.array(label_list)\n",
    "# dataset: (i ~ i + window_size)days feature_list and (i + window_size) label_list\n",
    "# 10개의 데이터에 그 다음날 결과 값이 한 세트"
   ],
   "execution_count": 35,
   "outputs": []
  },
  {
   "cell_type": "code",
   "metadata": {
    "colab": {
     "base_uri": "https://localhost:8080/"
    },
    "id": "BBpEAzXbDbDR",
    "outputId": "e268e76e-4597-416d-bdaf-16832fa2b4d3"
   },
   "source": [
    "feature_part = []\n",
    "for i in range(data_sample):\n",
    "    feature_part.append(make_feature_dataset(train_feature[i][:][:], 10))\n",
    "\n",
    "train_feature = np.stack((feature_part[0:10]))\n",
    "train_feature.shape"
   ],
   "execution_count": 36,
   "outputs": [
    {
     "output_type": "execute_result",
     "data": {
      "text/plain": [
       "(10, 401, 10, 2)"
      ]
     },
     "metadata": {
      "tags": []
     },
     "execution_count": 36
    }
   ]
  },
  {
   "cell_type": "code",
   "metadata": {
    "colab": {
     "base_uri": "https://localhost:8080/"
    },
    "id": "Z73ZSVrqHxRk",
    "outputId": "505a6a1f-8c92-4c50-f8cc-adddc5eb1baf"
   },
   "source": [
    "label_part = []\n",
    "for i in range(data_sample):\n",
    "    label_part.append(make_label_dataset(train_label[i][:], 10))\n",
    "    \n",
    "train_label.shape"
   ],
   "execution_count": 38,
   "outputs": [
    {
     "output_type": "execute_result",
     "data": {
      "text/plain": [
       "(10, 411)"
      ]
     },
     "metadata": {
      "tags": []
     },
     "execution_count": 38
    }
   ]
  },
  {
   "cell_type": "markdown",
   "metadata": {
    "id": "Vd3cKX-cbF6A"
   },
   "source": [
    "# 4차원으로 나오는데 RNN은 4차원을 지원 안하므로 잠시 중단"
   ]
  }
 ]
}