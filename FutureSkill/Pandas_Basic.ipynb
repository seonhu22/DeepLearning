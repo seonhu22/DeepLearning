{
 "cells": [
  {
   "cell_type": "code",
   "execution_count": 9,
   "outputs": [
    {
     "name": "stdout",
     "output_type": "stream",
     "text": [
      "0    1\n",
      "1    2\n",
      "2    3\n",
      "3    4\n",
      "4    5\n",
      "dtype: int64\n"
     ]
    }
   ],
   "source": [
    "import pandas as pd\n",
    "\n",
    "L = [1, 2, 3, 4, 5]\n",
    "\n",
    "df = pd.Series(L)\n",
    "print(df)"
   ],
   "metadata": {
    "collapsed": false,
    "pycharm": {
     "name": "#%%1\n"
    }
   }
  },
  {
   "cell_type": "code",
   "execution_count": 3,
   "outputs": [
    {
     "data": {
      "text/plain": "          A         B         C         D\n0  0.088057  0.434633  0.455566  0.013709\n1  0.313948  0.583107  0.189876  0.033670\n2  0.634683  0.634822  0.529186  0.837428\n3  0.073663  0.876100  0.774669  0.335117\n4  0.812081  0.076595  0.018519  0.116182",
      "text/html": "<div>\n<style scoped>\n    .dataframe tbody tr th:only-of-type {\n        vertical-align: middle;\n    }\n\n    .dataframe tbody tr th {\n        vertical-align: top;\n    }\n\n    .dataframe thead th {\n        text-align: right;\n    }\n</style>\n<table border=\"1\" class=\"dataframe\">\n  <thead>\n    <tr style=\"text-align: right;\">\n      <th></th>\n      <th>A</th>\n      <th>B</th>\n      <th>C</th>\n      <th>D</th>\n    </tr>\n  </thead>\n  <tbody>\n    <tr>\n      <th>0</th>\n      <td>0.088057</td>\n      <td>0.434633</td>\n      <td>0.455566</td>\n      <td>0.013709</td>\n    </tr>\n    <tr>\n      <th>1</th>\n      <td>0.313948</td>\n      <td>0.583107</td>\n      <td>0.189876</td>\n      <td>0.033670</td>\n    </tr>\n    <tr>\n      <th>2</th>\n      <td>0.634683</td>\n      <td>0.634822</td>\n      <td>0.529186</td>\n      <td>0.837428</td>\n    </tr>\n    <tr>\n      <th>3</th>\n      <td>0.073663</td>\n      <td>0.876100</td>\n      <td>0.774669</td>\n      <td>0.335117</td>\n    </tr>\n    <tr>\n      <th>4</th>\n      <td>0.812081</td>\n      <td>0.076595</td>\n      <td>0.018519</td>\n      <td>0.116182</td>\n    </tr>\n  </tbody>\n</table>\n</div>"
     },
     "execution_count": 3,
     "metadata": {},
     "output_type": "execute_result"
    }
   ],
   "source": [
    "import pandas as pd\n",
    "import numpy as np\n",
    "\n",
    "df = pd.DataFrame(np.random.random((5, 4)))\n",
    "df.columns = ['A', 'B', 'C', 'D']\n",
    "\n",
    "df"
   ],
   "metadata": {
    "collapsed": false,
    "pycharm": {
     "name": "#%%2\n"
    }
   }
  },
  {
   "cell_type": "code",
   "execution_count": 4,
   "outputs": [],
   "source": [
    "import pandas as pd\n",
    "import numpy as np\n",
    "\n",
    "df_a = pd.DataFrame(np.random.random((5, 4)))\n",
    "df_a.columns = ['A', 'B', 'C', 'D']\n",
    "\n",
    "df_a.index = [pd.date_range('2020-01-01', periods = 5)]\n",
    "\n",
    "df_a"
   ],
   "metadata": {
    "collapsed": false,
    "pycharm": {
     "name": "#%%3\n"
    }
   }
  },
  {
   "cell_type": "code",
   "execution_count": 71,
   "outputs": [
    {
     "data": {
      "text/plain": "      A    B    C    D\n0    A0   B0   C0   D0\n1    A1   B1   C1   D1\n2    A2   B2   C2   D2\n3    A3   B3   C3   D3\n4    A4   B4   C4   D4\n5    A5   B5   C5   D5\n6    A6   B6   C6   D6\n7    A7   B7   C7   D7\n8    A8   B8   C8   D8\n9    A9   B9   C9   D9\n10  A10  B10  C10  D10\n11  A11  B11  C11  D11",
      "text/html": "<div>\n<style scoped>\n    .dataframe tbody tr th:only-of-type {\n        vertical-align: middle;\n    }\n\n    .dataframe tbody tr th {\n        vertical-align: top;\n    }\n\n    .dataframe thead th {\n        text-align: right;\n    }\n</style>\n<table border=\"1\" class=\"dataframe\">\n  <thead>\n    <tr style=\"text-align: right;\">\n      <th></th>\n      <th>A</th>\n      <th>B</th>\n      <th>C</th>\n      <th>D</th>\n    </tr>\n  </thead>\n  <tbody>\n    <tr>\n      <th>0</th>\n      <td>A0</td>\n      <td>B0</td>\n      <td>C0</td>\n      <td>D0</td>\n    </tr>\n    <tr>\n      <th>1</th>\n      <td>A1</td>\n      <td>B1</td>\n      <td>C1</td>\n      <td>D1</td>\n    </tr>\n    <tr>\n      <th>2</th>\n      <td>A2</td>\n      <td>B2</td>\n      <td>C2</td>\n      <td>D2</td>\n    </tr>\n    <tr>\n      <th>3</th>\n      <td>A3</td>\n      <td>B3</td>\n      <td>C3</td>\n      <td>D3</td>\n    </tr>\n    <tr>\n      <th>4</th>\n      <td>A4</td>\n      <td>B4</td>\n      <td>C4</td>\n      <td>D4</td>\n    </tr>\n    <tr>\n      <th>5</th>\n      <td>A5</td>\n      <td>B5</td>\n      <td>C5</td>\n      <td>D5</td>\n    </tr>\n    <tr>\n      <th>6</th>\n      <td>A6</td>\n      <td>B6</td>\n      <td>C6</td>\n      <td>D6</td>\n    </tr>\n    <tr>\n      <th>7</th>\n      <td>A7</td>\n      <td>B7</td>\n      <td>C7</td>\n      <td>D7</td>\n    </tr>\n    <tr>\n      <th>8</th>\n      <td>A8</td>\n      <td>B8</td>\n      <td>C8</td>\n      <td>D8</td>\n    </tr>\n    <tr>\n      <th>9</th>\n      <td>A9</td>\n      <td>B9</td>\n      <td>C9</td>\n      <td>D9</td>\n    </tr>\n    <tr>\n      <th>10</th>\n      <td>A10</td>\n      <td>B10</td>\n      <td>C10</td>\n      <td>D10</td>\n    </tr>\n    <tr>\n      <th>11</th>\n      <td>A11</td>\n      <td>B11</td>\n      <td>C11</td>\n      <td>D11</td>\n    </tr>\n  </tbody>\n</table>\n</div>"
     },
     "execution_count": 71,
     "metadata": {},
     "output_type": "execute_result"
    }
   ],
   "source": [
    "import pandas as pd\n",
    "\n",
    "df_b = pd.DataFrame({'A': ['A'+str(i) for i in range(12)], 'B': ['B'+str(i) for i in range(12)],\n",
    "                     'C': ['C'+str(i) for i in range(12)], 'D': ['D'+str(i) for i in range(12)]})\n",
    "\n",
    "df_b"
   ],
   "metadata": {
    "collapsed": false,
    "pycharm": {
     "name": "#%%4\n"
    }
   }
  },
  {
   "cell_type": "code",
   "execution_count": null,
   "outputs": [],
   "source": [
    "import pandas as pd\n",
    "\n",
    "cols = ['A', 'B', 'C', 'D']\n",
    "df_b = pd.DataFrame({c: [c+str(i) for i in range(12)] for c in cols})\n",
    "\n",
    "df_b[0:5]"
   ],
   "metadata": {
    "collapsed": false,
    "pycharm": {
     "name": "#%%5\n"
    }
   }
  },
  {
   "cell_type": "code",
   "execution_count": 82,
   "outputs": [
    {
     "data": {
      "text/plain": "(RangeIndex(start=0, stop=12, step=1),\n array([['A0', 'B0', 'C0', 'D0'],\n        ['A1', 'B1', 'C1', 'D1'],\n        ['A2', 'B2', 'C2', 'D2'],\n        ['A3', 'B3', 'C3', 'D3'],\n        ['A4', 'B4', 'C4', 'D4'],\n        ['A5', 'B5', 'C5', 'D5'],\n        ['A6', 'B6', 'C6', 'D6'],\n        ['A7', 'B7', 'C7', 'D7'],\n        ['A8', 'B8', 'C8', 'D8'],\n        ['A9', 'B9', 'C9', 'D9'],\n        ['A10', 'B10', 'C10', 'D10'],\n        ['A11', 'B11', 'C11', 'D11']], dtype=object),\n Index(['A', 'B', 'C', 'D'], dtype='object'))"
     },
     "execution_count": 82,
     "metadata": {},
     "output_type": "execute_result"
    }
   ],
   "source": [
    "import pandas as pd\n",
    "\n",
    "cols = ['A', 'B', 'C', 'D']\n",
    "df_b = pd.DataFrame({c: [c+str(i) for i in range(12)] for c in cols})\n",
    "\n",
    "df_b.index, df_b.values, df_b.columns"
   ],
   "metadata": {
    "collapsed": false,
    "pycharm": {
     "name": "#%%6\n"
    }
   }
  },
  {
   "cell_type": "code",
   "execution_count": 111,
   "outputs": [
    {
     "name": "stdout",
     "output_type": "stream",
     "text": [
      "<class 'pandas.core.frame.DataFrame'>\n",
      "RangeIndex: 12 entries, 0 to 11\n",
      "Data columns (total 4 columns):\n",
      " #   Column  Non-Null Count  Dtype \n",
      "---  ------  --------------  ----- \n",
      " 0   A       12 non-null     object\n",
      " 1   B       12 non-null     object\n",
      " 2   C       12 non-null     object\n",
      " 3   D       12 non-null     object\n",
      "dtypes: object(4)\n",
      "memory usage: 512.0+ bytes\n"
     ]
    }
   ],
   "source": [
    "import pandas as pd\n",
    "\n",
    "cols = ['A', 'B', 'C', 'D']\n",
    "df_b = pd.DataFrame({c: [c+str(i) for i in range(12)] for c in cols})\n",
    "\n",
    "df_b.info()"
   ],
   "metadata": {
    "collapsed": false,
    "pycharm": {
     "name": "#%%7\n"
    }
   }
  },
  {
   "cell_type": "code",
   "execution_count": 115,
   "outputs": [
    {
     "data": {
      "text/plain": "          A   B   C   D\ncount    12  12  12  12\nunique   12  12  12  12\ntop     A11  B0  C1  D0\nfreq      1   1   1   1",
      "text/html": "<div>\n<style scoped>\n    .dataframe tbody tr th:only-of-type {\n        vertical-align: middle;\n    }\n\n    .dataframe tbody tr th {\n        vertical-align: top;\n    }\n\n    .dataframe thead th {\n        text-align: right;\n    }\n</style>\n<table border=\"1\" class=\"dataframe\">\n  <thead>\n    <tr style=\"text-align: right;\">\n      <th></th>\n      <th>A</th>\n      <th>B</th>\n      <th>C</th>\n      <th>D</th>\n    </tr>\n  </thead>\n  <tbody>\n    <tr>\n      <th>count</th>\n      <td>12</td>\n      <td>12</td>\n      <td>12</td>\n      <td>12</td>\n    </tr>\n    <tr>\n      <th>unique</th>\n      <td>12</td>\n      <td>12</td>\n      <td>12</td>\n      <td>12</td>\n    </tr>\n    <tr>\n      <th>top</th>\n      <td>A11</td>\n      <td>B0</td>\n      <td>C1</td>\n      <td>D0</td>\n    </tr>\n    <tr>\n      <th>freq</th>\n      <td>1</td>\n      <td>1</td>\n      <td>1</td>\n      <td>1</td>\n    </tr>\n  </tbody>\n</table>\n</div>"
     },
     "execution_count": 115,
     "metadata": {},
     "output_type": "execute_result"
    }
   ],
   "source": [
    "import pandas as pd\n",
    "\n",
    "cols = ['A', 'B', 'C', 'D']\n",
    "df_b = pd.DataFrame({c: [c+str(i) for i in range(12)] for c in cols})\n",
    "\n",
    "df_b.describe()"
   ],
   "metadata": {
    "collapsed": false,
    "pycharm": {
     "name": "#%%8\n"
    }
   }
  },
  {
   "cell_type": "code",
   "execution_count": 134,
   "outputs": [
    {
     "data": {
      "text/plain": "                   A         B         C         D\n2020-01-04  0.945064  0.333853  0.924062  0.901324\n2020-01-03  0.770025  0.034070  0.604175  0.339858\n2020-01-01  0.907073  0.197403  0.481137  0.455538\n2020-01-05  0.010645  0.774635  0.461173  0.533492\n2020-01-02  0.716615  0.525117  0.147941  0.862102",
      "text/html": "<div>\n<style scoped>\n    .dataframe tbody tr th:only-of-type {\n        vertical-align: middle;\n    }\n\n    .dataframe tbody tr th {\n        vertical-align: top;\n    }\n\n    .dataframe thead th {\n        text-align: right;\n    }\n</style>\n<table border=\"1\" class=\"dataframe\">\n  <thead>\n    <tr style=\"text-align: right;\">\n      <th></th>\n      <th>A</th>\n      <th>B</th>\n      <th>C</th>\n      <th>D</th>\n    </tr>\n  </thead>\n  <tbody>\n    <tr>\n      <th>2020-01-04</th>\n      <td>0.945064</td>\n      <td>0.333853</td>\n      <td>0.924062</td>\n      <td>0.901324</td>\n    </tr>\n    <tr>\n      <th>2020-01-03</th>\n      <td>0.770025</td>\n      <td>0.034070</td>\n      <td>0.604175</td>\n      <td>0.339858</td>\n    </tr>\n    <tr>\n      <th>2020-01-01</th>\n      <td>0.907073</td>\n      <td>0.197403</td>\n      <td>0.481137</td>\n      <td>0.455538</td>\n    </tr>\n    <tr>\n      <th>2020-01-05</th>\n      <td>0.010645</td>\n      <td>0.774635</td>\n      <td>0.461173</td>\n      <td>0.533492</td>\n    </tr>\n    <tr>\n      <th>2020-01-02</th>\n      <td>0.716615</td>\n      <td>0.525117</td>\n      <td>0.147941</td>\n      <td>0.862102</td>\n    </tr>\n  </tbody>\n</table>\n</div>"
     },
     "execution_count": 134,
     "metadata": {},
     "output_type": "execute_result"
    }
   ],
   "source": [
    "import pandas as pd\n",
    "import numpy as np\n",
    "\n",
    "df_a = pd.DataFrame(np.random.random((5, 4)))\n",
    "df_a.columns = ['A', 'B', 'C', 'D']\n",
    "\n",
    "df_a.index = [pd.date_range('2020-01-01', periods = 5)]\n",
    "\n",
    "df_a.sort_values(by = ['C'], ascending = False)"
   ],
   "metadata": {
    "collapsed": false,
    "pycharm": {
     "name": "#%%9\n"
    }
   }
  },
  {
   "cell_type": "code",
   "execution_count": 144,
   "outputs": [
    {
     "data": {
      "text/plain": "2020-01-01    0.409483\n2020-01-02    0.766840\n2020-01-03    0.049753\n2020-01-04    0.160862\n2020-01-05    0.826048\nName: A, dtype: float64"
     },
     "execution_count": 144,
     "metadata": {},
     "output_type": "execute_result"
    }
   ],
   "source": [
    "import pandas as pd\n",
    "import numpy as np\n",
    "\n",
    "df_a = pd.DataFrame(np.random.random((5, 4)))\n",
    "df_a.columns = ['A', 'B', 'C', 'D']\n",
    "\n",
    "df_a.index = [pd.date_range('2020-01-01', periods = 5)]\n",
    "\n",
    "df_a.iloc(axis = 1)[0]\n",
    "#df_a['A']"
   ],
   "metadata": {
    "collapsed": false,
    "pycharm": {
     "name": "#%%10\n"
    }
   }
  },
  {
   "cell_type": "code",
   "execution_count": 170,
   "outputs": [
    {
     "data": {
      "text/plain": "(A    0.137684\n B    0.870918\n C    0.634943\n D    0.009915\n Name: (2020-01-05 00:00:00,), dtype: float64,\n A    0.271213\n B    0.689840\n C    0.786964\n D    0.067659\n Name: (2020-01-03 00:00:00,), dtype: float64)"
     },
     "execution_count": 170,
     "metadata": {},
     "output_type": "execute_result"
    }
   ],
   "source": [
    "import pandas as pd\n",
    "import numpy as np\n",
    "\n",
    "df_a = pd.DataFrame(np.random.random((5, 4)))\n",
    "df_a.columns = ['A', 'B', 'C', 'D']\n",
    "\n",
    "df_a.index = [pd.date_range('2020-01-01', periods = 5)]\n",
    "\n",
    "df_a.iloc[2], df_a.iloc[4]"
   ],
   "metadata": {
    "collapsed": false,
    "pycharm": {
     "name": "#%%11\n"
    }
   }
  },
  {
   "cell_type": "code",
   "execution_count": 150,
   "outputs": [
    {
     "data": {
      "text/plain": "                   A         B\n2020-01-02  0.949255  0.732938\n2020-01-03  0.769507  0.739247\n2020-01-04  0.880763  0.757548",
      "text/html": "<div>\n<style scoped>\n    .dataframe tbody tr th:only-of-type {\n        vertical-align: middle;\n    }\n\n    .dataframe tbody tr th {\n        vertical-align: top;\n    }\n\n    .dataframe thead th {\n        text-align: right;\n    }\n</style>\n<table border=\"1\" class=\"dataframe\">\n  <thead>\n    <tr style=\"text-align: right;\">\n      <th></th>\n      <th>A</th>\n      <th>B</th>\n    </tr>\n  </thead>\n  <tbody>\n    <tr>\n      <th>2020-01-02</th>\n      <td>0.949255</td>\n      <td>0.732938</td>\n    </tr>\n    <tr>\n      <th>2020-01-03</th>\n      <td>0.769507</td>\n      <td>0.739247</td>\n    </tr>\n    <tr>\n      <th>2020-01-04</th>\n      <td>0.880763</td>\n      <td>0.757548</td>\n    </tr>\n  </tbody>\n</table>\n</div>"
     },
     "execution_count": 150,
     "metadata": {},
     "output_type": "execute_result"
    }
   ],
   "source": [
    "import pandas as pd\n",
    "import numpy as np\n",
    "\n",
    "df_a = pd.DataFrame(np.random.random((5, 4)))\n",
    "df_a.columns = ['A', 'B', 'C', 'D']\n",
    "\n",
    "df_a.index = [pd.date_range('2020-01-01', periods = 5)]\n",
    "\n",
    "df_a.iloc[1:4, 0:2]"
   ],
   "metadata": {
    "collapsed": false,
    "pycharm": {
     "name": "#%%12\n"
    }
   }
  },
  {
   "cell_type": "code",
   "execution_count": 169,
   "outputs": [
    {
     "data": {
      "text/plain": "                   A         B         C         D\n2020-01-01  0.184289  0.195040  0.788643  0.261254\n2020-01-02  0.254648  0.735686  0.868353  0.462014\n2020-01-03  0.319123  0.654806  0.318481  0.633972\n2020-01-04  0.087386  0.607374  0.459802  0.577839\n2020-01-05  0.768531  0.971541  0.812243  0.477228",
      "text/html": "<div>\n<style scoped>\n    .dataframe tbody tr th:only-of-type {\n        vertical-align: middle;\n    }\n\n    .dataframe tbody tr th {\n        vertical-align: top;\n    }\n\n    .dataframe thead th {\n        text-align: right;\n    }\n</style>\n<table border=\"1\" class=\"dataframe\">\n  <thead>\n    <tr style=\"text-align: right;\">\n      <th></th>\n      <th>A</th>\n      <th>B</th>\n      <th>C</th>\n      <th>D</th>\n    </tr>\n  </thead>\n  <tbody>\n    <tr>\n      <th>2020-01-01</th>\n      <td>0.184289</td>\n      <td>0.195040</td>\n      <td>0.788643</td>\n      <td>0.261254</td>\n    </tr>\n    <tr>\n      <th>2020-01-02</th>\n      <td>0.254648</td>\n      <td>0.735686</td>\n      <td>0.868353</td>\n      <td>0.462014</td>\n    </tr>\n    <tr>\n      <th>2020-01-03</th>\n      <td>0.319123</td>\n      <td>0.654806</td>\n      <td>0.318481</td>\n      <td>0.633972</td>\n    </tr>\n    <tr>\n      <th>2020-01-04</th>\n      <td>0.087386</td>\n      <td>0.607374</td>\n      <td>0.459802</td>\n      <td>0.577839</td>\n    </tr>\n    <tr>\n      <th>2020-01-05</th>\n      <td>0.768531</td>\n      <td>0.971541</td>\n      <td>0.812243</td>\n      <td>0.477228</td>\n    </tr>\n  </tbody>\n</table>\n</div>"
     },
     "execution_count": 169,
     "metadata": {},
     "output_type": "execute_result"
    }
   ],
   "source": [
    "import pandas as pd\n",
    "import numpy as np\n",
    "\n",
    "df_a = pd.DataFrame(np.random.random((5, 4)))\n",
    "df_a.columns = ['A', 'B', 'C', 'D']\n",
    "\n",
    "df_a.index = [pd.date_range('2020-01-01', periods = 5)]\n",
    "\n",
    "df_a[df_a > 0]"
   ],
   "metadata": {
    "collapsed": false,
    "pycharm": {
     "name": "#%%13\n"
    }
   }
  },
  {
   "cell_type": "code",
   "execution_count": 179,
   "outputs": [
    {
     "data": {
      "text/plain": "   A  B  C\n0  1  3  5\n1  2  4  6\n0 -1 -3 -5\n1 -2 -4 -6",
      "text/html": "<div>\n<style scoped>\n    .dataframe tbody tr th:only-of-type {\n        vertical-align: middle;\n    }\n\n    .dataframe tbody tr th {\n        vertical-align: top;\n    }\n\n    .dataframe thead th {\n        text-align: right;\n    }\n</style>\n<table border=\"1\" class=\"dataframe\">\n  <thead>\n    <tr style=\"text-align: right;\">\n      <th></th>\n      <th>A</th>\n      <th>B</th>\n      <th>C</th>\n    </tr>\n  </thead>\n  <tbody>\n    <tr>\n      <th>0</th>\n      <td>1</td>\n      <td>3</td>\n      <td>5</td>\n    </tr>\n    <tr>\n      <th>1</th>\n      <td>2</td>\n      <td>4</td>\n      <td>6</td>\n    </tr>\n    <tr>\n      <th>0</th>\n      <td>-1</td>\n      <td>-3</td>\n      <td>-5</td>\n    </tr>\n    <tr>\n      <th>1</th>\n      <td>-2</td>\n      <td>-4</td>\n      <td>-6</td>\n    </tr>\n  </tbody>\n</table>\n</div>"
     },
     "execution_count": 179,
     "metadata": {},
     "output_type": "execute_result"
    }
   ],
   "source": [
    "import pandas as pd\n",
    "\n",
    "df_1 = pd.DataFrame({'A': [1, 2], 'B': [3, 4], 'C': [5, 6]})\n",
    "df_2 = pd.DataFrame({'A': [-1, -2], 'B': [-3, -4], 'C': [-5, -6]})\n",
    "\n",
    "pd.concat([df_1, df_2])"
   ],
   "metadata": {
    "collapsed": false,
    "pycharm": {
     "name": "#%%14\n"
    }
   }
  },
  {
   "cell_type": "code",
   "execution_count": 180,
   "outputs": [
    {
     "data": {
      "text/plain": "   A  B  C  A  B  C\n0  1  3  5 -1 -3 -5\n1  2  4  6 -2 -4 -6",
      "text/html": "<div>\n<style scoped>\n    .dataframe tbody tr th:only-of-type {\n        vertical-align: middle;\n    }\n\n    .dataframe tbody tr th {\n        vertical-align: top;\n    }\n\n    .dataframe thead th {\n        text-align: right;\n    }\n</style>\n<table border=\"1\" class=\"dataframe\">\n  <thead>\n    <tr style=\"text-align: right;\">\n      <th></th>\n      <th>A</th>\n      <th>B</th>\n      <th>C</th>\n      <th>A</th>\n      <th>B</th>\n      <th>C</th>\n    </tr>\n  </thead>\n  <tbody>\n    <tr>\n      <th>0</th>\n      <td>1</td>\n      <td>3</td>\n      <td>5</td>\n      <td>-1</td>\n      <td>-3</td>\n      <td>-5</td>\n    </tr>\n    <tr>\n      <th>1</th>\n      <td>2</td>\n      <td>4</td>\n      <td>6</td>\n      <td>-2</td>\n      <td>-4</td>\n      <td>-6</td>\n    </tr>\n  </tbody>\n</table>\n</div>"
     },
     "execution_count": 180,
     "metadata": {},
     "output_type": "execute_result"
    }
   ],
   "source": [
    "import pandas as pd\n",
    "\n",
    "df_1 = pd.DataFrame({'A': [1, 2], 'B': [3, 4], 'C': [5, 6]})\n",
    "df_2 = pd.DataFrame({'A': [-1, -2], 'B': [-3, -4], 'C': [-5, -6]})\n",
    "\n",
    "pd.concat([df_1, df_2], axis = 1)"
   ],
   "metadata": {
    "collapsed": false,
    "pycharm": {
     "name": "#%%15\n"
    }
   }
  },
  {
   "cell_type": "code",
   "execution_count": 77,
   "outputs": [
    {
     "data": {
      "text/plain": "     PassengerId  Survived  Pclass  \\\n0              1         0       3   \n1              2         1       1   \n2              3         1       3   \n3              4         1       1   \n4              5         0       3   \n..           ...       ...     ...   \n886          887         0       2   \n887          888         1       1   \n888          889         0       3   \n889          890         1       1   \n890          891         0       3   \n\n                                                  Name     Sex   Age  SibSp  \\\n0                              Braund, Mr. Owen Harris    male  22.0      1   \n1    Cumings, Mrs. John Bradley (Florence Briggs Th...  female  38.0      1   \n2                               Heikkinen, Miss. Laina  female  26.0      0   \n3         Futrelle, Mrs. Jacques Heath (Lily May Peel)  female  35.0      1   \n4                             Allen, Mr. William Henry    male  35.0      0   \n..                                                 ...     ...   ...    ...   \n886                              Montvila, Rev. Juozas    male  27.0      0   \n887                       Graham, Miss. Margaret Edith  female  19.0      0   \n888           Johnston, Miss. Catherine Helen \"Carrie\"  female   NaN      1   \n889                              Behr, Mr. Karl Howell    male  26.0      0   \n890                                Dooley, Mr. Patrick    male  32.0      0   \n\n     Parch            Ticket     Fare Cabin Embarked  \n0        0         A/5 21171   7.2500   NaN        S  \n1        0          PC 17599  71.2833   C85        C  \n2        0  STON/O2. 3101282   7.9250   NaN        S  \n3        0            113803  53.1000  C123        S  \n4        0            373450   8.0500   NaN        S  \n..     ...               ...      ...   ...      ...  \n886      0            211536  13.0000   NaN        S  \n887      0            112053  30.0000   B42        S  \n888      2        W./C. 6607  23.4500   NaN        S  \n889      0            111369  30.0000  C148        C  \n890      0            370376   7.7500   NaN        Q  \n\n[891 rows x 12 columns]",
      "text/html": "<div>\n<style scoped>\n    .dataframe tbody tr th:only-of-type {\n        vertical-align: middle;\n    }\n\n    .dataframe tbody tr th {\n        vertical-align: top;\n    }\n\n    .dataframe thead th {\n        text-align: right;\n    }\n</style>\n<table border=\"1\" class=\"dataframe\">\n  <thead>\n    <tr style=\"text-align: right;\">\n      <th></th>\n      <th>PassengerId</th>\n      <th>Survived</th>\n      <th>Pclass</th>\n      <th>Name</th>\n      <th>Sex</th>\n      <th>Age</th>\n      <th>SibSp</th>\n      <th>Parch</th>\n      <th>Ticket</th>\n      <th>Fare</th>\n      <th>Cabin</th>\n      <th>Embarked</th>\n    </tr>\n  </thead>\n  <tbody>\n    <tr>\n      <th>0</th>\n      <td>1</td>\n      <td>0</td>\n      <td>3</td>\n      <td>Braund, Mr. Owen Harris</td>\n      <td>male</td>\n      <td>22.0</td>\n      <td>1</td>\n      <td>0</td>\n      <td>A/5 21171</td>\n      <td>7.2500</td>\n      <td>NaN</td>\n      <td>S</td>\n    </tr>\n    <tr>\n      <th>1</th>\n      <td>2</td>\n      <td>1</td>\n      <td>1</td>\n      <td>Cumings, Mrs. John Bradley (Florence Briggs Th...</td>\n      <td>female</td>\n      <td>38.0</td>\n      <td>1</td>\n      <td>0</td>\n      <td>PC 17599</td>\n      <td>71.2833</td>\n      <td>C85</td>\n      <td>C</td>\n    </tr>\n    <tr>\n      <th>2</th>\n      <td>3</td>\n      <td>1</td>\n      <td>3</td>\n      <td>Heikkinen, Miss. Laina</td>\n      <td>female</td>\n      <td>26.0</td>\n      <td>0</td>\n      <td>0</td>\n      <td>STON/O2. 3101282</td>\n      <td>7.9250</td>\n      <td>NaN</td>\n      <td>S</td>\n    </tr>\n    <tr>\n      <th>3</th>\n      <td>4</td>\n      <td>1</td>\n      <td>1</td>\n      <td>Futrelle, Mrs. Jacques Heath (Lily May Peel)</td>\n      <td>female</td>\n      <td>35.0</td>\n      <td>1</td>\n      <td>0</td>\n      <td>113803</td>\n      <td>53.1000</td>\n      <td>C123</td>\n      <td>S</td>\n    </tr>\n    <tr>\n      <th>4</th>\n      <td>5</td>\n      <td>0</td>\n      <td>3</td>\n      <td>Allen, Mr. William Henry</td>\n      <td>male</td>\n      <td>35.0</td>\n      <td>0</td>\n      <td>0</td>\n      <td>373450</td>\n      <td>8.0500</td>\n      <td>NaN</td>\n      <td>S</td>\n    </tr>\n    <tr>\n      <th>...</th>\n      <td>...</td>\n      <td>...</td>\n      <td>...</td>\n      <td>...</td>\n      <td>...</td>\n      <td>...</td>\n      <td>...</td>\n      <td>...</td>\n      <td>...</td>\n      <td>...</td>\n      <td>...</td>\n      <td>...</td>\n    </tr>\n    <tr>\n      <th>886</th>\n      <td>887</td>\n      <td>0</td>\n      <td>2</td>\n      <td>Montvila, Rev. Juozas</td>\n      <td>male</td>\n      <td>27.0</td>\n      <td>0</td>\n      <td>0</td>\n      <td>211536</td>\n      <td>13.0000</td>\n      <td>NaN</td>\n      <td>S</td>\n    </tr>\n    <tr>\n      <th>887</th>\n      <td>888</td>\n      <td>1</td>\n      <td>1</td>\n      <td>Graham, Miss. Margaret Edith</td>\n      <td>female</td>\n      <td>19.0</td>\n      <td>0</td>\n      <td>0</td>\n      <td>112053</td>\n      <td>30.0000</td>\n      <td>B42</td>\n      <td>S</td>\n    </tr>\n    <tr>\n      <th>888</th>\n      <td>889</td>\n      <td>0</td>\n      <td>3</td>\n      <td>Johnston, Miss. Catherine Helen \"Carrie\"</td>\n      <td>female</td>\n      <td>NaN</td>\n      <td>1</td>\n      <td>2</td>\n      <td>W./C. 6607</td>\n      <td>23.4500</td>\n      <td>NaN</td>\n      <td>S</td>\n    </tr>\n    <tr>\n      <th>889</th>\n      <td>890</td>\n      <td>1</td>\n      <td>1</td>\n      <td>Behr, Mr. Karl Howell</td>\n      <td>male</td>\n      <td>26.0</td>\n      <td>0</td>\n      <td>0</td>\n      <td>111369</td>\n      <td>30.0000</td>\n      <td>C148</td>\n      <td>C</td>\n    </tr>\n    <tr>\n      <th>890</th>\n      <td>891</td>\n      <td>0</td>\n      <td>3</td>\n      <td>Dooley, Mr. Patrick</td>\n      <td>male</td>\n      <td>32.0</td>\n      <td>0</td>\n      <td>0</td>\n      <td>370376</td>\n      <td>7.7500</td>\n      <td>NaN</td>\n      <td>Q</td>\n    </tr>\n  </tbody>\n</table>\n<p>891 rows × 12 columns</p>\n</div>"
     },
     "execution_count": 77,
     "metadata": {},
     "output_type": "execute_result"
    }
   ],
   "source": [
    "import pandas as pd\n",
    "\n",
    "df = pd.read_csv('./data/train.csv')\n",
    "\n",
    "df"
   ],
   "metadata": {
    "collapsed": false,
    "pycharm": {
     "name": "#%%16\n"
    }
   }
  },
  {
   "cell_type": "code",
   "execution_count": 78,
   "outputs": [
    {
     "data": {
      "text/plain": "    symboling normalized-losses         make fuel-type aspiration  \\\n0           3                 ?  alfa-romero       gas        std   \n1           3                 ?  alfa-romero       gas        std   \n2           1                 ?  alfa-romero       gas        std   \n3           2               164         audi       gas        std   \n4           2               164         audi       gas        std   \n..        ...               ...          ...       ...        ...   \n93          1               103       nissan       gas        std   \n94          1               128       nissan       gas        std   \n95          1               128       nissan       gas        std   \n96          1               122       nissan       gas        std   \n97          1               103       nissan       gas        std   \n\n   num-of-doors   body-style drive-wheels engine-location  wheel-base  length  \\\n0           two  convertible          rwd           front        88.6   168.8   \n1           two  convertible          rwd           front        88.6   168.8   \n2           two    hatchback          rwd           front        94.5   171.2   \n3          four        sedan          fwd           front        99.8   176.6   \n4          four        sedan          4wd           front        99.4   176.6   \n..          ...          ...          ...             ...         ...     ...   \n93         four        wagon          fwd           front        94.5   170.2   \n94          two        sedan          fwd           front        94.5   165.3   \n95          two    hatchback          fwd           front        94.5   165.6   \n96         four        sedan          fwd           front        94.5   165.3   \n97         four        wagon          fwd           front        94.5   170.2   \n\n    width  height  curb-weight  \n0    64.1    48.8         2548  \n1    64.1    48.8         2548  \n2    65.5    52.4         2823  \n3    66.2    54.3         2337  \n4    66.4    54.3         2824  \n..    ...     ...          ...  \n93   63.8    53.5         2024  \n94   63.8    54.5         1951  \n95   63.8    53.3         2028  \n96   63.8    54.5         1971  \n97   63.8    53.5         2037  \n\n[98 rows x 14 columns]",
      "text/html": "<div>\n<style scoped>\n    .dataframe tbody tr th:only-of-type {\n        vertical-align: middle;\n    }\n\n    .dataframe tbody tr th {\n        vertical-align: top;\n    }\n\n    .dataframe thead th {\n        text-align: right;\n    }\n</style>\n<table border=\"1\" class=\"dataframe\">\n  <thead>\n    <tr style=\"text-align: right;\">\n      <th></th>\n      <th>symboling</th>\n      <th>normalized-losses</th>\n      <th>make</th>\n      <th>fuel-type</th>\n      <th>aspiration</th>\n      <th>num-of-doors</th>\n      <th>body-style</th>\n      <th>drive-wheels</th>\n      <th>engine-location</th>\n      <th>wheel-base</th>\n      <th>length</th>\n      <th>width</th>\n      <th>height</th>\n      <th>curb-weight</th>\n    </tr>\n  </thead>\n  <tbody>\n    <tr>\n      <th>0</th>\n      <td>3</td>\n      <td>?</td>\n      <td>alfa-romero</td>\n      <td>gas</td>\n      <td>std</td>\n      <td>two</td>\n      <td>convertible</td>\n      <td>rwd</td>\n      <td>front</td>\n      <td>88.6</td>\n      <td>168.8</td>\n      <td>64.1</td>\n      <td>48.8</td>\n      <td>2548</td>\n    </tr>\n    <tr>\n      <th>1</th>\n      <td>3</td>\n      <td>?</td>\n      <td>alfa-romero</td>\n      <td>gas</td>\n      <td>std</td>\n      <td>two</td>\n      <td>convertible</td>\n      <td>rwd</td>\n      <td>front</td>\n      <td>88.6</td>\n      <td>168.8</td>\n      <td>64.1</td>\n      <td>48.8</td>\n      <td>2548</td>\n    </tr>\n    <tr>\n      <th>2</th>\n      <td>1</td>\n      <td>?</td>\n      <td>alfa-romero</td>\n      <td>gas</td>\n      <td>std</td>\n      <td>two</td>\n      <td>hatchback</td>\n      <td>rwd</td>\n      <td>front</td>\n      <td>94.5</td>\n      <td>171.2</td>\n      <td>65.5</td>\n      <td>52.4</td>\n      <td>2823</td>\n    </tr>\n    <tr>\n      <th>3</th>\n      <td>2</td>\n      <td>164</td>\n      <td>audi</td>\n      <td>gas</td>\n      <td>std</td>\n      <td>four</td>\n      <td>sedan</td>\n      <td>fwd</td>\n      <td>front</td>\n      <td>99.8</td>\n      <td>176.6</td>\n      <td>66.2</td>\n      <td>54.3</td>\n      <td>2337</td>\n    </tr>\n    <tr>\n      <th>4</th>\n      <td>2</td>\n      <td>164</td>\n      <td>audi</td>\n      <td>gas</td>\n      <td>std</td>\n      <td>four</td>\n      <td>sedan</td>\n      <td>4wd</td>\n      <td>front</td>\n      <td>99.4</td>\n      <td>176.6</td>\n      <td>66.4</td>\n      <td>54.3</td>\n      <td>2824</td>\n    </tr>\n    <tr>\n      <th>...</th>\n      <td>...</td>\n      <td>...</td>\n      <td>...</td>\n      <td>...</td>\n      <td>...</td>\n      <td>...</td>\n      <td>...</td>\n      <td>...</td>\n      <td>...</td>\n      <td>...</td>\n      <td>...</td>\n      <td>...</td>\n      <td>...</td>\n      <td>...</td>\n    </tr>\n    <tr>\n      <th>93</th>\n      <td>1</td>\n      <td>103</td>\n      <td>nissan</td>\n      <td>gas</td>\n      <td>std</td>\n      <td>four</td>\n      <td>wagon</td>\n      <td>fwd</td>\n      <td>front</td>\n      <td>94.5</td>\n      <td>170.2</td>\n      <td>63.8</td>\n      <td>53.5</td>\n      <td>2024</td>\n    </tr>\n    <tr>\n      <th>94</th>\n      <td>1</td>\n      <td>128</td>\n      <td>nissan</td>\n      <td>gas</td>\n      <td>std</td>\n      <td>two</td>\n      <td>sedan</td>\n      <td>fwd</td>\n      <td>front</td>\n      <td>94.5</td>\n      <td>165.3</td>\n      <td>63.8</td>\n      <td>54.5</td>\n      <td>1951</td>\n    </tr>\n    <tr>\n      <th>95</th>\n      <td>1</td>\n      <td>128</td>\n      <td>nissan</td>\n      <td>gas</td>\n      <td>std</td>\n      <td>two</td>\n      <td>hatchback</td>\n      <td>fwd</td>\n      <td>front</td>\n      <td>94.5</td>\n      <td>165.6</td>\n      <td>63.8</td>\n      <td>53.3</td>\n      <td>2028</td>\n    </tr>\n    <tr>\n      <th>96</th>\n      <td>1</td>\n      <td>122</td>\n      <td>nissan</td>\n      <td>gas</td>\n      <td>std</td>\n      <td>four</td>\n      <td>sedan</td>\n      <td>fwd</td>\n      <td>front</td>\n      <td>94.5</td>\n      <td>165.3</td>\n      <td>63.8</td>\n      <td>54.5</td>\n      <td>1971</td>\n    </tr>\n    <tr>\n      <th>97</th>\n      <td>1</td>\n      <td>103</td>\n      <td>nissan</td>\n      <td>gas</td>\n      <td>std</td>\n      <td>four</td>\n      <td>wagon</td>\n      <td>fwd</td>\n      <td>front</td>\n      <td>94.5</td>\n      <td>170.2</td>\n      <td>63.8</td>\n      <td>53.5</td>\n      <td>2037</td>\n    </tr>\n  </tbody>\n</table>\n<p>98 rows × 14 columns</p>\n</div>"
     },
     "execution_count": 78,
     "metadata": {},
     "output_type": "execute_result"
    }
   ],
   "source": [
    "import pandas as pd\n",
    "\n",
    "df = pd.read_excel('./data/report.xlsx', sheet_name = 'report')\n",
    "\n",
    "df"
   ],
   "metadata": {
    "collapsed": false,
    "pycharm": {
     "name": "#%%17\n"
    }
   }
  },
  {
   "cell_type": "code",
   "execution_count": 80,
   "outputs": [],
   "source": [
    "import pandas as pd\n",
    "\n",
    "df = pd.read_csv('./data/train.csv')\n",
    "\n",
    "df = df.drop(labels = ['PassengerId', 'Name', 'Ticket'], axis = 1)\n",
    "\n",
    "df.to_csv('./result/train(edited).csv')"
   ],
   "metadata": {
    "collapsed": false,
    "pycharm": {
     "name": "#%%18\n"
    }
   }
  },
  {
   "cell_type": "code",
   "execution_count": 81,
   "outputs": [
    {
     "data": {
      "text/plain": "     A    B    C\n0  1.0 -1.0  2.0\n2  3.0 -3.0  4.0\n3  4.0 -4.0  7.0",
      "text/html": "<div>\n<style scoped>\n    .dataframe tbody tr th:only-of-type {\n        vertical-align: middle;\n    }\n\n    .dataframe tbody tr th {\n        vertical-align: top;\n    }\n\n    .dataframe thead th {\n        text-align: right;\n    }\n</style>\n<table border=\"1\" class=\"dataframe\">\n  <thead>\n    <tr style=\"text-align: right;\">\n      <th></th>\n      <th>A</th>\n      <th>B</th>\n      <th>C</th>\n    </tr>\n  </thead>\n  <tbody>\n    <tr>\n      <th>0</th>\n      <td>1.0</td>\n      <td>-1.0</td>\n      <td>2.0</td>\n    </tr>\n    <tr>\n      <th>2</th>\n      <td>3.0</td>\n      <td>-3.0</td>\n      <td>4.0</td>\n    </tr>\n    <tr>\n      <th>3</th>\n      <td>4.0</td>\n      <td>-4.0</td>\n      <td>7.0</td>\n    </tr>\n  </tbody>\n</table>\n</div>"
     },
     "execution_count": 81,
     "metadata": {},
     "output_type": "execute_result"
    }
   ],
   "source": [
    "import pandas as pd\n",
    "\n",
    "df_c = pd.read_excel('./data/toy.xlsx')\n",
    "\n",
    "df_c.dropna()"
   ],
   "metadata": {
    "collapsed": false,
    "pycharm": {
     "name": "#%%19\n"
    }
   }
  },
  {
   "cell_type": "code",
   "execution_count": 82,
   "outputs": [
    {
     "data": {
      "text/plain": "     A    B     C\n0  1.0 -1.0   2.0\n1  2.0 -1.0   3.0\n2  3.0 -3.0   4.0\n3  4.0 -4.0   7.0\n4  5.0 -4.0   7.0\n5  5.0 -6.0  10.0",
      "text/html": "<div>\n<style scoped>\n    .dataframe tbody tr th:only-of-type {\n        vertical-align: middle;\n    }\n\n    .dataframe tbody tr th {\n        vertical-align: top;\n    }\n\n    .dataframe thead th {\n        text-align: right;\n    }\n</style>\n<table border=\"1\" class=\"dataframe\">\n  <thead>\n    <tr style=\"text-align: right;\">\n      <th></th>\n      <th>A</th>\n      <th>B</th>\n      <th>C</th>\n    </tr>\n  </thead>\n  <tbody>\n    <tr>\n      <th>0</th>\n      <td>1.0</td>\n      <td>-1.0</td>\n      <td>2.0</td>\n    </tr>\n    <tr>\n      <th>1</th>\n      <td>2.0</td>\n      <td>-1.0</td>\n      <td>3.0</td>\n    </tr>\n    <tr>\n      <th>2</th>\n      <td>3.0</td>\n      <td>-3.0</td>\n      <td>4.0</td>\n    </tr>\n    <tr>\n      <th>3</th>\n      <td>4.0</td>\n      <td>-4.0</td>\n      <td>7.0</td>\n    </tr>\n    <tr>\n      <th>4</th>\n      <td>5.0</td>\n      <td>-4.0</td>\n      <td>7.0</td>\n    </tr>\n    <tr>\n      <th>5</th>\n      <td>5.0</td>\n      <td>-6.0</td>\n      <td>10.0</td>\n    </tr>\n  </tbody>\n</table>\n</div>"
     },
     "execution_count": 82,
     "metadata": {},
     "output_type": "execute_result"
    }
   ],
   "source": [
    "import pandas as pd\n",
    "\n",
    "df_c = pd.read_excel('./data/toy.xlsx')\n",
    "\n",
    "df_c.fillna(method = 'ffill')"
   ],
   "metadata": {
    "collapsed": false,
    "pycharm": {
     "name": "#%%20\n"
    }
   }
  },
  {
   "cell_type": "code",
   "execution_count": 83,
   "outputs": [
    {
     "data": {
      "text/plain": "     A    B     C\n0  1.0 -1.0   2.0\n1  2.0 -3.5   3.0\n2  3.0 -3.0   4.0\n3  4.0 -4.0   7.0\n4  5.0 -3.5   5.2\n5  3.0 -6.0  10.0",
      "text/html": "<div>\n<style scoped>\n    .dataframe tbody tr th:only-of-type {\n        vertical-align: middle;\n    }\n\n    .dataframe tbody tr th {\n        vertical-align: top;\n    }\n\n    .dataframe thead th {\n        text-align: right;\n    }\n</style>\n<table border=\"1\" class=\"dataframe\">\n  <thead>\n    <tr style=\"text-align: right;\">\n      <th></th>\n      <th>A</th>\n      <th>B</th>\n      <th>C</th>\n    </tr>\n  </thead>\n  <tbody>\n    <tr>\n      <th>0</th>\n      <td>1.0</td>\n      <td>-1.0</td>\n      <td>2.0</td>\n    </tr>\n    <tr>\n      <th>1</th>\n      <td>2.0</td>\n      <td>-3.5</td>\n      <td>3.0</td>\n    </tr>\n    <tr>\n      <th>2</th>\n      <td>3.0</td>\n      <td>-3.0</td>\n      <td>4.0</td>\n    </tr>\n    <tr>\n      <th>3</th>\n      <td>4.0</td>\n      <td>-4.0</td>\n      <td>7.0</td>\n    </tr>\n    <tr>\n      <th>4</th>\n      <td>5.0</td>\n      <td>-3.5</td>\n      <td>5.2</td>\n    </tr>\n    <tr>\n      <th>5</th>\n      <td>3.0</td>\n      <td>-6.0</td>\n      <td>10.0</td>\n    </tr>\n  </tbody>\n</table>\n</div>"
     },
     "execution_count": 83,
     "metadata": {},
     "output_type": "execute_result"
    }
   ],
   "source": [
    "import pandas as pd\n",
    "\n",
    "df_c = pd.read_excel('./data/toy.xlsx')\n",
    "\n",
    "df_c.fillna(df_c.mean())"
   ],
   "metadata": {
    "collapsed": false,
    "pycharm": {
     "name": "#%%21\n"
    }
   }
  },
  {
   "cell_type": "code",
   "execution_count": 85,
   "outputs": [
    {
     "data": {
      "text/plain": "          A         B          C\n0  1.000000 -1.000000   2.000000\n1  2.000000  1.566667   3.000000\n2  3.000000 -3.000000   4.000000\n3  4.000000 -4.000000   7.000000\n4  5.000000  1.566667   1.566667\n5  1.566667 -6.000000  10.000000",
      "text/html": "<div>\n<style scoped>\n    .dataframe tbody tr th:only-of-type {\n        vertical-align: middle;\n    }\n\n    .dataframe tbody tr th {\n        vertical-align: top;\n    }\n\n    .dataframe thead th {\n        text-align: right;\n    }\n</style>\n<table border=\"1\" class=\"dataframe\">\n  <thead>\n    <tr style=\"text-align: right;\">\n      <th></th>\n      <th>A</th>\n      <th>B</th>\n      <th>C</th>\n    </tr>\n  </thead>\n  <tbody>\n    <tr>\n      <th>0</th>\n      <td>1.000000</td>\n      <td>-1.000000</td>\n      <td>2.000000</td>\n    </tr>\n    <tr>\n      <th>1</th>\n      <td>2.000000</td>\n      <td>1.566667</td>\n      <td>3.000000</td>\n    </tr>\n    <tr>\n      <th>2</th>\n      <td>3.000000</td>\n      <td>-3.000000</td>\n      <td>4.000000</td>\n    </tr>\n    <tr>\n      <th>3</th>\n      <td>4.000000</td>\n      <td>-4.000000</td>\n      <td>7.000000</td>\n    </tr>\n    <tr>\n      <th>4</th>\n      <td>5.000000</td>\n      <td>1.566667</td>\n      <td>1.566667</td>\n    </tr>\n    <tr>\n      <th>5</th>\n      <td>1.566667</td>\n      <td>-6.000000</td>\n      <td>10.000000</td>\n    </tr>\n  </tbody>\n</table>\n</div>"
     },
     "execution_count": 85,
     "metadata": {},
     "output_type": "execute_result"
    }
   ],
   "source": [
    "import pandas as pd\n",
    "\n",
    "df_c = pd.read_excel('./data/toy.xlsx')\n",
    "\n",
    "df_c.fillna(df_c.mean().mean())"
   ],
   "metadata": {
    "collapsed": false,
    "pycharm": {
     "name": "#%%22\n"
    }
   }
  },
  {
   "cell_type": "code",
   "execution_count": 64,
   "outputs": [
    {
     "data": {
      "text/plain": "   A  B  C        평균\n0  1 -1  2  0.666667\n1  2 -2  3  1.000000\n2  3 -3  4  1.333333\n3  4 -4  7  2.333333\n4  5 -5  8  2.666667",
      "text/html": "<div>\n<style scoped>\n    .dataframe tbody tr th:only-of-type {\n        vertical-align: middle;\n    }\n\n    .dataframe tbody tr th {\n        vertical-align: top;\n    }\n\n    .dataframe thead th {\n        text-align: right;\n    }\n</style>\n<table border=\"1\" class=\"dataframe\">\n  <thead>\n    <tr style=\"text-align: right;\">\n      <th></th>\n      <th>A</th>\n      <th>B</th>\n      <th>C</th>\n      <th>평균</th>\n    </tr>\n  </thead>\n  <tbody>\n    <tr>\n      <th>0</th>\n      <td>1</td>\n      <td>-1</td>\n      <td>2</td>\n      <td>0.666667</td>\n    </tr>\n    <tr>\n      <th>1</th>\n      <td>2</td>\n      <td>-2</td>\n      <td>3</td>\n      <td>1.000000</td>\n    </tr>\n    <tr>\n      <th>2</th>\n      <td>3</td>\n      <td>-3</td>\n      <td>4</td>\n      <td>1.333333</td>\n    </tr>\n    <tr>\n      <th>3</th>\n      <td>4</td>\n      <td>-4</td>\n      <td>7</td>\n      <td>2.333333</td>\n    </tr>\n    <tr>\n      <th>4</th>\n      <td>5</td>\n      <td>-5</td>\n      <td>8</td>\n      <td>2.666667</td>\n    </tr>\n  </tbody>\n</table>\n</div>"
     },
     "execution_count": 64,
     "metadata": {},
     "output_type": "execute_result"
    }
   ],
   "source": [
    "import pandas as pd\n",
    "\n",
    "df = pd.DataFrame({'A' : [1, 2, 3, 4, 5], 'B' : [-1, -2, -3, -4, -5], 'C' : [2, 3, 4, 7, 8]})\n",
    "\n",
    "df['평균'] = [df.mean(axis = 1)[i] for i in range(5)]\n",
    "\n",
    "df"
   ],
   "metadata": {
    "collapsed": false,
    "pycharm": {
     "name": "#%%23\n"
    }
   }
  },
  {
   "cell_type": "code",
   "execution_count": 95,
   "outputs": [
    {
     "data": {
      "text/plain": "   A  B  C        평균  합계\n0  1 -1  2  0.666667   2\n1  2 -2  3  1.000000   3\n2  3 -3  4  1.333333   4\n3  4 -4  7  2.333333   7\n4  5 -5  8  2.666667   8",
      "text/html": "<div>\n<style scoped>\n    .dataframe tbody tr th:only-of-type {\n        vertical-align: middle;\n    }\n\n    .dataframe tbody tr th {\n        vertical-align: top;\n    }\n\n    .dataframe thead th {\n        text-align: right;\n    }\n</style>\n<table border=\"1\" class=\"dataframe\">\n  <thead>\n    <tr style=\"text-align: right;\">\n      <th></th>\n      <th>A</th>\n      <th>B</th>\n      <th>C</th>\n      <th>평균</th>\n      <th>합계</th>\n    </tr>\n  </thead>\n  <tbody>\n    <tr>\n      <th>0</th>\n      <td>1</td>\n      <td>-1</td>\n      <td>2</td>\n      <td>0.666667</td>\n      <td>2</td>\n    </tr>\n    <tr>\n      <th>1</th>\n      <td>2</td>\n      <td>-2</td>\n      <td>3</td>\n      <td>1.000000</td>\n      <td>3</td>\n    </tr>\n    <tr>\n      <th>2</th>\n      <td>3</td>\n      <td>-3</td>\n      <td>4</td>\n      <td>1.333333</td>\n      <td>4</td>\n    </tr>\n    <tr>\n      <th>3</th>\n      <td>4</td>\n      <td>-4</td>\n      <td>7</td>\n      <td>2.333333</td>\n      <td>7</td>\n    </tr>\n    <tr>\n      <th>4</th>\n      <td>5</td>\n      <td>-5</td>\n      <td>8</td>\n      <td>2.666667</td>\n      <td>8</td>\n    </tr>\n  </tbody>\n</table>\n</div>"
     },
     "execution_count": 95,
     "metadata": {},
     "output_type": "execute_result"
    }
   ],
   "source": [
    "import pandas as pd\n",
    "\n",
    "df = pd.DataFrame({'A' : [1, 2, 3, 4, 5], 'B' : [-1, -2, -3, -4, -5], 'C' : [2, 3, 4, 7, 8]})\n",
    "\n",
    "df_mean = [df.mean(axis = 1)[i] for i in range(5)]\n",
    "df_sum = [df.sum(axis = 1)[i] for i in range(5)]\n",
    "\n",
    "df['평균'] = df_mean\n",
    "df['합계'] = df_sum\n",
    "\n",
    "df"
   ],
   "metadata": {
    "collapsed": false,
    "pycharm": {
     "name": "#%%24\n"
    }
   }
  },
  {
   "cell_type": "code",
   "execution_count": 100,
   "outputs": [
    {
     "data": {
      "text/plain": "       val1  val2  val3\nlabel                  \nA         3    -3     5\nB        12   -12    19",
      "text/html": "<div>\n<style scoped>\n    .dataframe tbody tr th:only-of-type {\n        vertical-align: middle;\n    }\n\n    .dataframe tbody tr th {\n        vertical-align: top;\n    }\n\n    .dataframe thead th {\n        text-align: right;\n    }\n</style>\n<table border=\"1\" class=\"dataframe\">\n  <thead>\n    <tr style=\"text-align: right;\">\n      <th></th>\n      <th>val1</th>\n      <th>val2</th>\n      <th>val3</th>\n    </tr>\n    <tr>\n      <th>label</th>\n      <th></th>\n      <th></th>\n      <th></th>\n    </tr>\n  </thead>\n  <tbody>\n    <tr>\n      <th>A</th>\n      <td>3</td>\n      <td>-3</td>\n      <td>5</td>\n    </tr>\n    <tr>\n      <th>B</th>\n      <td>12</td>\n      <td>-12</td>\n      <td>19</td>\n    </tr>\n  </tbody>\n</table>\n</div>"
     },
     "execution_count": 100,
     "metadata": {},
     "output_type": "execute_result"
    }
   ],
   "source": [
    "import pandas as pd\n",
    "\n",
    "df = pd.DataFrame({'val1': [1, 2, 3, 4, 5], 'val2': [-1, -2, -3, -4, -5],\n",
    "                   'val3': [2, 3, 4, 7, 8], 'label': ['A', 'A', 'B', 'B', 'B']})\n",
    "\n",
    "df.groupby(['label']).sum()"
   ],
   "metadata": {
    "collapsed": false,
    "pycharm": {
     "name": "#%%25\n"
    }
   }
  },
  {
   "cell_type": "code",
   "execution_count": 106,
   "outputs": [
    {
     "data": {
      "text/plain": "       val1  val2      val3\nlabel                      \nA       1.5  -1.5  2.500000\nB       4.0  -4.0  6.333333",
      "text/html": "<div>\n<style scoped>\n    .dataframe tbody tr th:only-of-type {\n        vertical-align: middle;\n    }\n\n    .dataframe tbody tr th {\n        vertical-align: top;\n    }\n\n    .dataframe thead th {\n        text-align: right;\n    }\n</style>\n<table border=\"1\" class=\"dataframe\">\n  <thead>\n    <tr style=\"text-align: right;\">\n      <th></th>\n      <th>val1</th>\n      <th>val2</th>\n      <th>val3</th>\n    </tr>\n    <tr>\n      <th>label</th>\n      <th></th>\n      <th></th>\n      <th></th>\n    </tr>\n  </thead>\n  <tbody>\n    <tr>\n      <th>A</th>\n      <td>1.5</td>\n      <td>-1.5</td>\n      <td>2.500000</td>\n    </tr>\n    <tr>\n      <th>B</th>\n      <td>4.0</td>\n      <td>-4.0</td>\n      <td>6.333333</td>\n    </tr>\n  </tbody>\n</table>\n</div>"
     },
     "execution_count": 106,
     "metadata": {},
     "output_type": "execute_result"
    }
   ],
   "source": [
    "import pandas as pd\n",
    "\n",
    "df = pd.DataFrame({'val1': [1, 2, 3, 4, 5], 'val2': [-1, -2, -3, -4, -5],\n",
    "                   'val3': [2, 3, 4, 7, 8], 'label': ['A', 'A', 'B', 'B', 'B']})\n",
    "\n",
    "df.pivot_table(df, ['label'])"
   ],
   "metadata": {
    "collapsed": false,
    "pycharm": {
     "name": "#%%26\n"
    }
   }
  }
 ],
 "metadata": {
  "kernelspec": {
   "display_name": "Python 3",
   "language": "python",
   "name": "python3"
  },
  "language_info": {
   "codemirror_mode": {
    "name": "ipython",
    "version": 2
   },
   "file_extension": ".py",
   "mimetype": "text/x-python",
   "name": "python",
   "nbconvert_exporter": "python",
   "pygments_lexer": "ipython2",
   "version": "2.7.6"
  }
 },
 "nbformat": 4,
 "nbformat_minor": 0
}